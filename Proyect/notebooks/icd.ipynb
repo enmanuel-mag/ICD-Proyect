{
 "cells": [
  {
   "cell_type": "code",
   "execution_count": 1,
   "source": [
    "import math\n",
    "import time\n",
    "import json\n",
    "import scipy\n",
    "import pickle\n",
    "import numpy as np\n",
    "import pandas as pd\n",
    "import seaborn as sns\n",
    "from scipy import stats\n",
    "import matplotlib.pyplot as plt\n",
    "%matplotlib inline\n",
    "plt.figure(figsize=(20,5))"
   ],
   "outputs": [
    {
     "output_type": "execute_result",
     "data": {
      "text/plain": [
       "<Figure size 1440x360 with 0 Axes>"
      ]
     },
     "metadata": {},
     "execution_count": 1
    },
    {
     "output_type": "display_data",
     "data": {
      "text/plain": [
       "<Figure size 1440x360 with 0 Axes>"
      ]
     },
     "metadata": {}
    }
   ],
   "metadata": {}
  },
  {
   "cell_type": "code",
   "execution_count": 35,
   "source": [
    "df = pd.read_pickle('../data/shippify_icd_new.pkl', compression='gzip')\n",
    "df = df.dropna(subset=['pickup_effective_dt', 'delivery_effective'])\n",
    "df.info()"
   ],
   "outputs": [
    {
     "output_type": "stream",
     "name": "stdout",
     "text": [
      "<class 'pandas.core.frame.DataFrame'>\n",
      "Int64Index: 226828 entries, 0 to 251822\n",
      "Data columns (total 22 columns):\n",
      " #   Column               Non-Null Count   Dtype              \n",
      "---  ------               --------------   -----              \n",
      " 0   id                   226828 non-null  object             \n",
      " 1   route_id             223343 non-null  object             \n",
      " 2   creation_date        226828 non-null  datetime64[ns, UTC]\n",
      " 3   delivery_type        226828 non-null  object             \n",
      " 4   city                 226828 non-null  int8               \n",
      " 5   cost                 226828 non-null  float64            \n",
      " 6   total_size           226828 non-null  int64              \n",
      " 7   distance             226828 non-null  float64            \n",
      " 8   company_id           226828 non-null  int64              \n",
      " 9   company_type         226828 non-null  int64              \n",
      " 10  network_id           226828 non-null  int16              \n",
      " 11  pickup_dt            226828 non-null  datetime64[ns, UTC]\n",
      " 12  pickup_effective_dt  226828 non-null  datetime64[ns, UTC]\n",
      " 13  pickuplat            226828 non-null  float64            \n",
      " 14  pickuplng            226828 non-null  float64            \n",
      " 15  pickup_location      226828 non-null  object             \n",
      " 16  delivery_dt          226828 non-null  datetime64[ns, UTC]\n",
      " 17  delivery_effective   226828 non-null  datetime64[ns, UTC]\n",
      " 18  lat                  226828 non-null  float64            \n",
      " 19  long                 226828 non-null  float64            \n",
      " 20  delivery_location    226828 non-null  object             \n",
      " 21  items                226828 non-null  object             \n",
      "dtypes: datetime64[ns, UTC](5), float64(6), int16(1), int64(3), int8(1), object(6)\n",
      "memory usage: 37.0+ MB\n"
     ]
    }
   ],
   "metadata": {}
  },
  {
   "cell_type": "markdown",
   "source": [
    "### **Agregar codigo necesario debajo de su nombre**"
   ],
   "metadata": {}
  },
  {
   "cell_type": "markdown",
   "source": [
    "## Enmanuel Magallanes"
   ],
   "metadata": {}
  },
  {
   "cell_type": "code",
   "execution_count": 137,
   "source": [
    "def set_labels(title=None, x_label=None, y_label=None, fontsize=14, legend=None):\n",
    "  if title is not None:\n",
    "    plt.title(title, fontsize=fontsize)\n",
    "  if x_label is not None:\n",
    "    plt.xlabel(x_label, fontsize=fontsize)\n",
    "  if y_label is not None:\n",
    "    plt.ylabel(y_label, fontsize=fontsize)\n",
    "  if legend is not None:\n",
    "    legend['object'].set_title('Delivery time')\n",
    "    new_labels = ['Late', 'At time']\n",
    "    for t, l in zip(legend['object'].texts, new_labels): t.set_text(l)\n",
    "\n",
    "def with_hue(plot, feature, categories, hue_categories):\n",
    "  a = [p.get_height() for p in plot.patches]\n",
    "  patch = [p for p in plot.patches]\n",
    "  for i in range(categories):\n",
    "    total = a[i] + a[i+categories]\n",
    "    for j in range(hue_categories):\n",
    "      percentage = '{:.1f}%'.format(100 * a[(j*categories + i)]/total)\n",
    "      x = patch[(j*categories + i)].get_x() + patch[(j*categories + i)].get_width() / 2 - 0.15\n",
    "      y = patch[(j*categories + i)].get_y() + patch[(j*categories + i)].get_height() \n",
    "      plt.annotate(percentage, (x, y), size = 12)\n",
    "  plt.show()"
   ],
   "outputs": [],
   "metadata": {}
  },
  {
   "cell_type": "code",
   "execution_count": null,
   "source": [
    "## Question: cual son las franjas horarias en las que se regitran mas tareas atrasadas y de que (tipo|peso) son?\n",
    "## Question: Are the heaviest tasks the ones that register the most delays at the time of delivery?"
   ],
   "outputs": [],
   "metadata": {}
  },
  {
   "cell_type": "code",
   "execution_count": 40,
   "source": [
    "def sum_total_weight(row):\n",
    "  items = json.loads(row)\n",
    "  total_weight = 0\n",
    "  for item in items:\n",
    "    try:\n",
    "      weigth = item['weight']\n",
    "      if weigth == 'NaN':\n",
    "        total_weight += 0\n",
    "      else:\n",
    "        total_weight += float(weigth)\n",
    "    except:\n",
    "      total_weight += 0\n",
    "  return total_weight\n",
    "df['total_weight'] = df['items'].apply(sum_total_weight)\n",
    "\n",
    "# Remove outlayers using the z-score\n",
    "z_scores = stats.zscore(df['total_weigth'])\n",
    "abs_z_scores = np.abs(z_scores)\n",
    "filtered_entries = abs_z_scores < 3\n",
    "#df = df[ filtered_entries ]\n",
    "\n",
    "labels = ['[0,0.5) kg', '[0.5,1) kg', '[1,1.5) kg', '[1.5,2) kg', '[2,2.5) kg', '[2.5,3) kg', '[3,3.5) kg', '[3.5 kg,inf) kg']\n",
    "df['class_weight'] = pd.cut(df['total_weight'], bins=[0, 0.5, 1, 1.5, 2, 2.5, 3, 3.5, np.inf], labels=labels, include_lowest=True)"
   ],
   "outputs": [],
   "metadata": {}
  },
  {
   "cell_type": "code",
   "execution_count": 83,
   "source": [
    "size_dict = { 1: 'X Small', 2: 'Small', 3: 'Medium', 4: 'Large', 5: 'X Large' }"
   ],
   "outputs": [],
   "metadata": {}
  },
  {
   "cell_type": "code",
   "execution_count": 85,
   "source": [
    "df['total_size'] = df['total_size'].apply(lambda size: size_dict.get(size, 3))"
   ],
   "outputs": [],
   "metadata": {}
  },
  {
   "cell_type": "code",
   "execution_count": 138,
   "source": [
    "plt.figure(figsize=(10,5))\n",
    "sns.countplot(data=df, x='total_size', order=size_dict.values())\n",
    "set_labels('Frecuencia de los tipos de peso', 'Tipo de peso', 'Frecuencia')"
   ],
   "outputs": [
    {
     "output_type": "display_data",
     "data": {
      "text/plain": [
       "<Figure size 720x360 with 1 Axes>"
      ],
      "image/png": "[encoded data removed]"
     },
     "metadata": {
      "needs_background": "light"
     }
    }
   ],
   "metadata": {}
  },
  {
   "cell_type": "code",
   "execution_count": 93,
   "source": [
    "# Add column to mark task that was deliveried with delay\n",
    "df['is_late'] = df['delivery_dt'] < df['delivery_effective']"
   ],
   "outputs": [],
   "metadata": {}
  },
  {
   "cell_type": "code",
   "execution_count": 95,
   "source": [
    "gwl = df[['id', 'total_size', 'is_late']].groupby(['total_size', 'is_late'])['id'].count().reset_index()"
   ],
   "outputs": [],
   "metadata": {}
  },
  {
   "cell_type": "code",
   "execution_count": 139,
   "source": [
    "plt.figure(figsize=(15,7))\n",
    "f = sns.barplot(data=gwl, x='total_size', y='id', hue='is_late')\n",
    "set_labels(\n",
    "  'Amount of tasks per type of size', 'Type of size', 'Amount of tasks', \n",
    "  legend={'object': f.get_legend(), 'title': 'Delivery time', 'texts': ['Late', 'Not late']\n",
    "})\n",
    "with_hue(f, df['total_size'], 5, 2)"
   ],
   "outputs": [
    {
     "output_type": "display_data",
     "data": {
      "text/plain": [
       "<Figure size 1080x504 with 1 Axes>"
      ],
      "image/png": "[encoded data removed]"
     },
     "metadata": {
      "needs_background": "light"
     }
    }
   ],
   "metadata": {}
  },
  {
   "cell_type": "markdown",
   "source": [
    "A primera vista, el porcentaje de paquetes retrasados no es ni directa ni directamente proporcional al peso. Esto debido a que no se registra un aumento o disminución en el porcentaje de paquetes con atrasos, conforme aumenta su peso. Por tanto, el peso total de la entrega no afecta a la puntualidad de la misma.\n"
   ],
   "metadata": {}
  },
  {
   "cell_type": "code",
   "execution_count": null,
   "source": [
    "## Question 2: La intensidad del trafico en el punto destino de una entrega influje en la puntualidad de la misma?\n",
    "## cantidad de entregas en un radio específico\n",
    "## considerar la densidad de entregas en un radio especifico, en una ventana de tiempo. \n",
    "# Basado en lat.long un radio de X km y basado en delivery date una ventana de X horas, cuantas entregas hay\n",
    "## considerar cuantas entregas fueron creadas ese día en esa ciudad"
   ],
   "outputs": [],
   "metadata": {}
  },
  {
   "cell_type": "code",
   "execution_count": null,
   "source": [
    "def haversine_distance(x, y):\n",
    "  \"\"\"\n",
    "  Calculate the great circle distance between two points\n",
    "  on the earth (specified in decimal degrees)\n",
    "  \"\"\"\n",
    "  # convert decimal degrees to radians\n",
    "  lon1, lat1, lon2, lat2 = map(math.radians, [x[0], x[1], y[0], y[1]])\n",
    "\n",
    "  # haversine formula\n",
    "  dlon = lon2 - lon1\n",
    "  dlat = lat2 - lat1\n",
    "  a = math.sin(dlat / 2) ** 2 + math.cos(lat1) * math.cos(lat2) * math.sin(dlon / 2) ** 2\n",
    "  c = 2 * math.asin(math.sqrt(a))\n",
    "  R = 6371\n",
    "  return R * c"
   ],
   "outputs": [],
   "metadata": {}
  },
  {
   "cell_type": "code",
   "execution_count": null,
   "source": [
    "def calcualte_distance(point, dataframe):\n",
    "  return dataframe.apply(\n",
    "    lambda row: haversine_distance((row['lon'], row['lat']), point),\n",
    "    axis=1\n",
    "  )"
   ],
   "outputs": [],
   "metadata": {}
  },
  {
   "cell_type": "code",
   "execution_count": null,
   "source": [
    "def task_around(row):\n",
    "  diffs = row['delivery_dt'] - df['delivery_effective']\n",
    "  diffs = diffs.apply(lambda x: abs(x.total_seconds())) / 3600\n",
    "  df = df[ diffs <= WINDOW_TIME ]\n",
    "  distances = calcualte_distance(\n",
    "    (row['lon'], row['lat']),\n",
    "    df[['lon', 'lat']]\n",
    "  )\n",
    "\n",
    "  distances_filt = distances <= KMS_AROUND\n"
   ],
   "outputs": [],
   "metadata": {}
  },
  {
   "cell_type": "code",
   "execution_count": null,
   "source": [
    "KMS_AROUND = 10\n",
    "WINDOW_TIME = '2H'\n",
    "df.apply(task_around, axis=1)"
   ],
   "outputs": [],
   "metadata": {}
  },
  {
   "cell_type": "markdown",
   "source": [
    "### Hour late vs Total weight"
   ],
   "metadata": {}
  },
  {
   "cell_type": "code",
   "execution_count": null,
   "source": [
    "diff = df['delivery'] - df['delivery_effective']\n",
    "df['delay_delivery'] = diff.apply(lambda x: abs(int(x.total_seconds()))) / 3600"
   ],
   "outputs": [],
   "metadata": {}
  },
  {
   "cell_type": "code",
   "execution_count": null,
   "source": [],
   "outputs": [],
   "metadata": {}
  },
  {
   "cell_type": "markdown",
   "source": [
    "## Josue Cobos"
   ],
   "metadata": {}
  },
  {
   "cell_type": "code",
   "execution_count": null,
   "source": [
    "#Question: Are those deliveries that are further from the economic center of Belo Horizonte those with the longest delivery delay?"
   ],
   "outputs": [],
   "metadata": {}
  },
  {
   "cell_type": "code",
   "execution_count": null,
   "source": [
    "#calculate distance between 2 lat long points\n",
    "def calculateDistance(point, anotherPoint):\n",
    "    lat1, lon1 = point\n",
    "    lat2, lon2 = anotherPoint \n",
    "    R = 6373.0\n",
    "    lat1 = math.radians(lat1)\n",
    "    lon1 = math.radians(lon1)\n",
    "    lat2 = math.radians(lat2)\n",
    "    lon2 = math.radians(lon2)\n",
    "\n",
    "    dlon = lon2 - lon1\n",
    "    dlat = lat2 - lat1\n",
    "\n",
    "    a = math.sin(dlat / 2)**2 + math.cos(lat1) * math.cos(lat2) * math.sin(dlon / 2)**2\n",
    "    c = 2 * math.atan2(math.sqrt(a), math.sqrt(1 - a))\n",
    "    distance = R * c\n",
    "    return distance #kilometers"
   ],
   "outputs": [],
   "metadata": {}
  },
  {
   "cell_type": "code",
   "execution_count": null,
   "source": [
    "#For this question we will assume Barreiro in the most important regional administration of Belo Horizonte\n",
    "BARREIROPOINT = (-19.977, -44.0145)\n",
    "def getDistanceFromA(row):\n",
    "  #print(row)\n",
    "  return calculateDistance(BARREIROPOINT, (row['lat'], row['long']))\n",
    "  #return row #distance"
   ],
   "outputs": [],
   "metadata": {}
  },
  {
   "cell_type": "code",
   "execution_count": null,
   "source": [
    "df['dst_to_barreiro'] = df[['lat', 'long']].apply(getDistanceFromA, axis=1)"
   ],
   "outputs": [],
   "metadata": {
    "scrolled": false
   }
  },
  {
   "cell_type": "code",
   "execution_count": null,
   "source": [
    "plt.figure(figsize=(15,7))\n",
    "subdf = df[['dst_to_barreiro','delay_delivery']]\n",
    "f2 = sns.scatterplot(x=subdf['dst_to_barreiro'], y=subdf['delay_delivery'])\n",
    "#with_hue(f, df.class_weight, 8, 2)"
   ],
   "outputs": [],
   "metadata": {
    "collapsed": true
   }
  },
  {
   "cell_type": "code",
   "execution_count": null,
   "source": [
    "subdf.corr()"
   ],
   "outputs": [],
   "metadata": {}
  },
  {
   "cell_type": "code",
   "execution_count": null,
   "source": [
    "#Answer: Due to the non-existent correlation between the delay of shipments (delay_delivery) and distance to Barreiro (dst_to_barreiro), we can conclude that no matter how far your order is, it does not necessarily mean that it has a longer delay time."
   ],
   "outputs": [],
   "metadata": {}
  }
 ],
 "metadata": {
  "kernelspec": {
   "name": "python3",
   "display_name": "Python 3.8.10 64-bit ('tensor_m1': conda)"
  },
  "language_info": {
   "codemirror_mode": {
    "name": "ipython",
    "version": 3
   },
   "file_extension": ".py",
   "mimetype": "text/x-python",
   "name": "python",
   "nbconvert_exporter": "python",
   "pygments_lexer": "ipython3",
   "version": "3.8.10"
  },
  "interpreter": {
   "hash": "010e91eeda4f87380114066045952f19d1c8b5543feee126bbd5887474cb752b"
  }
 },
 "nbformat": 4,
 "nbformat_minor": 2
}