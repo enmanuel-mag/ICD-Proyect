{
 "cells": [
  {
   "cell_type": "code",
   "execution_count": null,
   "source": [
    "import math\n",
    "import time\n",
    "import json\n",
    "import scipy\n",
    "import pickle\n",
    "import numpy as np\n",
    "from scipy import stats\n",
    "import pandas as pd\n",
    "import seaborn as sns\n",
    "import matplotlib.pyplot as plt\n",
    "%matplotlib inline\n",
    "plt.figure(figsize=(20,5))"
   ],
   "outputs": [],
   "metadata": {}
  },
  {
   "cell_type": "code",
   "execution_count": null,
   "source": [
    "df = pd.read_pickle('../data/shippify_icd.pkl', compression='gzip')\n",
    "df = df.dropna(subset=['pickup_effective_dt', 'delivery_effective'])"
   ],
   "outputs": [],
   "metadata": {}
  },
  {
   "cell_type": "markdown",
   "source": [
    "### **Agregar codigo necesario debajo de su nombre**"
   ],
   "metadata": {}
  },
  {
   "cell_type": "markdown",
   "source": [
    "## Enmanuel Magallanes"
   ],
   "metadata": {}
  },
  {
   "cell_type": "code",
   "execution_count": null,
   "source": [
    "def with_hue(plot, feature, Number_of_categories, hue_categories):\n",
    "    a = [p.get_height() for p in plot.patches]\n",
    "    patch = [p for p in plot.patches]\n",
    "    for i in range(Number_of_categories):\n",
    "        total = a[i] + a[i+8]\n",
    "        for j in range(hue_categories):\n",
    "            percentage = '{:.1f}%'.format(100 * a[(j*8 + i)]/total)\n",
    "            x = patch[(j*Number_of_categories + i)].get_x() + patch[(j*Number_of_categories + i)].get_width() / 2 - 0.15\n",
    "            y = patch[(j*Number_of_categories + i)].get_y() + patch[(j*Number_of_categories + i)].get_height() \n",
    "            plt.annotate(percentage, (x, y), size = 12)\n",
    "    plt.show()"
   ],
   "outputs": [],
   "metadata": {}
  },
  {
   "cell_type": "code",
   "execution_count": null,
   "source": [
    "## Question: cual son las franjas horarias en las que se regitran mas tareas atrasadas y de que (tipo|peso) son?\n",
    "## Question: Are the heaviest tasks the ones that register the most delays at the time of delivery?"
   ],
   "outputs": [],
   "metadata": {}
  },
  {
   "cell_type": "code",
   "execution_count": null,
   "source": [
    "def sum_total_weight(row):\n",
    "  items = json.loads(row)\n",
    "  total_weight = 0\n",
    "  for item in items:\n",
    "    try:\n",
    "      total_weight += float(item['weight'])     \n",
    "    except:\n",
    "      total_weight += 0\n",
    "  return total_weight\n",
    "\n",
    "df['total_weight'] = df['items'].apply(sum_total_weight).astype('float32')"
   ],
   "outputs": [],
   "metadata": {}
  },
  {
   "cell_type": "code",
   "execution_count": null,
   "source": [
    "# Remove outlayers\n",
    "z_scores = stats.zscore(df['total_weight'])\n",
    "abs_z_scores = np.abs(z_scores)\n",
    "filtered_entries = abs_z_scores < 3\n",
    "df = df[ filtered_entries ]"
   ],
   "outputs": [],
   "metadata": {}
  },
  {
   "cell_type": "code",
   "execution_count": null,
   "source": [
    "plt.figure(figsize=(10,5))\n",
    "plt.xticks([x for x in range(16)])\n",
    "sns.kdeplot(data=df, x='total_weight', bw_adjust=2)"
   ],
   "outputs": [],
   "metadata": {}
  },
  {
   "cell_type": "code",
   "execution_count": null,
   "source": [
    "## Boxplot of total_weight\n",
    "sns.boxenplot(data=df, x='total_weight')"
   ],
   "outputs": [],
   "metadata": {}
  },
  {
   "cell_type": "code",
   "execution_count": null,
   "source": [
    "labels = ['[0,0.5) kg', '[0.5,1) kg', '[1,1.5) kg', '[1.5,2) kg', '[2,2.5) kg', '[2.5,3) kg', '[3,3.5) kg', '[3.5 kg,inf) kg']\n",
    "df['class_weight'] = pd.cut(df['total_weight'], bins=[0, 0.5, 1, 1.5, 2, 2.5, 3, 3.5, np.inf], labels=labels, include_lowest=True)"
   ],
   "outputs": [],
   "metadata": {}
  },
  {
   "cell_type": "code",
   "execution_count": null,
   "source": [
    "df['class_weight'].value_counts()"
   ],
   "outputs": [],
   "metadata": {}
  },
  {
   "cell_type": "code",
   "execution_count": null,
   "source": [
    "df.columns"
   ],
   "outputs": [],
   "metadata": {}
  },
  {
   "cell_type": "code",
   "execution_count": null,
   "source": [
    "df['is_late'] = df['delivery'] < df['delivery_effective']"
   ],
   "outputs": [],
   "metadata": {}
  },
  {
   "cell_type": "code",
   "execution_count": null,
   "source": [
    "gwl = df[['id', 'class_weight', 'is_late']].groupby(['class_weight', 'is_late'])['id'].count().reset_index()"
   ],
   "outputs": [],
   "metadata": {}
  },
  {
   "cell_type": "code",
   "execution_count": null,
   "source": [
    "plt.figure(figsize=(15,7))\n",
    "f = sns.barplot(data=gwl, x='class_weight', y='id', hue='is_late')\n",
    "with_hue(f, df.class_weight, 8, 2)"
   ],
   "outputs": [],
   "metadata": {}
  },
  {
   "cell_type": "markdown",
   "source": [
    "A primera vista, el porcentaje de paquetes retrasados no es ni directa ni directamente proporcional al peso. Esto debido a que no se registra un aumento o disminución en el porcentaje de paquetes con atrasos, conforme aumenta su peso. Por tanto, el peso total de la entrega no afecta a la puntualidad de la misma.\n"
   ],
   "metadata": {}
  },
  {
   "cell_type": "code",
   "execution_count": null,
   "source": [
    "## Question 2: La intensidad del trafico en el punto destino de una entrega influje en la puntualidad de la misma?\n",
    "## cantidad de entregas en un radio específico\n",
    "## considerar la densidad de entregas en un radio especifico, en una ventana de tiempo. \n",
    "# Basado en lat.long un radio de X km y basado en delivery date una ventana de X horas, cuantas entregas hay\n",
    "## considerar cuantas entregas fueron creadas ese día en esa ciudad"
   ],
   "outputs": [],
   "metadata": {}
  },
  {
   "cell_type": "code",
   "execution_count": null,
   "source": [
    "def haversine_distance(x, y):\n",
    "  \"\"\"\n",
    "  Calculate the great circle distance between two points\n",
    "  on the earth (specified in decimal degrees)\n",
    "  \"\"\"\n",
    "  # convert decimal degrees to radians\n",
    "  lon1, lat1, lon2, lat2 = map(math.radians, [x[0], x[1], y[0], y[1]])\n",
    "\n",
    "  # haversine formula\n",
    "  dlon = lon2 - lon1\n",
    "  dlat = lat2 - lat1\n",
    "  a = math.sin(dlat / 2) ** 2 + math.cos(lat1) * math.cos(lat2) * math.sin(dlon / 2) ** 2\n",
    "  c = 2 * math.asin(math.sqrt(a))\n",
    "  R = 6371\n",
    "  return R * c"
   ],
   "outputs": [],
   "metadata": {}
  },
  {
   "cell_type": "code",
   "execution_count": null,
   "source": [
    "def calcualte_distance(point, dataframe):\n",
    "  return dataframe.apply(\n",
    "    lambda row: haversine_distance((row['lon'], row['lat']), point),\n",
    "    axis=1\n",
    "  )"
   ],
   "outputs": [],
   "metadata": {}
  },
  {
   "cell_type": "code",
   "execution_count": null,
   "source": [
    "def task_around(row):\n",
    "  diffs = row['delivery_dt'] - df['delivery_effective']\n",
    "  diffs = diffs.apply(lambda x: abs(x.total_seconds())) / 3600\n",
    "  df = df[ diffs <= WINDOW_TIME ]\n",
    "  distances = calcualte_distance(\n",
    "    (row['lon'], row['lat']),\n",
    "    df[['lon', 'lat']]\n",
    "  )\n",
    "\n",
    "  distances_filt = distances <= KMS_AROUND\n"
   ],
   "outputs": [],
   "metadata": {}
  },
  {
   "cell_type": "code",
   "execution_count": null,
   "source": [
    "KMS_AROUND = 10\n",
    "WINDOW_TIME = '2H'\n",
    "df.apply(task_around, axis=1)"
   ],
   "outputs": [],
   "metadata": {}
  },
  {
   "cell_type": "markdown",
   "source": [
    "### Hour late vs Total weight"
   ],
   "metadata": {}
  },
  {
   "cell_type": "code",
   "execution_count": null,
   "source": [
    "diff = df['delivery'] - df['delivery_effective']\n",
    "df['delay_delivery'] = diff.apply(lambda x: abs(int(x.total_seconds()))) / 3600"
   ],
   "outputs": [],
   "metadata": {}
  },
  {
   "cell_type": "code",
   "execution_count": null,
   "source": [],
   "outputs": [],
   "metadata": {}
  },
  {
   "cell_type": "markdown",
   "source": [
    "## Josue Cobos"
   ],
   "metadata": {}
  },
  {
   "cell_type": "code",
   "execution_count": null,
   "source": [
    "#Question: Are those deliveries that are further from the economic center of Belo Horizonte those with the longest delivery delay?"
   ],
   "outputs": [],
   "metadata": {}
  },
  {
   "cell_type": "code",
   "execution_count": null,
   "source": [
    "#calculate distance between 2 lat long points\n",
    "def calculateDistance(point, anotherPoint):\n",
    "    lat1, lon1 = point\n",
    "    lat2, lon2 = anotherPoint \n",
    "    R = 6373.0\n",
    "    lat1 = math.radians(lat1)\n",
    "    lon1 = math.radians(lon1)\n",
    "    lat2 = math.radians(lat2)\n",
    "    lon2 = math.radians(lon2)\n",
    "\n",
    "    dlon = lon2 - lon1\n",
    "    dlat = lat2 - lat1\n",
    "\n",
    "    a = math.sin(dlat / 2)**2 + math.cos(lat1) * math.cos(lat2) * math.sin(dlon / 2)**2\n",
    "    c = 2 * math.atan2(math.sqrt(a), math.sqrt(1 - a))\n",
    "    distance = R * c\n",
    "    return distance #kilometers"
   ],
   "outputs": [],
   "metadata": {}
  },
  {
   "cell_type": "code",
   "execution_count": null,
   "source": [
    "#For this question we will assume Barreiro in the most important regional administration of Belo Horizonte\n",
    "BARREIROPOINT = (-19.977, -44.0145)\n",
    "def getDistanceFromA(row):\n",
    "  #print(row)\n",
    "  return calculateDistance(BARREIROPOINT, (row['lat'], row['long']))\n",
    "  #return row #distance"
   ],
   "outputs": [],
   "metadata": {}
  },
  {
   "cell_type": "code",
   "execution_count": null,
   "source": [
    "df['dst_to_barreiro'] = df[['lat', 'long']].apply(getDistanceFromA, axis=1)"
   ],
   "outputs": [],
   "metadata": {
    "scrolled": false
   }
  },
  {
   "cell_type": "code",
   "execution_count": null,
   "source": [
    "plt.figure(figsize=(15,7))\n",
    "subdf = df[['dst_to_barreiro','delay_delivery']]\n",
    "f2 = sns.scatterplot(x=subdf['dst_to_barreiro'], y=subdf['delay_delivery'])\n",
    "#with_hue(f, df.class_weight, 8, 2)"
   ],
   "outputs": [],
   "metadata": {
    "collapsed": true
   }
  },
  {
   "cell_type": "code",
   "execution_count": null,
   "source": [
    "subdf.corr()"
   ],
   "outputs": [],
   "metadata": {}
  },
  {
   "cell_type": "code",
   "execution_count": null,
   "source": [
    "#Answer: Due to the non-existent correlation between the delay of shipments (delay_delivery) and distance to Barreiro (dst_to_barreiro), we can conclude that no matter how far your order is, it does not necessarily mean that it has a longer delay time."
   ],
   "outputs": [],
   "metadata": {}
  }
 ],
 "metadata": {
  "kernelspec": {
   "name": "python3",
   "display_name": "Python 3.8.10 64-bit ('tensor_m1': conda)"
  },
  "language_info": {
   "codemirror_mode": {
    "name": "ipython",
    "version": 3
   },
   "file_extension": ".py",
   "mimetype": "text/x-python",
   "name": "python",
   "nbconvert_exporter": "python",
   "pygments_lexer": "ipython3",
   "version": "3.8.10"
  },
  "interpreter": {
   "hash": "010e91eeda4f87380114066045952f19d1c8b5543feee126bbd5887474cb752b"
  }
 },
 "nbformat": 4,
 "nbformat_minor": 2
}