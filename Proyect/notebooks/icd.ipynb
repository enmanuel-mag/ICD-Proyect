{
 "cells": [
  {
   "cell_type": "code",
   "execution_count": 19,
   "source": [
    "import time\n",
    "import json\n",
    "import scipy\n",
    "import pickle\n",
    "import numpy as np\n",
    "from scipy import stats\n",
    "import pandas as pd\n",
    "import seaborn as sns\n",
    "import matplotlib.pyplot as plt\n",
    "%matplotlib inline\n",
    "plt.figure(figsize=(20,5))"
   ],
   "outputs": [
    {
     "output_type": "execute_result",
     "data": {
      "text/plain": [
       "<Figure size 1440x360 with 0 Axes>"
      ]
     },
     "metadata": {},
     "execution_count": 19
    },
    {
     "output_type": "display_data",
     "data": {
      "text/plain": [
       "<Figure size 1440x360 with 0 Axes>"
      ]
     },
     "metadata": {}
    }
   ],
   "metadata": {}
  },
  {
   "cell_type": "code",
   "execution_count": 36,
   "source": [
    "df = pd.read_pickle('../data/shippify_icd.pkl', compression='gzip')\n",
    "df = df.dropna(subset=['pickup_effective_dt', 'delivery_effective'])"
   ],
   "outputs": [],
   "metadata": {}
  },
  {
   "cell_type": "markdown",
   "source": [
    "### **Agregar codigo necesario debajo de su nombre**"
   ],
   "metadata": {}
  },
  {
   "cell_type": "markdown",
   "source": [
    "## Enmanuel Magallanes"
   ],
   "metadata": {}
  },
  {
   "cell_type": "code",
   "execution_count": 106,
   "source": [
    "def with_hue(plot, feature, Number_of_categories, hue_categories):\n",
    "    a = [p.get_height() for p in plot.patches]\n",
    "    patch = [p for p in plot.patches]\n",
    "    for i in range(Number_of_categories):\n",
    "        total = a[i] + a[i+8]\n",
    "        for j in range(hue_categories):\n",
    "            percentage = '{:.1f}%'.format(100 * a[(j*8 + i)]/total)\n",
    "            x = patch[(j*Number_of_categories + i)].get_x() + patch[(j*Number_of_categories + i)].get_width() / 2 - 0.15\n",
    "            y = patch[(j*Number_of_categories + i)].get_y() + patch[(j*Number_of_categories + i)].get_height() \n",
    "            plt.annotate(percentage, (x, y), size = 12)\n",
    "    plt.show()"
   ],
   "outputs": [],
   "metadata": {}
  },
  {
   "cell_type": "code",
   "execution_count": null,
   "source": [
    "## Question: cual son las franjas horarias en las que se regitran mas tareas atrasadas y de que (tipo|peso) son?\n",
    "## Question: Are the heaviest tasks the ones that register the most delays at the time of delivery?"
   ],
   "outputs": [],
   "metadata": {}
  },
  {
   "cell_type": "code",
   "execution_count": 37,
   "source": [
    "def sum_total_weight(row):\n",
    "  items = json.loads(row)\n",
    "  total_weight = 0\n",
    "  for item in items:\n",
    "    try:\n",
    "      total_weight += float(item['weight'])     \n",
    "    except:\n",
    "      total_weight += 0\n",
    "  return total_weight\n",
    "\n",
    "df['total_weight'] = df['items'].apply(sum_total_weight).astype('float32')"
   ],
   "outputs": [],
   "metadata": {}
  },
  {
   "cell_type": "code",
   "execution_count": 39,
   "source": [
    "# Remove outlayers\n",
    "z_scores = stats.zscore(df['total_weight'])\n",
    "abs_z_scores = np.abs(z_scores)\n",
    "filtered_entries = abs_z_scores < 3\n",
    "df = df[ filtered_entries ]"
   ],
   "outputs": [],
   "metadata": {}
  },
  {
   "cell_type": "code",
   "execution_count": 53,
   "source": [
    "plt.figure(figsize=(10,5))\n",
    "plt.xticks([x for x in range(16)])\n",
    "sns.kdeplot(data=df, x='total_weight', bw_adjust=2)"
   ],
   "outputs": [
    {
     "output_type": "execute_result",
     "data": {
      "text/plain": [
       "<AxesSubplot:xlabel='total_weight', ylabel='Density'>"
      ]
     },
     "metadata": {},
     "execution_count": 53
    },
    {
     "output_type": "display_data",
     "data": {
      "text/plain": [
       "<Figure size 720x360 with 1 Axes>"
      ],
      "image/png": "[encoded data removed]"
     },
     "metadata": {
      "needs_background": "light"
     }
    }
   ],
   "metadata": {}
  },
  {
   "cell_type": "code",
   "execution_count": 55,
   "source": [
    "## Boxplot of total_weight\n",
    "sns.boxenplot(data=df, x='total_weight')"
   ],
   "outputs": [
    {
     "output_type": "execute_result",
     "data": {
      "text/plain": [
       "<AxesSubplot:xlabel='total_weight'>"
      ]
     },
     "metadata": {},
     "execution_count": 55
    },
    {
     "output_type": "display_data",
     "data": {
      "text/plain": [
       "<Figure size 432x288 with 1 Axes>"
      ],
      "image/png": "[encoded data removed]"
     },
     "metadata": {
      "needs_background": "light"
     }
    }
   ],
   "metadata": {}
  },
  {
   "cell_type": "code",
   "execution_count": 56,
   "source": [
    "labels = ['[0,0.5) kg', '[0.5,1) kg', '[1,1.5) kg', '[1.5,2) kg', '[2,2.5) kg', '[2.5,3) kg', '[3,3.5) kg', '[3.5 kg,inf) kg']\n",
    "df['class_weight'] = pd.cut(df['total_weight'], bins=[0, 0.5, 1, 1.5, 2, 2.5, 3, 3.5, np.inf], labels=labels, include_lowest=True)"
   ],
   "outputs": [],
   "metadata": {}
  },
  {
   "cell_type": "code",
   "execution_count": 57,
   "source": [
    "df['class_weight'].value_counts()"
   ],
   "outputs": [
    {
     "output_type": "execute_result",
     "data": {
      "text/plain": [
       "[0,0.5) kg         176206\n",
       "[0.5,1) kg          74690\n",
       "[1.5,2) kg          35297\n",
       "[1,1.5) kg          20836\n",
       "[3.5 kg,inf) kg     18486\n",
       "[2.5,3) kg          13897\n",
       "[2,2.5) kg           6549\n",
       "[3,3.5) kg           2082\n",
       "Name: class_weight, dtype: int64"
      ]
     },
     "metadata": {},
     "execution_count": 57
    }
   ],
   "metadata": {}
  },
  {
   "cell_type": "code",
   "execution_count": 59,
   "source": [
    "df.columns"
   ],
   "outputs": [
    {
     "output_type": "execute_result",
     "data": {
      "text/plain": [
       "Index(['id', 'route_id', 'creation_date', 'delivery_type', 'city', 'cost',\n",
       "       'total_size', 'distance', 'company_id', 'network_id',\n",
       "       'vehicle_capacity', 'pickup_dt', 'pickup_effective_dt', 'pickuplat',\n",
       "       'pickuplng', 'pickup_location', 'delivery', 'delivery_effective', 'lat',\n",
       "       'long', 'delivery_location', 'items', 'total_weight', 'class_weight'],\n",
       "      dtype='object')"
      ]
     },
     "metadata": {},
     "execution_count": 59
    }
   ],
   "metadata": {}
  },
  {
   "cell_type": "code",
   "execution_count": 62,
   "source": [
    "df['is_late'] = df['delivery'] < df['delivery_effective']"
   ],
   "outputs": [],
   "metadata": {}
  },
  {
   "cell_type": "code",
   "execution_count": 70,
   "source": [
    "gwl = df[['id', 'class_weight', 'is_late']].groupby(['class_weight', 'is_late'])['id'].count().reset_index()\n",
    "gwl"
   ],
   "outputs": [
    {
     "output_type": "execute_result",
     "data": {
      "text/plain": [
       "       class_weight  is_late      id\n",
       "0        [0,0.5) kg    False  104349\n",
       "1        [0,0.5) kg     True   71857\n",
       "2        [0.5,1) kg    False   51030\n",
       "3        [0.5,1) kg     True   23660\n",
       "4        [1,1.5) kg    False   14476\n",
       "5        [1,1.5) kg     True    6360\n",
       "6        [1.5,2) kg    False   23754\n",
       "7        [1.5,2) kg     True   11543\n",
       "8        [2,2.5) kg    False    4549\n",
       "9        [2,2.5) kg     True    2000\n",
       "10       [2.5,3) kg    False    9288\n",
       "11       [2.5,3) kg     True    4609\n",
       "12       [3,3.5) kg    False    1472\n",
       "13       [3,3.5) kg     True     610\n",
       "14  [3.5 kg,inf) kg    False   12088\n",
       "15  [3.5 kg,inf) kg     True    6398"
      ],
      "text/html": [
       "<div>\n",
       "<style scoped>\n",
       "    .dataframe tbody tr th:only-of-type {\n",
       "        vertical-align: middle;\n",
       "    }\n",
       "\n",
       "    .dataframe tbody tr th {\n",
       "        vertical-align: top;\n",
       "    }\n",
       "\n",
       "    .dataframe thead th {\n",
       "        text-align: right;\n",
       "    }\n",
       "</style>\n",
       "<table border=\"1\" class=\"dataframe\">\n",
       "  <thead>\n",
       "    <tr style=\"text-align: right;\">\n",
       "      <th></th>\n",
       "      <th>class_weight</th>\n",
       "      <th>is_late</th>\n",
       "      <th>id</th>\n",
       "    </tr>\n",
       "  </thead>\n",
       "  <tbody>\n",
       "    <tr>\n",
       "      <th>0</th>\n",
       "      <td>[0,0.5) kg</td>\n",
       "      <td>False</td>\n",
       "      <td>104349</td>\n",
       "    </tr>\n",
       "    <tr>\n",
       "      <th>1</th>\n",
       "      <td>[0,0.5) kg</td>\n",
       "      <td>True</td>\n",
       "      <td>71857</td>\n",
       "    </tr>\n",
       "    <tr>\n",
       "      <th>2</th>\n",
       "      <td>[0.5,1) kg</td>\n",
       "      <td>False</td>\n",
       "      <td>51030</td>\n",
       "    </tr>\n",
       "    <tr>\n",
       "      <th>3</th>\n",
       "      <td>[0.5,1) kg</td>\n",
       "      <td>True</td>\n",
       "      <td>23660</td>\n",
       "    </tr>\n",
       "    <tr>\n",
       "      <th>4</th>\n",
       "      <td>[1,1.5) kg</td>\n",
       "      <td>False</td>\n",
       "      <td>14476</td>\n",
       "    </tr>\n",
       "    <tr>\n",
       "      <th>5</th>\n",
       "      <td>[1,1.5) kg</td>\n",
       "      <td>True</td>\n",
       "      <td>6360</td>\n",
       "    </tr>\n",
       "    <tr>\n",
       "      <th>6</th>\n",
       "      <td>[1.5,2) kg</td>\n",
       "      <td>False</td>\n",
       "      <td>23754</td>\n",
       "    </tr>\n",
       "    <tr>\n",
       "      <th>7</th>\n",
       "      <td>[1.5,2) kg</td>\n",
       "      <td>True</td>\n",
       "      <td>11543</td>\n",
       "    </tr>\n",
       "    <tr>\n",
       "      <th>8</th>\n",
       "      <td>[2,2.5) kg</td>\n",
       "      <td>False</td>\n",
       "      <td>4549</td>\n",
       "    </tr>\n",
       "    <tr>\n",
       "      <th>9</th>\n",
       "      <td>[2,2.5) kg</td>\n",
       "      <td>True</td>\n",
       "      <td>2000</td>\n",
       "    </tr>\n",
       "    <tr>\n",
       "      <th>10</th>\n",
       "      <td>[2.5,3) kg</td>\n",
       "      <td>False</td>\n",
       "      <td>9288</td>\n",
       "    </tr>\n",
       "    <tr>\n",
       "      <th>11</th>\n",
       "      <td>[2.5,3) kg</td>\n",
       "      <td>True</td>\n",
       "      <td>4609</td>\n",
       "    </tr>\n",
       "    <tr>\n",
       "      <th>12</th>\n",
       "      <td>[3,3.5) kg</td>\n",
       "      <td>False</td>\n",
       "      <td>1472</td>\n",
       "    </tr>\n",
       "    <tr>\n",
       "      <th>13</th>\n",
       "      <td>[3,3.5) kg</td>\n",
       "      <td>True</td>\n",
       "      <td>610</td>\n",
       "    </tr>\n",
       "    <tr>\n",
       "      <th>14</th>\n",
       "      <td>[3.5 kg,inf) kg</td>\n",
       "      <td>False</td>\n",
       "      <td>12088</td>\n",
       "    </tr>\n",
       "    <tr>\n",
       "      <th>15</th>\n",
       "      <td>[3.5 kg,inf) kg</td>\n",
       "      <td>True</td>\n",
       "      <td>6398</td>\n",
       "    </tr>\n",
       "  </tbody>\n",
       "</table>\n",
       "</div>"
      ]
     },
     "metadata": {},
     "execution_count": 70
    }
   ],
   "metadata": {}
  },
  {
   "cell_type": "code",
   "execution_count": 110,
   "source": [
    "plt.figure(figsize=(15,7))\n",
    "f = sns.barplot(data=gwl, x='class_weight', y='id', hue='is_late')\n",
    "with_hue(f, df.class_weight, 8, 2)"
   ],
   "outputs": [
    {
     "output_type": "display_data",
     "data": {
      "text/plain": [
       "<Figure size 1080x504 with 1 Axes>"
      ],
      "image/png": "[encoded data removed]"
     },
     "metadata": {
      "needs_background": "light"
     }
    }
   ],
   "metadata": {}
  },
  {
   "cell_type": "markdown",
   "source": [
    "A primera vista, el porcentaje de paquetes con retraso no es directamente ni directamente proporcioanl al peso. Por lo que el peso total de la entrega no afecta en la puntualidad de la entrega"
   ],
   "metadata": {}
  },
  {
   "cell_type": "markdown",
   "source": [
    "### Hour late vs Total weight"
   ],
   "metadata": {}
  },
  {
   "cell_type": "code",
   "execution_count": 137,
   "source": [
    "diff = df['delivery'] - df['delivery_effective']\n",
    "df['delay_delivery'] = diff.apply(lambda x: abs(int(x.total_seconds()))) / 3600"
   ],
   "outputs": [],
   "metadata": {}
  },
  {
   "cell_type": "markdown",
   "source": [
    "## Josue Cobos"
   ],
   "metadata": {}
  },
  {
   "cell_type": "code",
   "execution_count": null,
   "source": [
    "## Question: cual son las franjas horarias en las que se regitran mas tareas atrasadas y de que (tipo|peso) son?"
   ],
   "outputs": [],
   "metadata": {}
  }
 ],
 "metadata": {
  "kernelspec": {
   "display_name": "Python 3",
   "language": "python",
   "name": "python3"
  },
  "language_info": {
   "codemirror_mode": {
    "name": "ipython",
    "version": 3
   },
   "file_extension": ".py",
   "mimetype": "text/x-python",
   "name": "python",
   "nbconvert_exporter": "python",
   "pygments_lexer": "ipython3",
   "version": "3.8.6"
  }
 },
 "nbformat": 4,
 "nbformat_minor": 2
}