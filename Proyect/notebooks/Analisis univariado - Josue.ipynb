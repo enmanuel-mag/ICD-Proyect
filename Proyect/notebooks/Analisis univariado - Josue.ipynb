{
 "cells": [
  {
   "cell_type": "markdown",
   "metadata": {},
   "source": [
    "## Import libraries"
   ]
  },
  {
   "cell_type": "code",
   "execution_count": 4,
   "metadata": {},
   "outputs": [
    {
     "data": {
      "text/plain": [
       "<Figure size 1440x360 with 0 Axes>"
      ]
     },
     "metadata": {},
     "output_type": "display_data"
    }
   ],
   "source": [
    "import os\n",
    "import math\n",
    "import json\n",
    "import folium\n",
    "import pickle\n",
    "import warnings\n",
    "import numpy as np\n",
    "import pandas as pd\n",
    "import altair as alt\n",
    "import seaborn as sns\n",
    "from scipy import stats\n",
    "import matplotlib.pyplot as plt\n",
    "from sklearn.decomposition import PCA\n",
    "from numpy import cos, sin, arcsin, sqrt\n",
    "from sklearn.preprocessing import MinMaxScaler\n",
    "from yellowbrick.cluster import KElbowVisualizer\n",
    "from sklearn.cluster import KMeans, MiniBatchKMeans\n",
    "from yellowbrick.cluster import InterclusterDistance\n",
    "from sklearn.metrics.pairwise import cosine_similarity, cosine_distances\n",
    "warnings.simplefilter(action='ignore', category=Warning)\n",
    "warnings.simplefilter(action='ignore', category=FutureWarning)\n",
    "%matplotlib inline\n",
    "plt.figure(figsize=(20,5))\n",
    "\n",
    "PALETTE_DEG = [\"FF\"]\n",
    "PALETTE = [\"#FFC30D\", \"#EF404B\"]\n",
    "PALETTE_ALT = [\"#40EFE4\", \"#EF404B\"]\n",
    "\n",
    "R = 6371\n",
    "KMS_AROUND = 3.20\n",
    "WINDOW_TIME = 3.12"
   ]
  },
  {
   "cell_type": "code",
   "execution_count": 5,
   "metadata": {},
   "outputs": [],
   "source": [
    "df = pd.read_pickle(\"../data/shippify_icd_task_new.pkl\", compression='gzip')\n",
    "df['delta'] = (df.delivery_dt - df.delivery_effective).dt.total_seconds() / 3600"
   ]
  },
  {
   "cell_type": "markdown",
   "metadata": {},
   "source": [
    "## Utils functions"
   ]
  },
  {
   "cell_type": "code",
   "execution_count": 6,
   "metadata": {},
   "outputs": [],
   "source": [
    "def set_labels(title=None, x_label=None, y_label=None, fontsize=14, legend=None):\n",
    "  if title is not None:\n",
    "    plt.title(title, fontsize=fontsize)\n",
    "  if x_label is not None:\n",
    "    plt.xlabel(x_label, fontsize=fontsize)\n",
    "  if y_label is not None:\n",
    "    plt.ylabel(y_label, fontsize=fontsize)\n",
    "  if legend is not None:\n",
    "    legend['object'].set_title(legend['title'])\n",
    "    for t, l in zip(legend['object'].texts, legend['texts']): t.set_text(l)\n",
    "\n",
    "def with_hue(plot, feature, categories, hue_categories, diff=False):\n",
    "  a = [p.get_height() for p in plot.patches]\n",
    "  patch = [p for p in plot.patches]\n",
    "  differences = {'class': [], 'value': []}\n",
    "  for i in range(categories):\n",
    "    total = a[i] + a[i+categories]\n",
    "    difference = []\n",
    "    for j in range(hue_categories):\n",
    "      value = round(100 * a[(j*categories + i)]/total, 2)\n",
    "      percentage = '{:.1f}%'.format(value)\n",
    "      x = patch[(j*categories + i)].get_x() + patch[(j*categories + i)].get_width() / 2 - 0.15\n",
    "      y = patch[(j*categories + i)].get_y() + patch[(j*categories + i)].get_height() \n",
    "      plt.annotate(percentage, (x, y), size = 12)\n",
    "      if diff:\n",
    "        difference.append(value)\n",
    "    if diff:\n",
    "      diff_value = abs(round(difference[0]-difference[1], 2))\n",
    "      differences['class'].append(feature[i])\n",
    "      differences['value'].append(diff_value)\n",
    "      print('{0:16s}: |{1:>5} - {2:>5}| = {3:>5}'.format(feature[i], difference[0], difference[1], diff_value))\n",
    "    #print(f'{feature[i]}: {difference[0]} - {difference[1]} = {abs(round(difference[0]-difference[1], 2))}')\n",
    "  plt.show()\n",
    "  if diff:\n",
    "    return pd.DataFrame.from_dict(differences)\n",
    "  \n",
    "class display(object):\n",
    "  \"\"\"Display HTML representation of multiple objects\"\"\"\n",
    "  template = \"\"\"<div style=\"float: left; padding: 10px;\">\n",
    "  <p style='font-family:\"Courier New\", Courier, monospace'>{0}</p>{1}\n",
    "  </div>\"\"\"\n",
    "  def __init__(self, *args):\n",
    "    self.args = args\n",
    "\n",
    "  def _repr_html_(self):\n",
    "    return '\\n'.join(self.template.format(a, eval(a)._repr_html_()) for a in self.args)\n",
    "\n",
    "  def __repr__(self):\n",
    "    return '\\n\\n'.join(a + '\\n' + repr(eval(a)) for a in self.args)\n",
    "\n",
    "def remove_outlayers(dataframe: pd.DataFrame, feature: str, complete=False):\n",
    "  z_scores = stats.zscore(dataframe[feature])\n",
    "  abs_z_scores = np.abs(z_scores)\n",
    "  filtered_entries = abs_z_scores < 3\n",
    "  if complete:\n",
    "    return dataframe[filtered_entries]\n",
    "  return dataframe[ filtered_entries ][feature]\n"
   ]
  },
  {
   "cell_type": "markdown",
   "metadata": {},
   "source": [
    "## Analisis univariado: "
   ]
  },
  {
   "cell_type": "markdown",
   "metadata": {},
   "source": [
    "### task_around"
   ]
  },
  {
   "cell_type": "code",
   "execution_count": 19,
   "metadata": {},
   "outputs": [
    {
     "data": {
      "text/plain": [
       "Text(0.5, 1.0, 'Task around boxplot')"
      ]
     },
     "execution_count": 19,
     "metadata": {},
     "output_type": "execute_result"
    },
    {
     "data": {
      "image/png": "[encoded data removed]",
      "text/plain": [
       "<Figure size 1080x360 with 1 Axes>"
      ]
     },
     "metadata": {},
     "output_type": "display_data"
    }
   ],
   "source": [
    "plt.figure(figsize=(15,5))\n",
    "plt.tight_layout()\n",
    "gts = sns.boxplot(x=df[\"task_around\"] , color=PALETTE[1])\n",
    "gts.set_title('Task around boxplot')"
   ]
  },
  {
   "cell_type": "code",
   "execution_count": 8,
   "metadata": {},
   "outputs": [
    {
     "data": {
      "text/plain": [
       "count    226828.000000\n",
       "mean        172.284780\n",
       "std         147.929122\n",
       "min           1.000000\n",
       "25%          50.000000\n",
       "50%         124.000000\n",
       "75%         269.000000\n",
       "max         970.000000\n",
       "Name: task_around, dtype: float64"
      ]
     },
     "execution_count": 8,
     "metadata": {},
     "output_type": "execute_result"
    }
   ],
   "source": [
    "df[\"task_around\"].describe()"
   ]
  },
  {
   "cell_type": "markdown",
   "metadata": {},
   "source": [
    "#### El feature task_around se traduce al número de tareas que tuvo una entrega en una ventana de tiempo de 3 horas con 3 kilómetros a la redonda, entonces la media se queda con 172 tareas a la redonda, la mitad de los registros han tenido hasta 124 tareas a la redonda y 3/4 de las entregas tuvieron hasta 269 tareas a las redonda. "
   ]
  },
  {
   "cell_type": "markdown",
   "metadata": {},
   "source": [
    "### Quitando outliers de task_around"
   ]
  },
  {
   "cell_type": "code",
   "execution_count": 14,
   "metadata": {},
   "outputs": [],
   "source": [
    "task_around_abs_z_scores = np.abs(stats.zscore(df[\"task_around\"]))\n",
    "task_around_no_ot = df[\"task_around\"][(task_around_abs_z_scores < 3)]"
   ]
  },
  {
   "cell_type": "code",
   "execution_count": 18,
   "metadata": {},
   "outputs": [
    {
     "data": {
      "text/plain": [
       "Text(0.5, 1.0, 'Task around boxplot')"
      ]
     },
     "execution_count": 18,
     "metadata": {},
     "output_type": "execute_result"
    },
    {
     "data": {
      "image/png": "[encoded data removed]",
      "text/plain": [
       "<Figure size 1080x360 with 1 Axes>"
      ]
     },
     "metadata": {},
     "output_type": "display_data"
    }
   ],
   "source": [
    "plt.figure(figsize=(15,5))\n",
    "plt.tight_layout()\n",
    "gts = sns.boxplot(x=task_around_no_ot, color=PALETTE[1])\n",
    "gts.set_title('Task around boxplot')"
   ]
  },
  {
   "cell_type": "code",
   "execution_count": 16,
   "metadata": {},
   "outputs": [
    {
     "data": {
      "text/plain": [
       "count    224772.000000\n",
       "mean        167.367586\n",
       "std         139.146117\n",
       "min           1.000000\n",
       "25%          50.000000\n",
       "50%         122.000000\n",
       "75%         265.000000\n",
       "max         616.000000\n",
       "Name: task_around, dtype: float64"
      ]
     },
     "execution_count": 16,
     "metadata": {},
     "output_type": "execute_result"
    }
   ],
   "source": [
    "task_around_no_ot.describe()"
   ]
  },
  {
   "cell_type": "markdown",
   "metadata": {},
   "source": [
    "#### El feature task_around se traduce al número de tareas que tuvo una entrega en una ventana de tiempo de 3 horas con 3 kilómetros a la redonda, entonces la media se queda con 172 tareas a la redonda, la mitad de los registros han tenido hasta 124 tareas a la redonda y 3/4 de las entregas tuvieron hasta 269 tareas a las redonda. "
   ]
  },
  {
   "cell_type": "markdown",
   "metadata": {},
   "source": [
    "### cost"
   ]
  },
  {
   "cell_type": "code",
   "execution_count": 29,
   "metadata": {},
   "outputs": [
    {
     "data": {
      "text/plain": [
       "Text(0.5, 1.0, 'Cost distribution')"
      ]
     },
     "execution_count": 29,
     "metadata": {},
     "output_type": "execute_result"
    },
    {
     "data": {
      "image/png": "[encoded data removed]",
      "text/plain": [
       "<Figure size 1080x360 with 1 Axes>"
      ]
     },
     "metadata": {},
     "output_type": "display_data"
    }
   ],
   "source": [
    "plt.figure(figsize=(15,5))\n",
    "plt.tight_layout()\n",
    "gts = sns.kdeplot(data=df, x='cost',palette=PALETTE, bw_adjust=5)\n",
    "gts.set_title('Cost distribution')"
   ]
  },
  {
   "cell_type": "code",
   "execution_count": 20,
   "metadata": {},
   "outputs": [
    {
     "data": {
      "text/plain": [
       "count    226828.000000\n",
       "mean       1752.800909\n",
       "std         844.937686\n",
       "min           0.000000\n",
       "25%        1500.000000\n",
       "50%        1500.000000\n",
       "75%        2000.000000\n",
       "max       35000.000000\n",
       "Name: cost, dtype: float64"
      ]
     },
     "execution_count": 20,
     "metadata": {},
     "output_type": "execute_result"
    }
   ],
   "source": [
    "df['cost'].describe()"
   ]
  },
  {
   "cell_type": "markdown",
   "metadata": {},
   "source": [
    "#### El feature cost se traduce al costo que tuvo una entrega. La media se queda con 844, la mitad de las entregas tuvieron un costo de hasta 1500 y 3/4 de las entregas tuvieron hasta de  2000. "
   ]
  },
  {
   "cell_type": "markdown",
   "metadata": {},
   "source": [
    "### Quitando outliers de cost"
   ]
  },
  {
   "cell_type": "code",
   "execution_count": 30,
   "metadata": {},
   "outputs": [],
   "source": [
    "cost_abs_z_scores = np.abs(stats.zscore(df[\"cost\"]))\n",
    "cost_no_ot = df[\"cost\"][(cost_abs_z_scores < 3)]"
   ]
  },
  {
   "cell_type": "code",
   "execution_count": 36,
   "metadata": {},
   "outputs": [
    {
     "data": {
      "text/plain": [
       "Text(0.5, 1.0, 'Cost distribution')"
      ]
     },
     "execution_count": 36,
     "metadata": {},
     "output_type": "execute_result"
    },
    {
     "data": {
      "image/png": "[encoded data removed]",
      "text/plain": [
       "<Figure size 1080x360 with 1 Axes>"
      ]
     },
     "metadata": {},
     "output_type": "display_data"
    }
   ],
   "source": [
    "plt.figure(figsize=(15,5))\n",
    "plt.tight_layout()\n",
    "gts = sns.kdeplot(x=cost_no_ot, palette='muted', bw_adjust=3)\n",
    "gts.set_title('Cost distribution')"
   ]
  },
  {
   "cell_type": "code",
   "execution_count": 37,
   "metadata": {},
   "outputs": [
    {
     "data": {
      "text/plain": [
       "count    224077.000000\n",
       "mean       1691.082873\n",
       "std         564.451210\n",
       "min           0.000000\n",
       "25%        1500.000000\n",
       "50%        1500.000000\n",
       "75%        2000.000000\n",
       "max        4286.669922\n",
       "Name: cost, dtype: float64"
      ]
     },
     "execution_count": 37,
     "metadata": {},
     "output_type": "execute_result"
    }
   ],
   "source": [
    "cost_no_ot.describe()"
   ]
  },
  {
   "cell_type": "markdown",
   "metadata": {},
   "source": [
    "#### Cost sin outliers. La media se queda con 1691, la mitad de las entregas tuvieron un costo de hasta 1500 y 3/4 de las entregas tuvieron hasta de  2000. "
   ]
  },
  {
   "cell_type": "markdown",
   "metadata": {},
   "source": [
    "### Delta"
   ]
  },
  {
   "cell_type": "code",
   "execution_count": 38,
   "metadata": {},
   "outputs": [
    {
     "data": {
      "text/plain": [
       "Text(0.5, 1.0, 'Delta boxplot')"
      ]
     },
     "execution_count": 38,
     "metadata": {},
     "output_type": "execute_result"
    },
    {
     "data": {
      "image/png": "[encoded data removed]",
      "text/plain": [
       "<Figure size 1080x360 with 1 Axes>"
      ]
     },
     "metadata": {},
     "output_type": "display_data"
    }
   ],
   "source": [
    "plt.figure(figsize=(15,5))\n",
    "plt.tight_layout()\n",
    "gts = sns.boxplot(x=df[\"delta\"] , color=PALETTE[1])\n",
    "gts.set_title('Delta boxplot')"
   ]
  },
  {
   "cell_type": "code",
   "execution_count": 39,
   "metadata": {},
   "outputs": [
    {
     "data": {
      "text/plain": [
       "count    226828.000000\n",
       "mean         -3.702205\n",
       "std          30.833342\n",
       "min       -2947.410833\n",
       "25%          -4.765069\n",
       "50%          -1.624722\n",
       "75%           0.425833\n",
       "max        2386.768056\n",
       "Name: delta, dtype: float64"
      ]
     },
     "execution_count": 39,
     "metadata": {},
     "output_type": "execute_result"
    }
   ],
   "source": [
    "df[\"delta\"].describe()"
   ]
  },
  {
   "cell_type": "markdown",
   "metadata": {},
   "source": [
    "#### El feature Delta se traduce como timpo de entrega planificado - tiempo de entrega real. La media se queda en -3.70 horas,  la mitad de entregas se realizaron hasta con 1.6 horas de anticipación y 3/4 de las entregas se entregan con un retraso máximo de 25 minutos. "
   ]
  },
  {
   "cell_type": "markdown",
   "metadata": {},
   "source": [
    "### Quitando outliers de task_around"
   ]
  },
  {
   "cell_type": "code",
   "execution_count": 43,
   "metadata": {},
   "outputs": [],
   "source": [
    "delta_abs_z_scores = np.abs(stats.zscore(df[\"delta\"]))\n",
    "delta_no_ot = df[\"delta\"][(cost_abs_z_scores < 3)]"
   ]
  },
  {
   "cell_type": "code",
   "execution_count": 44,
   "metadata": {},
   "outputs": [
    {
     "data": {
      "text/plain": [
       "Text(0.5, 1.0, 'Delta boxplot')"
      ]
     },
     "execution_count": 44,
     "metadata": {},
     "output_type": "execute_result"
    },
    {
     "data": {
      "image/png": "[encoded data removed]",
      "text/plain": [
       "<Figure size 1080x360 with 1 Axes>"
      ]
     },
     "metadata": {},
     "output_type": "display_data"
    }
   ],
   "source": [
    "plt.figure(figsize=(15,5))\n",
    "plt.tight_layout()\n",
    "gts = sns.boxplot(x=delta_no_ot , color=PALETTE[1])\n",
    "gts.set_title('Delta boxplot')"
   ]
  },
  {
   "cell_type": "code",
   "execution_count": 45,
   "metadata": {},
   "outputs": [
    {
     "data": {
      "text/plain": [
       "count    224077.000000\n",
       "mean         -3.738011\n",
       "std          31.010273\n",
       "min       -2947.410833\n",
       "25%          -4.809722\n",
       "50%          -1.670556\n",
       "75%           0.422778\n",
       "max        2386.768056\n",
       "Name: delta, dtype: float64"
      ]
     },
     "execution_count": 45,
     "metadata": {},
     "output_type": "execute_result"
    }
   ],
   "source": [
    "delta_no_ot.describe()"
   ]
  },
  {
   "cell_type": "markdown",
   "metadata": {},
   "source": [
    "#### La media se queda en -3.73 horas,  la mitad de entregas se realizaron hasta con 1.66 horas de anticipación y 3/4 de las entregas se entregan con un retraso máximo de 25 minutos. "
   ]
  },
  {
   "cell_type": "code",
   "execution_count": null,
   "metadata": {},
   "outputs": [],
   "source": []
  }
 ],
 "metadata": {
  "interpreter": {
   "hash": "010e91eeda4f87380114066045952f19d1c8b5543feee126bbd5887474cb752b"
  },
  "kernelspec": {
   "display_name": "Python 3",
   "language": "python",
   "name": "python3"
  },
  "language_info": {
   "codemirror_mode": {
    "name": "ipython",
    "version": 3
   },
   "file_extension": ".py",
   "mimetype": "text/x-python",
   "name": "python",
   "nbconvert_exporter": "python",
   "pygments_lexer": "ipython3",
   "version": "3.8.6"
  }
 },
 "nbformat": 4,
 "nbformat_minor": 2
}
