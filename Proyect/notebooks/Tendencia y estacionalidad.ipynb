{
 "cells": [
  {
   "cell_type": "code",
   "execution_count": 1,
   "id": "fc56e85a",
   "metadata": {},
   "outputs": [
    {
     "data": {
      "text/plain": [
       "<Figure size 1440x360 with 0 Axes>"
      ]
     },
     "metadata": {},
     "output_type": "display_data"
    }
   ],
   "source": [
    "import math\n",
    "import time\n",
    "import json\n",
    "import scipy\n",
    "import pickle\n",
    "import altair as alt\n",
    "import numpy as np\n",
    "import pandas as pd\n",
    "import seaborn as sns\n",
    "from scipy import stats\n",
    "\n",
    "import matplotlib.pyplot as plt\n",
    "from numpy import cos, sin, arcsin, sqrt\n",
    "%matplotlib inline\n",
    "plt.figure(figsize=(20,5))\n",
    "PALETTE = [\"#FFC30D\", \"#EF404B\"]\n",
    "PALETTE_ALT = [\"#40EFE4\", \"#EF404B\"]\n",
    "PALETTE_DEG = [\"FF\"]"
   ]
  },
  {
   "cell_type": "code",
   "execution_count": 2,
   "id": "9982d334",
   "metadata": {},
   "outputs": [],
   "source": [
    "df = pd.read_pickle('../data/shippify_icd_new.pkl', compression='gzip')\n",
    "df = df.dropna(subset=['pickup_effective_dt', 'delivery_effective', 'delivery_type'])"
   ]
  },
  {
   "cell_type": "code",
   "execution_count": 3,
   "id": "a086b6d2",
   "metadata": {},
   "outputs": [
    {
     "name": "stdout",
     "output_type": "stream",
     "text": [
      "<class 'pandas.core.frame.DataFrame'>\n",
      "Int64Index: 226828 entries, 0 to 251822\n",
      "Data columns (total 22 columns):\n",
      " #   Column               Non-Null Count   Dtype              \n",
      "---  ------               --------------   -----              \n",
      " 0   id                   226828 non-null  object             \n",
      " 1   route_id             223343 non-null  object             \n",
      " 2   creation_date        226828 non-null  datetime64[ns, UTC]\n",
      " 3   delivery_type        226828 non-null  object             \n",
      " 4   city                 226828 non-null  int8               \n",
      " 5   cost                 226828 non-null  float64            \n",
      " 6   total_size           226828 non-null  int64              \n",
      " 7   distance             226828 non-null  float64            \n",
      " 8   company_id           226828 non-null  int64              \n",
      " 9   company_type         226828 non-null  int64              \n",
      " 10  network_id           226828 non-null  int16              \n",
      " 11  pickup_dt            226828 non-null  datetime64[ns, UTC]\n",
      " 12  pickup_effective_dt  226828 non-null  datetime64[ns, UTC]\n",
      " 13  pickuplat            226828 non-null  float64            \n",
      " 14  pickuplng            226828 non-null  float64            \n",
      " 15  pickup_location      226828 non-null  object             \n",
      " 16  delivery_dt          226828 non-null  datetime64[ns, UTC]\n",
      " 17  delivery_effective   226828 non-null  datetime64[ns, UTC]\n",
      " 18  lat                  226828 non-null  float64            \n",
      " 19  long                 226828 non-null  float64            \n",
      " 20  delivery_location    226828 non-null  object             \n",
      " 21  items                226828 non-null  object             \n",
      "dtypes: datetime64[ns, UTC](5), float64(6), int16(1), int64(3), int8(1), object(6)\n",
      "memory usage: 37.0+ MB\n"
     ]
    }
   ],
   "source": [
    "df.info()"
   ]
  },
  {
   "cell_type": "markdown",
   "id": "e38470b9",
   "metadata": {},
   "source": [
    "### Teoria\n",
    "Tendencia: indica la dirección hacia la cual se dirige la serie de tiempo, característica que lo convierte en el componente más importante. Puede ser creciente, decreciente, constante, lineal, curvilínea, entre otras; se llama también tendencia a largo plazo y se representa con T t .\n",
    "\n",
    "Ciclo: indica las variaciones que ocurren en una serie de tiempo en períodos más prolongados. Cuando la métrica es en años son variaciones mayores de un año, comúnmente de 2 a 10 años. La serie sube y baja suavemente a manera de onda siguiendo la tendencia. Dicho ciclo puede ser causado por diversos cambios y se representa con C t .\n",
    "\n",
    "Estacionalidad: indica las variaciones que ocurren a corto plazo en una serie de tiempo con respecto a la línea de tendencia general. Ocurre en períodos fijos como días, semanas, meses, trimestres o años y se representa con E t .\n",
    "\n",
    "Movimientos irregulares (aleatorios): son oscilaciones de una serie temporal a corto plazo y que se atribuyen a factores imprevisibles o aleatorios. Corresponde al efecto de diversos factores a menudo desconocidos y se representa con A t ."
   ]
  },
  {
   "cell_type": "markdown",
   "id": "c07e1299",
   "metadata": {},
   "source": [
    "### Pregunta de negocio: Existe tendencia en el aumento de entregas durante el 2do semestre de 2020?"
   ]
  },
  {
   "cell_type": "code",
   "execution_count": 4,
   "id": "80b649f5",
   "metadata": {},
   "outputs": [
    {
     "data": {
      "text/html": [
       "<div>\n",
       "<style scoped>\n",
       "    .dataframe tbody tr th:only-of-type {\n",
       "        vertical-align: middle;\n",
       "    }\n",
       "\n",
       "    .dataframe tbody tr th {\n",
       "        vertical-align: top;\n",
       "    }\n",
       "\n",
       "    .dataframe thead th {\n",
       "        text-align: right;\n",
       "    }\n",
       "</style>\n",
       "<table border=\"1\" class=\"dataframe\">\n",
       "  <thead>\n",
       "    <tr style=\"text-align: right;\">\n",
       "      <th></th>\n",
       "      <th>delivery date</th>\n",
       "      <th>delivery amount</th>\n",
       "      <th>delivery type</th>\n",
       "    </tr>\n",
       "  </thead>\n",
       "  <tbody>\n",
       "    <tr>\n",
       "      <th>0</th>\n",
       "      <td>2020-06-16 00:00:00+00:00</td>\n",
       "      <td>5038</td>\n",
       "      <td>slot</td>\n",
       "    </tr>\n",
       "    <tr>\n",
       "      <th>1</th>\n",
       "      <td>2020-06-17 00:00:00+00:00</td>\n",
       "      <td>4244</td>\n",
       "      <td>flex</td>\n",
       "    </tr>\n",
       "    <tr>\n",
       "      <th>2</th>\n",
       "      <td>2020-06-08 00:00:00+00:00</td>\n",
       "      <td>3986</td>\n",
       "      <td>flex</td>\n",
       "    </tr>\n",
       "    <tr>\n",
       "      <th>4</th>\n",
       "      <td>2020-06-12 00:00:00+00:00</td>\n",
       "      <td>3841</td>\n",
       "      <td>flex</td>\n",
       "    </tr>\n",
       "    <tr>\n",
       "      <th>5</th>\n",
       "      <td>2020-08-12 00:00:00+00:00</td>\n",
       "      <td>3829</td>\n",
       "      <td>flex</td>\n",
       "    </tr>\n",
       "    <tr>\n",
       "      <th>...</th>\n",
       "      <td>...</td>\n",
       "      <td>...</td>\n",
       "      <td>...</td>\n",
       "    </tr>\n",
       "    <tr>\n",
       "      <th>100</th>\n",
       "      <td>2020-11-10 00:00:00+00:00</td>\n",
       "      <td>1</td>\n",
       "      <td>flex</td>\n",
       "    </tr>\n",
       "    <tr>\n",
       "      <th>101</th>\n",
       "      <td>2020-10-27 00:00:00+00:00</td>\n",
       "      <td>1</td>\n",
       "      <td>flex</td>\n",
       "    </tr>\n",
       "    <tr>\n",
       "      <th>102</th>\n",
       "      <td>2020-10-13 00:00:00+00:00</td>\n",
       "      <td>1</td>\n",
       "      <td>flex</td>\n",
       "    </tr>\n",
       "    <tr>\n",
       "      <th>103</th>\n",
       "      <td>2020-09-16 00:00:00+00:00</td>\n",
       "      <td>1</td>\n",
       "      <td>flex</td>\n",
       "    </tr>\n",
       "    <tr>\n",
       "      <th>104</th>\n",
       "      <td>2020-09-07 00:00:00+00:00</td>\n",
       "      <td>1</td>\n",
       "      <td>flex</td>\n",
       "    </tr>\n",
       "  </tbody>\n",
       "</table>\n",
       "<p>98 rows × 3 columns</p>\n",
       "</div>"
      ],
      "text/plain": [
       "                delivery date  delivery amount delivery type\n",
       "0   2020-06-16 00:00:00+00:00             5038          slot\n",
       "1   2020-06-17 00:00:00+00:00             4244          flex\n",
       "2   2020-06-08 00:00:00+00:00             3986          flex\n",
       "4   2020-06-12 00:00:00+00:00             3841          flex\n",
       "5   2020-08-12 00:00:00+00:00             3829          flex\n",
       "..                        ...              ...           ...\n",
       "100 2020-11-10 00:00:00+00:00                1          flex\n",
       "101 2020-10-27 00:00:00+00:00                1          flex\n",
       "102 2020-10-13 00:00:00+00:00                1          flex\n",
       "103 2020-09-16 00:00:00+00:00                1          flex\n",
       "104 2020-09-07 00:00:00+00:00                1          flex\n",
       "\n",
       "[98 rows x 3 columns]"
      ]
     },
     "execution_count": 4,
     "metadata": {},
     "output_type": "execute_result"
    }
   ],
   "source": [
    "p01 = (pd.to_datetime(df['delivery_effective'])\n",
    "       .dt.floor('d')\n",
    "       .value_counts()\n",
    "       .rename_axis('delivery date')\n",
    "       .reset_index(name='delivery amount'))\n",
    "p01['delivery type'] = df['delivery_type']\n",
    "p01 = p01.dropna()\n",
    "p01"
   ]
  },
  {
   "cell_type": "code",
   "execution_count": 5,
   "id": "c0657d74",
   "metadata": {},
   "outputs": [
    {
     "data": {
      "text/html": [
       "\n",
       "<div id=\"altair-viz-361646f7a9b64f29b66b39a3622ce672\"></div>\n",
       "<script type=\"text/javascript\">\n",
       "  (function(spec, embedOpt){\n",
       "    let outputDiv = document.currentScript.previousElementSibling;\n",
       "    if (outputDiv.id !== \"altair-viz-361646f7a9b64f29b66b39a3622ce672\") {\n",
       "      outputDiv = document.getElementById(\"altair-viz-361646f7a9b64f29b66b39a3622ce672\");\n",
       "    }\n",
       "    const paths = {\n",
       "      \"vega\": \"https://cdn.jsdelivr.net/npm//vega@5?noext\",\n",
       "      \"vega-lib\": \"https://cdn.jsdelivr.net/npm//vega-lib?noext\",\n",
       "      \"vega-lite\": \"https://cdn.jsdelivr.net/npm//vega-lite@4.8.1?noext\",\n",
       "      \"vega-embed\": \"https://cdn.jsdelivr.net/npm//vega-embed@6?noext\",\n",
       "    };\n",
       "\n",
       "    function loadScript(lib) {\n",
       "      return new Promise(function(resolve, reject) {\n",
       "        var s = document.createElement('script');\n",
       "        s.src = paths[lib];\n",
       "        s.async = true;\n",
       "        s.onload = () => resolve(paths[lib]);\n",
       "        s.onerror = () => reject(`Error loading script: ${paths[lib]}`);\n",
       "        document.getElementsByTagName(\"head\")[0].appendChild(s);\n",
       "      });\n",
       "    }\n",
       "\n",
       "    function showError(err) {\n",
       "      outputDiv.innerHTML = `<div class=\"error\" style=\"color:red;\">${err}</div>`;\n",
       "      throw err;\n",
       "    }\n",
       "\n",
       "    function displayChart(vegaEmbed) {\n",
       "      vegaEmbed(outputDiv, spec, embedOpt)\n",
       "        .catch(err => showError(`Javascript Error: ${err.message}<br>This usually means there's a typo in your chart specification. See the javascript console for the full traceback.`));\n",
       "    }\n",
       "\n",
       "    if(typeof define === \"function\" && define.amd) {\n",
       "      requirejs.config({paths});\n",
       "      require([\"vega-embed\"], displayChart, err => showError(`Error loading script: ${err.message}`));\n",
       "    } else if (typeof vegaEmbed === \"function\") {\n",
       "      displayChart(vegaEmbed);\n",
       "    } else {\n",
       "      loadScript(\"vega\")\n",
       "        .then(() => loadScript(\"vega-lite\"))\n",
       "        .then(() => loadScript(\"vega-embed\"))\n",
       "        .catch(showError)\n",
       "        .then(() => displayChart(vegaEmbed));\n",
       "    }\n",
       "  })({\"config\": {\"view\": {\"continuousWidth\": 400, \"continuousHeight\": 300}}, \"data\": {\"name\": \"data-dc320c643807c507f7e12f6db7fb9b92\"}, \"mark\": \"line\", \"encoding\": {\"color\": {\"type\": \"nominal\", \"field\": \"delivery type\"}, \"x\": {\"type\": \"temporal\", \"field\": \"delivery date\"}, \"y\": {\"type\": \"quantitative\", \"field\": \"delivery amount\"}}, \"$schema\": \"https://vega.github.io/schema/vega-lite/v4.8.1.json\", \"datasets\": {\"data-dc320c643807c507f7e12f6db7fb9b92\": [{\"delivery date\": \"2020-06-16T00:00:00+00:00\", \"delivery amount\": 5038, \"delivery type\": \"slot\"}, {\"delivery date\": \"2020-06-17T00:00:00+00:00\", \"delivery amount\": 4244, \"delivery type\": \"flex\"}, {\"delivery date\": \"2020-06-08T00:00:00+00:00\", \"delivery amount\": 3986, \"delivery type\": \"flex\"}, {\"delivery date\": \"2020-06-12T00:00:00+00:00\", \"delivery amount\": 3841, \"delivery type\": \"flex\"}, {\"delivery date\": \"2020-08-12T00:00:00+00:00\", \"delivery amount\": 3829, \"delivery type\": \"flex\"}, {\"delivery date\": \"2020-06-02T00:00:00+00:00\", \"delivery amount\": 3719, \"delivery type\": \"flex\"}, {\"delivery date\": \"2020-06-18T00:00:00+00:00\", \"delivery amount\": 3680, \"delivery type\": \"flex\"}, {\"delivery date\": \"2020-06-19T00:00:00+00:00\", \"delivery amount\": 3677, \"delivery type\": \"flex\"}, {\"delivery date\": \"2020-08-05T00:00:00+00:00\", \"delivery amount\": 3675, \"delivery type\": \"flex\"}, {\"delivery date\": \"2020-06-04T00:00:00+00:00\", \"delivery amount\": 3674, \"delivery type\": \"flex\"}, {\"delivery date\": \"2020-08-18T00:00:00+00:00\", \"delivery amount\": 3668, \"delivery type\": \"flex\"}, {\"delivery date\": \"2020-07-31T00:00:00+00:00\", \"delivery amount\": 3648, \"delivery type\": \"flex\"}, {\"delivery date\": \"2020-07-28T00:00:00+00:00\", \"delivery amount\": 3615, \"delivery type\": \"flex\"}, {\"delivery date\": \"2020-07-15T00:00:00+00:00\", \"delivery amount\": 3586, \"delivery type\": \"flex\"}, {\"delivery date\": \"2020-06-11T00:00:00+00:00\", \"delivery amount\": 3583, \"delivery type\": \"flex\"}, {\"delivery date\": \"2020-08-14T00:00:00+00:00\", \"delivery amount\": 3557, \"delivery type\": \"flex\"}, {\"delivery date\": \"2020-07-14T00:00:00+00:00\", \"delivery amount\": 3478, \"delivery type\": \"flex\"}, {\"delivery date\": \"2020-08-03T00:00:00+00:00\", \"delivery amount\": 3467, \"delivery type\": \"flex\"}, {\"delivery date\": \"2020-07-08T00:00:00+00:00\", \"delivery amount\": 3456, \"delivery type\": \"flex\"}, {\"delivery date\": \"2020-08-10T00:00:00+00:00\", \"delivery amount\": 3402, \"delivery type\": \"flex\"}, {\"delivery date\": \"2020-07-01T00:00:00+00:00\", \"delivery amount\": 3376, \"delivery type\": \"flex\"}, {\"delivery date\": \"2020-07-29T00:00:00+00:00\", \"delivery amount\": 3345, \"delivery type\": \"flex\"}, {\"delivery date\": \"2020-06-09T00:00:00+00:00\", \"delivery amount\": 3306, \"delivery type\": \"flex\"}, {\"delivery date\": \"2020-07-07T00:00:00+00:00\", \"delivery amount\": 3305, \"delivery type\": \"flex\"}, {\"delivery date\": \"2020-07-03T00:00:00+00:00\", \"delivery amount\": 3289, \"delivery type\": \"flex\"}, {\"delivery date\": \"2020-06-24T00:00:00+00:00\", \"delivery amount\": 3270, \"delivery type\": \"flex\"}, {\"delivery date\": \"2020-08-07T00:00:00+00:00\", \"delivery amount\": 3241, \"delivery type\": \"flex\"}, {\"delivery date\": \"2020-08-04T00:00:00+00:00\", \"delivery amount\": 3226, \"delivery type\": \"flex\"}, {\"delivery date\": \"2020-06-05T00:00:00+00:00\", \"delivery amount\": 3223, \"delivery type\": \"flex\"}, {\"delivery date\": \"2020-06-03T00:00:00+00:00\", \"delivery amount\": 3199, \"delivery type\": \"flex\"}, {\"delivery date\": \"2020-08-06T00:00:00+00:00\", \"delivery amount\": 3188, \"delivery type\": \"flex\"}, {\"delivery date\": \"2020-08-19T00:00:00+00:00\", \"delivery amount\": 3167, \"delivery type\": \"flex\"}, {\"delivery date\": \"2020-07-21T00:00:00+00:00\", \"delivery amount\": 3157, \"delivery type\": \"flex\"}, {\"delivery date\": \"2020-06-26T00:00:00+00:00\", \"delivery amount\": 3134, \"delivery type\": \"slot\"}, {\"delivery date\": \"2020-06-30T00:00:00+00:00\", \"delivery amount\": 3115, \"delivery type\": \"flex\"}, {\"delivery date\": \"2020-07-10T00:00:00+00:00\", \"delivery amount\": 3105, \"delivery type\": \"flex\"}, {\"delivery date\": \"2020-07-22T00:00:00+00:00\", \"delivery amount\": 3104, \"delivery type\": \"flex\"}, {\"delivery date\": \"2020-07-17T00:00:00+00:00\", \"delivery amount\": 3099, \"delivery type\": \"flex\"}, {\"delivery date\": \"2020-06-23T00:00:00+00:00\", \"delivery amount\": 3089, \"delivery type\": \"flex\"}, {\"delivery date\": \"2020-08-17T00:00:00+00:00\", \"delivery amount\": 3043, \"delivery type\": \"flex\"}, {\"delivery date\": \"2020-06-15T00:00:00+00:00\", \"delivery amount\": 2979, \"delivery type\": \"flex\"}, {\"delivery date\": \"2020-07-06T00:00:00+00:00\", \"delivery amount\": 2962, \"delivery type\": \"flex\"}, {\"delivery date\": \"2020-08-28T00:00:00+00:00\", \"delivery amount\": 2960, \"delivery type\": \"flex\"}, {\"delivery date\": \"2020-07-02T00:00:00+00:00\", \"delivery amount\": 2955, \"delivery type\": \"flex\"}, {\"delivery date\": \"2020-07-30T00:00:00+00:00\", \"delivery amount\": 2918, \"delivery type\": \"flex\"}, {\"delivery date\": \"2020-08-21T00:00:00+00:00\", \"delivery amount\": 2901, \"delivery type\": \"flex\"}, {\"delivery date\": \"2020-06-25T00:00:00+00:00\", \"delivery amount\": 2898, \"delivery type\": \"flex\"}, {\"delivery date\": \"2020-08-26T00:00:00+00:00\", \"delivery amount\": 2889, \"delivery type\": \"flex\"}, {\"delivery date\": \"2020-08-13T00:00:00+00:00\", \"delivery amount\": 2878, \"delivery type\": \"flex\"}, {\"delivery date\": \"2020-07-24T00:00:00+00:00\", \"delivery amount\": 2823, \"delivery type\": \"flex\"}, {\"delivery date\": \"2020-07-20T00:00:00+00:00\", \"delivery amount\": 2813, \"delivery type\": \"flex\"}, {\"delivery date\": \"2020-08-24T00:00:00+00:00\", \"delivery amount\": 2726, \"delivery type\": \"flex\"}, {\"delivery date\": \"2020-07-09T00:00:00+00:00\", \"delivery amount\": 2681, \"delivery type\": \"flex\"}, {\"delivery date\": \"2020-07-27T00:00:00+00:00\", \"delivery amount\": 2621, \"delivery type\": \"flex\"}, {\"delivery date\": \"2020-08-27T00:00:00+00:00\", \"delivery amount\": 2572, \"delivery type\": \"flex\"}, {\"delivery date\": \"2020-06-22T00:00:00+00:00\", \"delivery amount\": 2567, \"delivery type\": \"flex\"}, {\"delivery date\": \"2020-07-23T00:00:00+00:00\", \"delivery amount\": 2563, \"delivery type\": \"flex\"}, {\"delivery date\": \"2020-07-13T00:00:00+00:00\", \"delivery amount\": 2516, \"delivery type\": \"flex\"}, {\"delivery date\": \"2020-08-20T00:00:00+00:00\", \"delivery amount\": 2415, \"delivery type\": \"flex\"}, {\"delivery date\": \"2020-06-13T00:00:00+00:00\", \"delivery amount\": 1822, \"delivery type\": \"flex\"}, {\"delivery date\": \"2020-06-20T00:00:00+00:00\", \"delivery amount\": 1698, \"delivery type\": \"flex\"}, {\"delivery date\": \"2020-07-18T00:00:00+00:00\", \"delivery amount\": 1664, \"delivery type\": \"flex\"}, {\"delivery date\": \"2020-08-15T00:00:00+00:00\", \"delivery amount\": 1490, \"delivery type\": \"flex\"}, {\"delivery date\": \"2020-07-04T00:00:00+00:00\", \"delivery amount\": 1248, \"delivery type\": \"flex\"}, {\"delivery date\": \"2020-06-06T00:00:00+00:00\", \"delivery amount\": 1170, \"delivery type\": \"flex\"}, {\"delivery date\": \"2020-08-08T00:00:00+00:00\", \"delivery amount\": 1135, \"delivery type\": \"flex\"}, {\"delivery date\": \"2020-07-11T00:00:00+00:00\", \"delivery amount\": 1124, \"delivery type\": \"flex\"}, {\"delivery date\": \"2020-08-29T00:00:00+00:00\", \"delivery amount\": 1094, \"delivery type\": \"flex\"}, {\"delivery date\": \"2020-07-16T00:00:00+00:00\", \"delivery amount\": 1069, \"delivery type\": \"flex\"}, {\"delivery date\": \"2020-08-22T00:00:00+00:00\", \"delivery amount\": 943, \"delivery type\": \"flex\"}, {\"delivery date\": \"2020-08-01T00:00:00+00:00\", \"delivery amount\": 887, \"delivery type\": \"flex\"}, {\"delivery date\": \"2020-07-25T00:00:00+00:00\", \"delivery amount\": 875, \"delivery type\": \"flex\"}, {\"delivery date\": \"2020-08-31T00:00:00+00:00\", \"delivery amount\": 638, \"delivery type\": \"flex\"}, {\"delivery date\": \"2020-07-05T00:00:00+00:00\", \"delivery amount\": 515, \"delivery type\": \"flex\"}, {\"delivery date\": \"2020-06-21T00:00:00+00:00\", \"delivery amount\": 409, \"delivery type\": \"flex\"}, {\"delivery date\": \"2020-06-14T00:00:00+00:00\", \"delivery amount\": 245, \"delivery type\": \"flex\"}, {\"delivery date\": \"2020-06-28T00:00:00+00:00\", \"delivery amount\": 238, \"delivery type\": \"slot\"}, {\"delivery date\": \"2020-08-02T00:00:00+00:00\", \"delivery amount\": 237, \"delivery type\": \"flex\"}, {\"delivery date\": \"2020-08-16T00:00:00+00:00\", \"delivery amount\": 211, \"delivery type\": \"flex\"}, {\"delivery date\": \"2020-08-09T00:00:00+00:00\", \"delivery amount\": 157, \"delivery type\": \"flex\"}, {\"delivery date\": \"2020-09-01T00:00:00+00:00\", \"delivery amount\": 130, \"delivery type\": \"flex\"}, {\"delivery date\": \"2020-07-19T00:00:00+00:00\", \"delivery amount\": 125, \"delivery type\": \"slot\"}, {\"delivery date\": \"2020-08-30T00:00:00+00:00\", \"delivery amount\": 108, \"delivery type\": \"slot\"}, {\"delivery date\": \"2020-07-26T00:00:00+00:00\", \"delivery amount\": 40, \"delivery type\": \"flex\"}, {\"delivery date\": \"2020-08-23T00:00:00+00:00\", \"delivery amount\": 40, \"delivery type\": \"flex\"}, {\"delivery date\": \"2020-07-12T00:00:00+00:00\", \"delivery amount\": 23, \"delivery type\": \"flex\"}, {\"delivery date\": \"2020-06-07T00:00:00+00:00\", \"delivery amount\": 11, \"delivery type\": \"flex\"}, {\"delivery date\": \"2020-09-15T00:00:00+00:00\", \"delivery amount\": 4, \"delivery type\": \"flex\"}, {\"delivery date\": \"2020-09-04T00:00:00+00:00\", \"delivery amount\": 3, \"delivery type\": \"flex\"}, {\"delivery date\": \"2020-09-03T00:00:00+00:00\", \"delivery amount\": 2, \"delivery type\": \"flex\"}, {\"delivery date\": \"2020-09-24T00:00:00+00:00\", \"delivery amount\": 2, \"delivery type\": \"flex\"}, {\"delivery date\": \"2020-09-08T00:00:00+00:00\", \"delivery amount\": 2, \"delivery type\": \"flex\"}, {\"delivery date\": \"2020-11-12T00:00:00+00:00\", \"delivery amount\": 2, \"delivery type\": \"flex\"}, {\"delivery date\": \"2020-11-10T00:00:00+00:00\", \"delivery amount\": 1, \"delivery type\": \"flex\"}, {\"delivery date\": \"2020-10-27T00:00:00+00:00\", \"delivery amount\": 1, \"delivery type\": \"flex\"}, {\"delivery date\": \"2020-10-13T00:00:00+00:00\", \"delivery amount\": 1, \"delivery type\": \"flex\"}, {\"delivery date\": \"2020-09-16T00:00:00+00:00\", \"delivery amount\": 1, \"delivery type\": \"flex\"}, {\"delivery date\": \"2020-09-07T00:00:00+00:00\", \"delivery amount\": 1, \"delivery type\": \"flex\"}]}}, {\"mode\": \"vega-lite\"});\n",
       "</script>"
      ],
      "text/plain": [
       "alt.Chart(...)"
      ]
     },
     "execution_count": 5,
     "metadata": {},
     "output_type": "execute_result"
    }
   ],
   "source": [
    "alt.Chart(p01).mark_line().encode(\n",
    "    x=alt.X(shorthand='delivery date', type=\"temporal\"),\n",
    "    y=alt.Y(shorthand='delivery amount', type='quantitative'),\n",
    "    color=alt.Color(shorthand='delivery type', type=\"nominal\"),\n",
    ")"
   ]
  },
  {
   "cell_type": "markdown",
   "id": "fa476030",
   "metadata": {},
   "source": [
    "Respuesta: Para esta conclusión debemos tener en cuenta que las entregas se dividen en 2 tipos \"flex\" y \"slot\", para el primer tipo vemos que desde Junio hasta septiembre hay estacionalidad en un intervalo de 1 semana. Para el mismo tipo 'slot') vemos que a partir de septiembre hasta diciembre de 2020 no tamos una tendencia a la baja de entregas diarias. Para el tipo slot notamos que desde mediados de Junio existe una clara tendencia a la baja hasta septiembre. Probablemente esta tendencia a la baja se deba a \"reglas de negocio\" que son desconocidas para nosotros."
   ]
  },
  {
   "cell_type": "markdown",
   "id": "b9a3892a",
   "metadata": {},
   "source": [
    "#### Pregunta de negocio: Existe estacionalidad con respecto al retraso de entregas durante cada mes del 2do semestre de 2020?"
   ]
  },
  {
   "cell_type": "code",
   "execution_count": 6,
   "id": "d9b78be3",
   "metadata": {},
   "outputs": [],
   "source": [
    "df['delivery_effective_floored'] = pd.to_datetime(df['delivery_effective']).dt.floor('d')"
   ]
  },
  {
   "cell_type": "code",
   "execution_count": 7,
   "id": "3a6f5bec",
   "metadata": {},
   "outputs": [],
   "source": [
    "def sumCost(df):\n",
    "    return np.sum(df['cost'])"
   ]
  },
  {
   "cell_type": "code",
   "execution_count": 8,
   "id": "b53bb65d",
   "metadata": {},
   "outputs": [],
   "source": [
    "groupedDf = df[['delivery_effective_floored','cost']].groupby(\n",
    "    'delivery_effective_floored').sum().reset_index()"
   ]
  },
  {
   "cell_type": "code",
   "execution_count": 9,
   "id": "529c52cc",
   "metadata": {},
   "outputs": [],
   "source": [
    "groupedDf.rename(columns={'delivery_effective_floored': 'delivery date', 'cost': 'delivery cost'}, inplace=True)"
   ]
  },
  {
   "cell_type": "code",
   "execution_count": 10,
   "id": "8fbc23af",
   "metadata": {},
   "outputs": [],
   "source": [
    "groupedDf = groupedDf[groupedDf['delivery date'] <= '2020-09-01']"
   ]
  },
  {
   "cell_type": "code",
   "execution_count": 11,
   "id": "cb58ff82",
   "metadata": {},
   "outputs": [
    {
     "data": {
      "text/html": [
       "\n",
       "<div id=\"altair-viz-4c1f289cfc48426c80201bc57f57edf5\"></div>\n",
       "<script type=\"text/javascript\">\n",
       "  (function(spec, embedOpt){\n",
       "    let outputDiv = document.currentScript.previousElementSibling;\n",
       "    if (outputDiv.id !== \"altair-viz-4c1f289cfc48426c80201bc57f57edf5\") {\n",
       "      outputDiv = document.getElementById(\"altair-viz-4c1f289cfc48426c80201bc57f57edf5\");\n",
       "    }\n",
       "    const paths = {\n",
       "      \"vega\": \"https://cdn.jsdelivr.net/npm//vega@5?noext\",\n",
       "      \"vega-lib\": \"https://cdn.jsdelivr.net/npm//vega-lib?noext\",\n",
       "      \"vega-lite\": \"https://cdn.jsdelivr.net/npm//vega-lite@4.8.1?noext\",\n",
       "      \"vega-embed\": \"https://cdn.jsdelivr.net/npm//vega-embed@6?noext\",\n",
       "    };\n",
       "\n",
       "    function loadScript(lib) {\n",
       "      return new Promise(function(resolve, reject) {\n",
       "        var s = document.createElement('script');\n",
       "        s.src = paths[lib];\n",
       "        s.async = true;\n",
       "        s.onload = () => resolve(paths[lib]);\n",
       "        s.onerror = () => reject(`Error loading script: ${paths[lib]}`);\n",
       "        document.getElementsByTagName(\"head\")[0].appendChild(s);\n",
       "      });\n",
       "    }\n",
       "\n",
       "    function showError(err) {\n",
       "      outputDiv.innerHTML = `<div class=\"error\" style=\"color:red;\">${err}</div>`;\n",
       "      throw err;\n",
       "    }\n",
       "\n",
       "    function displayChart(vegaEmbed) {\n",
       "      vegaEmbed(outputDiv, spec, embedOpt)\n",
       "        .catch(err => showError(`Javascript Error: ${err.message}<br>This usually means there's a typo in your chart specification. See the javascript console for the full traceback.`));\n",
       "    }\n",
       "\n",
       "    if(typeof define === \"function\" && define.amd) {\n",
       "      requirejs.config({paths});\n",
       "      require([\"vega-embed\"], displayChart, err => showError(`Error loading script: ${err.message}`));\n",
       "    } else if (typeof vegaEmbed === \"function\") {\n",
       "      displayChart(vegaEmbed);\n",
       "    } else {\n",
       "      loadScript(\"vega\")\n",
       "        .then(() => loadScript(\"vega-lite\"))\n",
       "        .then(() => loadScript(\"vega-embed\"))\n",
       "        .catch(showError)\n",
       "        .then(() => displayChart(vegaEmbed));\n",
       "    }\n",
       "  })({\"config\": {\"view\": {\"continuousWidth\": 400, \"continuousHeight\": 300}}, \"data\": {\"name\": \"data-95cbc24e8ad384798051beecdd58500c\"}, \"mark\": \"line\", \"encoding\": {\"x\": {\"type\": \"temporal\", \"field\": \"delivery date\"}, \"y\": {\"type\": \"quantitative\", \"field\": \"delivery cost\"}}, \"$schema\": \"https://vega.github.io/schema/vega-lite/v4.8.1.json\", \"datasets\": {\"data-95cbc24e8ad384798051beecdd58500c\": [{\"delivery date\": \"2020-06-01T00:00:00+00:00\", \"delivery cost\": 4727668.486083984}, {\"delivery date\": \"2020-06-02T00:00:00+00:00\", \"delivery cost\": 6321808.820739746}, {\"delivery date\": \"2020-06-03T00:00:00+00:00\", \"delivery cost\": 5566499.322387695}, {\"delivery date\": \"2020-06-04T00:00:00+00:00\", \"delivery cost\": 6231432.929260254}, {\"delivery date\": \"2020-06-05T00:00:00+00:00\", \"delivery cost\": 5581146.280761719}, {\"delivery date\": \"2020-06-06T00:00:00+00:00\", \"delivery cost\": 1815166.1694335938}, {\"delivery date\": \"2020-06-07T00:00:00+00:00\", \"delivery cost\": 8000.0}, {\"delivery date\": \"2020-06-08T00:00:00+00:00\", \"delivery cost\": 6674372.129272461}, {\"delivery date\": \"2020-06-09T00:00:00+00:00\", \"delivery cost\": 5789514.981140137}, {\"delivery date\": \"2020-06-10T00:00:00+00:00\", \"delivery cost\": 6549447.960174561}, {\"delivery date\": \"2020-06-11T00:00:00+00:00\", \"delivery cost\": 6311840.799682617}, {\"delivery date\": \"2020-06-12T00:00:00+00:00\", \"delivery cost\": 6667435.0654296875}, {\"delivery date\": \"2020-06-13T00:00:00+00:00\", \"delivery cost\": 2816576.708129883}, {\"delivery date\": \"2020-06-14T00:00:00+00:00\", \"delivery cost\": 333000.0}, {\"delivery date\": \"2020-06-15T00:00:00+00:00\", \"delivery cost\": 5291238.740112305}, {\"delivery date\": \"2020-06-16T00:00:00+00:00\", \"delivery cost\": 8633044.266113281}, {\"delivery date\": \"2020-06-17T00:00:00+00:00\", \"delivery cost\": 7372059.695007324}, {\"delivery date\": \"2020-06-18T00:00:00+00:00\", \"delivery cost\": 6552330.1441345215}, {\"delivery date\": \"2020-06-19T00:00:00+00:00\", \"delivery cost\": 6641201.173461914}, {\"delivery date\": \"2020-06-20T00:00:00+00:00\", \"delivery cost\": 2563847.4008789062}, {\"delivery date\": \"2020-06-21T00:00:00+00:00\", \"delivery cost\": 626613.6635742188}, {\"delivery date\": \"2020-06-22T00:00:00+00:00\", \"delivery cost\": 4813259.126708984}, {\"delivery date\": \"2020-06-23T00:00:00+00:00\", \"delivery cost\": 5782402.789367676}, {\"delivery date\": \"2020-06-24T00:00:00+00:00\", \"delivery cost\": 5777713.1630859375}, {\"delivery date\": \"2020-06-25T00:00:00+00:00\", \"delivery cost\": 5195512.2158203125}, {\"delivery date\": \"2020-06-26T00:00:00+00:00\", \"delivery cost\": 5751688.262023926}, {\"delivery date\": \"2020-06-27T00:00:00+00:00\", \"delivery cost\": 2033954.23828125}, {\"delivery date\": \"2020-06-28T00:00:00+00:00\", \"delivery cost\": 327300.0}, {\"delivery date\": \"2020-06-29T00:00:00+00:00\", \"delivery cost\": 1275000.0}, {\"delivery date\": \"2020-06-30T00:00:00+00:00\", \"delivery cost\": 5818270.655944824}, {\"delivery date\": \"2020-07-01T00:00:00+00:00\", \"delivery cost\": 6493283.395363778}, {\"delivery date\": \"2020-07-02T00:00:00+00:00\", \"delivery cost\": 5503735.235076904}, {\"delivery date\": \"2020-07-03T00:00:00+00:00\", \"delivery cost\": 6049673.60559082}, {\"delivery date\": \"2020-07-04T00:00:00+00:00\", \"delivery cost\": 1918764.5604248047}, {\"delivery date\": \"2020-07-05T00:00:00+00:00\", \"delivery cost\": 785900.0}, {\"delivery date\": \"2020-07-06T00:00:00+00:00\", \"delivery cost\": 5257141.715576172}, {\"delivery date\": \"2020-07-07T00:00:00+00:00\", \"delivery cost\": 6108653.672180176}, {\"delivery date\": \"2020-07-08T00:00:00+00:00\", \"delivery cost\": 6045993.938842773}, {\"delivery date\": \"2020-07-09T00:00:00+00:00\", \"delivery cost\": 4957056.923139662}, {\"delivery date\": \"2020-07-10T00:00:00+00:00\", \"delivery cost\": 5526965.923950195}, {\"delivery date\": \"2020-07-11T00:00:00+00:00\", \"delivery cost\": 1802921.2287597656}, {\"delivery date\": \"2020-07-12T00:00:00+00:00\", \"delivery cost\": 33000.0}, {\"delivery date\": \"2020-07-13T00:00:00+00:00\", \"delivery cost\": 4719322.393005371}, {\"delivery date\": \"2020-07-14T00:00:00+00:00\", \"delivery cost\": 6442654.549560547}, {\"delivery date\": \"2020-07-15T00:00:00+00:00\", \"delivery cost\": 6508687.969482422}, {\"delivery date\": \"2020-07-16T00:00:00+00:00\", \"delivery cost\": 1501147.2502441406}, {\"delivery date\": \"2020-07-17T00:00:00+00:00\", \"delivery cost\": 5739594.618652344}, {\"delivery date\": \"2020-07-18T00:00:00+00:00\", \"delivery cost\": 2866449.569580078}, {\"delivery date\": \"2020-07-19T00:00:00+00:00\", \"delivery cost\": 120000.0}, {\"delivery date\": \"2020-07-20T00:00:00+00:00\", \"delivery cost\": 5157953.856933594}, {\"delivery date\": \"2020-07-21T00:00:00+00:00\", \"delivery cost\": 5907398.239379883}, {\"delivery date\": \"2020-07-22T00:00:00+00:00\", \"delivery cost\": 5592559.209594727}, {\"delivery date\": \"2020-07-23T00:00:00+00:00\", \"delivery cost\": 4849701.041137695}, {\"delivery date\": \"2020-07-24T00:00:00+00:00\", \"delivery cost\": 5117138.627563477}, {\"delivery date\": \"2020-07-25T00:00:00+00:00\", \"delivery cost\": 1371546.3498535156}, {\"delivery date\": \"2020-07-26T00:00:00+00:00\", \"delivery cost\": 52500.0}, {\"delivery date\": \"2020-07-27T00:00:00+00:00\", \"delivery cost\": 4742175.145019531}, {\"delivery date\": \"2020-07-28T00:00:00+00:00\", \"delivery cost\": 6340936.889892578}, {\"delivery date\": \"2020-07-29T00:00:00+00:00\", \"delivery cost\": 5716326.639404297}, {\"delivery date\": \"2020-07-30T00:00:00+00:00\", \"delivery cost\": 5298135.208740234}, {\"delivery date\": \"2020-07-31T00:00:00+00:00\", \"delivery cost\": 6264501.801513672}, {\"delivery date\": \"2020-08-01T00:00:00+00:00\", \"delivery cost\": 1235596.5086669922}, {\"delivery date\": \"2020-08-02T00:00:00+00:00\", \"delivery cost\": 342000.0}, {\"delivery date\": \"2020-08-03T00:00:00+00:00\", \"delivery cost\": 5993492.747924805}, {\"delivery date\": \"2020-08-04T00:00:00+00:00\", \"delivery cost\": 5666178.552307129}, {\"delivery date\": \"2020-08-05T00:00:00+00:00\", \"delivery cost\": 6417905.079467773}, {\"delivery date\": \"2020-08-06T00:00:00+00:00\", \"delivery cost\": 5602711.57409668}, {\"delivery date\": \"2020-08-07T00:00:00+00:00\", \"delivery cost\": 5841695.839782715}, {\"delivery date\": \"2020-08-08T00:00:00+00:00\", \"delivery cost\": 1755243.1193847656}, {\"delivery date\": \"2020-08-09T00:00:00+00:00\", \"delivery cost\": 227092.0}, {\"delivery date\": \"2020-08-10T00:00:00+00:00\", \"delivery cost\": 5770676.504516602}, {\"delivery date\": \"2020-08-11T00:00:00+00:00\", \"delivery cost\": 6625036.483032227}, {\"delivery date\": \"2020-08-12T00:00:00+00:00\", \"delivery cost\": 6555736.471069336}, {\"delivery date\": \"2020-08-13T00:00:00+00:00\", \"delivery cost\": 4968654.429748535}, {\"delivery date\": \"2020-08-14T00:00:00+00:00\", \"delivery cost\": 6110086.46081543}, {\"delivery date\": \"2020-08-15T00:00:00+00:00\", \"delivery cost\": 2261037.8981933594}, {\"delivery date\": \"2020-08-16T00:00:00+00:00\", \"delivery cost\": 276472.0}, {\"delivery date\": \"2020-08-17T00:00:00+00:00\", \"delivery cost\": 5146708.606323242}, {\"delivery date\": \"2020-08-18T00:00:00+00:00\", \"delivery cost\": 6547796.092895508}, {\"delivery date\": \"2020-08-19T00:00:00+00:00\", \"delivery cost\": 5497738.712646484}, {\"delivery date\": \"2020-08-20T00:00:00+00:00\", \"delivery cost\": 4433161.6064453125}, {\"delivery date\": \"2020-08-21T00:00:00+00:00\", \"delivery cost\": 5080936.565307617}, {\"delivery date\": \"2020-08-22T00:00:00+00:00\", \"delivery cost\": 1440838.892578125}, {\"delivery date\": \"2020-08-23T00:00:00+00:00\", \"delivery cost\": 59399.199951171875}, {\"delivery date\": \"2020-08-24T00:00:00+00:00\", \"delivery cost\": 4932127.633544922}, {\"delivery date\": \"2020-08-25T00:00:00+00:00\", \"delivery cost\": 6014819.248046875}, {\"delivery date\": \"2020-08-26T00:00:00+00:00\", \"delivery cost\": 5036265.210510254}, {\"delivery date\": \"2020-08-27T00:00:00+00:00\", \"delivery cost\": 4746174.001831055}, {\"delivery date\": \"2020-08-28T00:00:00+00:00\", \"delivery cost\": 5219301.465988159}, {\"delivery date\": \"2020-08-29T00:00:00+00:00\", \"delivery cost\": 1681953.3665771484}, {\"delivery date\": \"2020-08-30T00:00:00+00:00\", \"delivery cost\": 129138.06005859375}, {\"delivery date\": \"2020-08-31T00:00:00+00:00\", \"delivery cost\": 1054458.499633789}, {\"delivery date\": \"2020-09-01T00:00:00+00:00\", \"delivery cost\": 189422.37841796875}]}}, {\"mode\": \"vega-lite\"});\n",
       "</script>"
      ],
      "text/plain": [
       "alt.Chart(...)"
      ]
     },
     "execution_count": 11,
     "metadata": {},
     "output_type": "execute_result"
    }
   ],
   "source": [
    "alt.Chart(groupedDf).mark_line().encode(\n",
    "    x=alt.X(shorthand='delivery date', type=\"temporal\"),\n",
    "    y=alt.Y(shorthand='delivery cost', type='quantitative'),\n",
    ")"
   ]
  },
  {
   "cell_type": "markdown",
   "id": "c53db320",
   "metadata": {},
   "source": [
    "### Respuesta: Limitamos la respuesta hasta finales de agosto debido a que desde septiembre no hay la suficiente cantidad de datos para ser analizado. En nuestro análisis encontramos estacionalidad una vez más con respecto a costo diario de las entregas, siempre empieza alto y tiene a caer al final del mes, este ciclo se repite cada semana"
   ]
  },
  {
   "cell_type": "code",
   "execution_count": null,
   "id": "b3e8147e",
   "metadata": {},
   "outputs": [],
   "source": []
  }
 ],
 "metadata": {
  "kernelspec": {
   "display_name": "Python 3",
   "language": "python",
   "name": "python3"
  },
  "language_info": {
   "codemirror_mode": {
    "name": "ipython",
    "version": 3
   },
   "file_extension": ".py",
   "mimetype": "text/x-python",
   "name": "python",
   "nbconvert_exporter": "python",
   "pygments_lexer": "ipython3",
   "version": "3.8.6"
  }
 },
 "nbformat": 4,
 "nbformat_minor": 5
}
