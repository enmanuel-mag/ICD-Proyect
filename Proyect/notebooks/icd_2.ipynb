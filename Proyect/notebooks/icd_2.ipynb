{
 "cells": [
  {
   "cell_type": "markdown",
   "source": [
    "## Import libraries"
   ],
   "metadata": {}
  },
  {
   "cell_type": "code",
   "execution_count": null,
   "source": [
    "import os\n",
    "import math\n",
    "import json\n",
    "import folium\n",
    "import pickle\n",
    "import warnings\n",
    "import numpy as np\n",
    "import pandas as pd\n",
    "from dtw import dtw\n",
    "import altair as alt\n",
    "import seaborn as sns\n",
    "from scipy import stats\n",
    "from vega_datasets import data\n",
    "import matplotlib.pyplot as plt\n",
    "from sklearn.decomposition import PCA\n",
    "from numpy import cos, sin, arcsin, sqrt\n",
    "from sklearn.preprocessing import MinMaxScaler\n",
    "from yellowbrick.cluster import KElbowVisualizer\n",
    "from sklearn.cluster import KMeans, MiniBatchKMeans\n",
    "from yellowbrick.cluster import InterclusterDistance\n",
    "from sklearn.metrics.pairwise import cosine_similarity, cosine_distances\n",
    "warnings.simplefilter(action='ignore', category=Warning)\n",
    "warnings.simplefilter(action='ignore', category=FutureWarning)\n",
    "%matplotlib inline\n",
    "plt.figure(figsize=(20,5))\n",
    "\n",
    "PALETTE_DEG = [\"FF\"]\n",
    "PALETTE = [\"#FFC30D\", \"#EF404B\"]\n",
    "PALETTE_ALT = [\"#40EFE4\", \"#EF404B\"]\n",
    "RANDOM_SEED = 2048\n",
    "R = 6371\n",
    "KMS_AROUND = 3.20\n",
    "WINDOW_TIME = 3.12"
   ],
   "outputs": [],
   "metadata": {}
  },
  {
   "cell_type": "code",
   "execution_count": null,
   "source": [
    "df = pd.read_pickle(\"../data/shippify_icd_task_new.pkl\", compression='gzip')\n",
    "df['delta'] = df['delta']\n",
    "#dict of size\n",
    "size_dict = { 1: 'X Small', 2: 'Small', 3: 'Medium', 4: 'Large', 5: 'X Large' }\n",
    "color_scale = alt.Scale(domain=list(size_dict.values()))\n",
    "hue_order = size_dict.values()"
   ],
   "outputs": [],
   "metadata": {}
  },
  {
   "cell_type": "code",
   "execution_count": null,
   "source": [
    "columns = ['total_size', 'distance', 'task_around', 'lat', 'long', 'delta', 'cost']\n",
    "LAT_AXIS = alt.X('lat', type='quantitative', scale=alt.Scale(domain=(-33.70, -33.15)), title='Latitude')\n",
    "LONG_AXIS = alt.Y('long',type='quantitative', scale=alt.Scale(domain=(-70.4, -70.9)), title='Longitude')\n",
    "DEN_AXIS = y=alt.Y('density', type='quantitative', title='Density')"
   ],
   "outputs": [],
   "metadata": {}
  },
  {
   "cell_type": "markdown",
   "source": [
    "## Utils functions"
   ],
   "metadata": {}
  },
  {
   "cell_type": "code",
   "execution_count": null,
   "source": [
    "def create_quantiles(dfColumn, numQuantiles):\n",
    "  return pd.qcut(dfColumn, numQuantiles, labels=False, duplicates='drop')\n",
    "\n",
    "def min_max_scaler(numArr):\n",
    "  minx = np.min(numArr)\n",
    "  maxx = np.max(numArr)\n",
    "  numArr = (numArr - minx) / (maxx - minx)\n",
    "  return numArr\n",
    "\n",
    "def get_similarity(obj1, obj2):\n",
    "  len1 = len(obj1.columns)\n",
    "  len2 = len(obj2.columns)\n",
    "  if not (len1 == len2):\n",
    "    print(\"Error: Compared objects must have same number of features\")\n",
    "    return 0\n",
    "  else:\n",
    "    similarity = obj1 - obj2\n",
    "    similarity = np.sum((similarity**2.0) / len1)\n",
    "    similarity = 1 - math.sqrt(similarity)\n",
    "    return similarity\n",
    "\n",
    "def set_labels(title=None, x_label=None, y_label=None, fontsize=14, legend=None):\n",
    "  if title is not None:\n",
    "    plt.title(title, fontsize=fontsize)\n",
    "  if x_label is not None:\n",
    "    plt.xlabel(x_label, fontsize=fontsize)\n",
    "  if y_label is not None:\n",
    "    plt.ylabel(y_label, fontsize=fontsize)\n",
    "  if legend is not None:\n",
    "    legend['object'].set_title(legend['title'])\n",
    "    for t, l in zip(legend['object'].texts, legend['texts']): t.set_text(l)\n",
    "\n",
    "def with_hue(plot, feature, categories, hue_categories, diff=False, values=None):\n",
    "  a = [p.get_height() for p in plot.patches]\n",
    "  patch = [p for p in plot.patches]\n",
    "  differences = {'class': [], 'value': []}\n",
    "  return_value = []\n",
    "  for i in range(categories):\n",
    "    total = a[i] + a[i+categories]\n",
    "    difference = []\n",
    "    for j in range(hue_categories):\n",
    "      value = round(100 * a[(j*categories + i)]/total, 2)\n",
    "      percentage = '{:.1f}%'.format(value)\n",
    "      x = patch[(j*categories + i)].get_x() + patch[(j*categories + i)].get_width() / 2 - 0.15\n",
    "      y = patch[(j*categories + i)].get_y() + patch[(j*categories + i)].get_height() \n",
    "      plt.annotate(percentage, (x, y), size = 12)\n",
    "      if values is not None:\n",
    "        difference.append(value)\n",
    "      if diff:\n",
    "        difference.append(value)\n",
    "    if values is not None:\n",
    "      return_value.append(difference[values])\n",
    "    if diff:\n",
    "      diff_value = abs(round(difference[0]-difference[1], 2))\n",
    "      differences['class'].append(feature[i])\n",
    "      differences['value'].append(diff_value)\n",
    "      print('{0:16s}: |{1:>5} - {2:>5}| = {3:>5}'.format(feature[i], difference[0], difference[1], diff_value))\n",
    "    #print(f'{feature[i]}: {difference[0]} - {difference[1]} = {abs(round(difference[0]-difference[1], 2))}')\n",
    "  plt.show()\n",
    "  if values is not None:\n",
    "    return return_value\n",
    "  if diff:\n",
    "    return pd.DataFrame.from_dict(differences)\n",
    "\n",
    "def with_hue_unique(plot, total, feature, categories, hue_categories, diff=False):\n",
    "  a = [p.get_height() for p in plot.patches]\n",
    "  patch = [p for p in plot.patches]\n",
    "  differences = {'class': [], 'value': []}\n",
    "  for i in range(categories):\n",
    "    difference = []\n",
    "    for j in range(hue_categories):\n",
    "      value = round(100 * a[(j*categories + i)]/total, 2)\n",
    "      percentage = '{:.1f}%'.format(value)\n",
    "      x = patch[(j*categories + i)].get_x() + patch[(j*categories + i)].get_width() / 2 - 0.15\n",
    "      y = patch[(j*categories + i)].get_y() + patch[(j*categories + i)].get_height() \n",
    "      plt.annotate(percentage, (x, y), size = 12)\n",
    "      if diff:\n",
    "        difference.append(value)\n",
    "    if diff:\n",
    "      diff_value = abs(round(difference[0]-difference[1], 2))\n",
    "      differences['class'].append(feature[i])\n",
    "      differences['value'].append(diff_value)\n",
    "      print('{0:16s}: |{1:>5} - {2:>5}| = {3:>5}'.format(feature[i], difference[0], difference[1], diff_value))\n",
    "    #print(f'{feature[i]}: {difference[0]} - {difference[1]} = {abs(round(difference[0]-difference[1], 2))}')\n",
    "  plt.show()\n",
    "  if diff:\n",
    "    return pd.DataFrame.from_dict(differences)\n",
    "  \n",
    "class display(object):\n",
    "  \"\"\"Display HTML representation of multiple objects\"\"\"\n",
    "  template = \"\"\"<div style=\"float: left; padding: 10px;\">\n",
    "  <p style='font-family:\"Courier New\", Courier, monospace'>{0}</p>{1}\n",
    "  </div>\"\"\"\n",
    "  def __init__(self, *args):\n",
    "    self.args = args\n",
    "\n",
    "  def _repr_html_(self):\n",
    "    return '\\n'.join(self.template.format(a, eval(a)._repr_html_()) for a in self.args)\n",
    "\n",
    "  def __repr__(self):\n",
    "    return '\\n\\n'.join(a + '\\n' + repr(eval(a)) for a in self.args)\n",
    "\n",
    "def remove_outlayers(dataframe: pd.DataFrame, feature: str, complete=False, limit=3):\n",
    "  z_scores = stats.zscore(dataframe[feature])\n",
    "  abs_z_scores = np.abs(z_scores)\n",
    "  filtered_entries = abs_z_scores < limit\n",
    "  if complete:\n",
    "    return dataframe[filtered_entries]\n",
    "  return dataframe[ filtered_entries ][feature]\n"
   ],
   "outputs": [],
   "metadata": {}
  },
  {
   "cell_type": "markdown",
   "source": [
    "## Enmanuel Magallanes"
   ],
   "metadata": {}
  },
  {
   "cell_type": "markdown",
   "source": [
    "## Dataset description"
   ],
   "metadata": {}
  },
  {
   "cell_type": "code",
   "execution_count": null,
   "source": [
    "plt.figure(figsize=(10,5))\n",
    "g = sns.countplot(data=df, x='total_size', order=size_dict.values(), palette=PALETTE)\n",
    "set_labels(None, 'Size', 'Frecuency')\n",
    "with_hue_unique(g, len(df),list(size_dict.values()), 5, 1)"
   ],
   "outputs": [],
   "metadata": {}
  },
  {
   "cell_type": "markdown",
   "source": [
    "The dataset is mostly made up of Medium weighted tasks, with 65.8% of deliveries, and X Small weighted tasks, with 29.1% of deliveries. The Small, Large and X Long categories are the ones that appear the least in the dataset."
   ],
   "metadata": {}
  },
  {
   "cell_type": "code",
   "execution_count": null,
   "source": [
    "df_ = remove_outlayers(df, 'distance', True)\n",
    "\n",
    "colors = sns.color_palette(\"muted\")\n",
    "size_color = [ colors[2], colors[3], colors[0], colors[1], colors[4]  ]\n",
    "\n",
    "plt.figure(figsize=(15,5))\n",
    "plt.tight_layout()\n",
    "gtg = sns.boxplot(data=df_, y='distance', x='total_size', palette=size_color, order=size_dict.values())\n",
    "gtg.set_ylabel('Distance')\n",
    "gtg.set_xlabel('Total size')\n",
    "\n",
    "plt.figure(figsize=(15,5))\n",
    "plt.tight_layout()\n",
    "gts = sns.kdeplot(data=df_, x='distance', hue='total_size',palette='muted')\n",
    "gts.legend_.set_title('Total size')\n",
    "gts.set_xlabel('Distance')"
   ],
   "outputs": [],
   "metadata": {}
  },
  {
   "cell_type": "markdown",
   "source": [
    "The task distance is very similar between the X Small, Medium and X Large weighted tasks. It has a median close to 20 and its distribution follows a similar shape, which is very slightly skewed to the right. On the other hand, the Small-weighted tasks have the smallest distance, with a median close to 10 and their distribution is strongly skewed to the right. Long-weighted tasks have a median close to 15 and are slightly skewed to the right."
   ],
   "metadata": {}
  },
  {
   "cell_type": "code",
   "execution_count": null,
   "source": [
    "plt.figure(figsize=(10,5))\n",
    "g = sns.countplot(data=df, x='delivery_type', palette=PALETTE)\n",
    "set_labels(None, 'Delivery type', 'Frecuency')\n",
    "with_hue_unique(g, len(df), list(df.delivery_type.unique()), 2, 1)"
   ],
   "outputs": [],
   "metadata": {}
  },
  {
   "cell_type": "markdown",
   "source": [
    "La mayor cantidad de tareas esta conformada por tareas de tipo Slot, las cuales son tareas que tienen una fecha de recolección, del o los paquetes, con una ventana de tiempo máxima de una hora desde la hora especificada. Por otro lado los paquetes de tipo flex, son aquellas tareas que su intervalo de recolección es mas de una hora, como máximo 12 horas."
   ],
   "metadata": {}
  },
  {
   "cell_type": "code",
   "execution_count": null,
   "source": [
    "df_ = remove_outlayers(df, 'distance', True)\n",
    "\n",
    "plt.tight_layout()\n",
    "g = sns.FacetGrid(df_.sample(frac=0.25, random_state=RANDOM_SEED),\n",
    "  row='delivery_type', col='total_size', col_order=hue_order\n",
    ")\n",
    "g.map_dataframe(sns.scatterplot, x='distance', y='cost')\n",
    "g.set_axis_labels('Distance', 'Cost')\n",
    "g.add_legend()\n",
    "g.savefig('../img/delivery_type_grid.png')"
   ],
   "outputs": [],
   "metadata": {}
  },
  {
   "cell_type": "markdown",
   "source": [
    "From the graph we can determine that flex type deliveries are the ones that present a higher correlation between the cost and distance variables, mainly between deliveries with size X Small, Small and Large, are the ones that present a weak positive correlation between cost and distance."
   ],
   "metadata": {}
  },
  {
   "cell_type": "code",
   "execution_count": null,
   "source": [
    "brush = alt.selection(type='interval', encodings=['x'])\n",
    "\n",
    "base = alt.Chart(data).mark_bar().encode(\n",
    "  x=alt.X(alt.repeat('column'), type='quantitative', bin=alt.Bin(maxbins=40)), y='count()',\n",
    "  color=alt.Color('Total size:N', scale=color_scale),\n",
    ").properties(width=380, height=250)\n",
    "background = base.encode(color=alt.value('#ddd')).add_selection(brush)\n",
    "\n",
    "highlight = base.transform_filter(brush)\n",
    "columns = ['total_size', 'distance', 'task_around']\n",
    "data = df.sample(5000)[columns]\n",
    "data.columns = ['Total size', 'Distance', 'Neighboring deliveries']\n",
    "alt.layer(background, highlight, data=data).repeat(column=list(data.columns)[1:]).properties(title='Distance - Neighboring deliveries')"
   ],
   "outputs": [],
   "metadata": {}
  },
  {
   "cell_type": "markdown",
   "source": [
    "### Correlations (Distance - Cost)"
   ],
   "metadata": {}
  },
  {
   "cell_type": "code",
   "execution_count": null,
   "source": [
    "corrs = []\n",
    "for size in df.total_size.sort_values().unique():\n",
    "  for delivery_type in df.delivery_type.unique():\n",
    "    corr = df[(df.total_size == size) & (df.delivery_type == delivery_type)][['distance', 'cost']].corr(method='pearson')\n",
    "    name = '{0} - {1}'.format(size.title(), delivery_type.title())\n",
    "    corrs.append((name, corr))\n",
    "\n",
    "corrs.sort(key=lambda x: x[1].iloc[1,0], reverse=True)\n",
    "for item in corrs:\n",
    "  print(item[0], item[1].iloc[1,0])"
   ],
   "outputs": [],
   "metadata": {}
  },
  {
   "cell_type": "code",
   "execution_count": null,
   "source": [
    "plt.figure(figsize=(10,5))\n",
    "plt.tight_layout()\n",
    "g = sns.countplot(data=df, x='is_late', palette=PALETTE)\n",
    "set_labels(None, 'Delivery with delay', 'Frecuency')\n",
    "g.figure.savefig('../img/is_late_dataset.png')\n",
    "with_hue_unique(g, len(df), list(df.is_late.unique()), 2, 1)"
   ],
   "outputs": [],
   "metadata": {}
  },
  {
   "cell_type": "markdown",
   "source": [
    "The 69.2% the dataset are delivery with delta. The delta is the time that the delivery takes to be delivered, and it is calculated by subtracting the time of the delivery from the time of the collection."
   ],
   "metadata": {}
  },
  {
   "cell_type": "code",
   "execution_count": null,
   "source": [
    "\"\"\"DELIVERY LATE ANALISIS\"\"\"\n",
    "df_delta = df[ df.is_late ]"
   ],
   "outputs": [],
   "metadata": {}
  },
  {
   "cell_type": "code",
   "execution_count": null,
   "source": [
    "df_ = remove_outlayers(df_delta, 'delta', True)\n",
    "plt.figure(figsize=(10,4))\n",
    "plt.tight_layout()\n",
    "sns.boxplot(data=df_, x='delta').figure.savefig('../img/delta_boxplot.png')\n",
    "plt.show()\n",
    "plt.figure(figsize=(10,4))\n",
    "plt.tight_layout()\n",
    "sns.kdeplot(data=df_, x='delta')"
   ],
   "outputs": [],
   "metadata": {}
  },
  {
   "cell_type": "markdown",
   "source": [
    "As the boxplot show, exits deliveries with up to 80 hours of delta. The median is close to 3 hours, and the distribution is skewed to the right."
   ],
   "metadata": {}
  },
  {
   "cell_type": "markdown",
   "source": [
    "### Temporal distribution delta\n",
    "- Month\n",
    "- Weeks\n",
    "- Days"
   ],
   "metadata": {}
  },
  {
   "cell_type": "code",
   "execution_count": null,
   "source": [
    "df_ = df.copy()\n",
    "\n",
    "df_['month'] = df_.delivery_dt.dt.month\n",
    "month_g = df_.groupby(['month', 'is_late'])['id'].count().reset_index()\n",
    "month_g = month_g[ month_g.month < 9 ]\n",
    "plt.figure(figsize=(10,4))\n",
    "plt.tight_layout()\n",
    "sns.lineplot(data=month_g, x='month', y='id', hue='is_late')\n",
    "\n",
    "df_['month'] = df_.delivery_dt.dt.month\n",
    "month_g_delta = df_.groupby('month')['delta'].mean().reset_index()\n",
    "month_g_delta = month_g_delta[ month_g_delta.month < 9 ]\n",
    "plt.figure(figsize=(10,4))\n",
    "plt.tight_layout()\n",
    "sns.lineplot(data=month_g_delta, x='month', y='delta').set(ylim=(-5,0))"
   ],
   "outputs": [],
   "metadata": {}
  },
  {
   "cell_type": "code",
   "execution_count": null,
   "source": [
    "df_['week'] = df_.delivery_dt.dt.isocalendar().week\n",
    "week_g = df_.groupby(['week', 'is_late'])['id'].count().reset_index()\n",
    "week_g = week_g[ week_g.week < 36 ]\n",
    "plt.figure(figsize=(10,4))\n",
    "plt.tight_layout()\n",
    "sns.lineplot(data=week_g, x='week', y='id', hue='is_late', palette=PALETTE_ALT)\n",
    "plt.ylabel('Frecuency')\n",
    "plt.savefig('../img/week_lineplot.png')\n",
    "\n",
    "week_g_delta = df_.groupby('week')['delta'].mean().reset_index()\n",
    "week_g_delta = week_g_delta[ week_g_delta.week < 36 ]\n",
    "plt.figure(figsize=(10,4))\n",
    "plt.tight_layout()\n",
    "sns.lineplot(data=week_g_delta, x='week', y='delta')\n",
    "\n",
    "plt.figure(figsize=(10,4))\n",
    "plt.tight_layout()\n",
    "week_g_task = df_.groupby('week')['task_around'].mean().reset_index()\n",
    "week_g_task = week_g_task[ week_g_task.week < 36 ]\n",
    "sns.lineplot(data=week_g_task, x='week', y='task_around')\n",
    "\n",
    "plt.figure(figsize=(10,4))\n",
    "plt.tight_layout()\n",
    "d_ = week_g_delta.copy()\n",
    "d_.delta = min_max_scaler(week_g_delta.delta)\n",
    "t_ = week_g_task.copy()\n",
    "t_.task_around = min_max_scaler(week_g_task.task_around)\n",
    "sns.lineplot(data=d_, x='week', y='delta', color=PALETTE_ALT[1], label='delta')\n",
    "sns.lineplot(data=t_,  x='week', y='task_around', color=PALETTE_ALT[0], label='Task around')\n",
    "plt.savefig('../img/week_lineplot_scaled.png')\n",
    "plt.ylabel('Value')\n",
    "plt.xlabel('Week')\n",
    "\n",
    "plt.figure(figsize=(10,4))\n",
    "plt.tight_layout()\n",
    "week_g_total = df_.groupby('week')['total_task'].mean().reset_index()\n",
    "week_g_total = week_g_total[ week_g_total.week < 36 ]\n",
    "sns.lineplot(data=week_g_total, x='week', y='total_task')\n",
    "\n",
    "df_['density_task'] = (df_.task_around / df_.total_task) * 1e3\n",
    "plt.figure(figsize=(10,4))\n",
    "plt.tight_layout()\n",
    "week_g_density = df_.groupby('week')['density_task'].mean().reset_index()\n",
    "week_g_density = week_g_density[ week_g_density.week < 36 ]\n",
    "sns.lineplot(data=week_g_density, x='week', y='density_task')"
   ],
   "outputs": [],
   "metadata": {}
  },
  {
   "cell_type": "markdown",
   "source": [
    "Podemos observar que el comportamiento del delta tiene a crecer durante el tiempo. mientras que la cantidad de entregas vecinas tiene cierta sensionalidad con una tendencia a decrecer, esta presenta picos en las semanas 24 (8 - 14 Junio), 28 (13 - 19 Julio) y 33 (10 - 16 Agosto) de año 2020. **Aparentemente se registran atrasos en tareas principalmente a mitad del mes.**"
   ],
   "metadata": {}
  },
  {
   "cell_type": "code",
   "execution_count": null,
   "source": [
    "df_['day_name'] = df_.delivery_dt.dt.day_name()\n",
    "days = ['Monday', 'Tuesday', 'Wednesday', 'Thursday', 'Friday', 'Saturday', 'Sunday']\n",
    "day_name_g = df_.groupby(['day_name', 'is_late'])['id'].count().reset_index()\n",
    "plt.figure(figsize=(10,4))\n",
    "plt.tight_layout()\n",
    "gd = sns.barplot(data=day_name_g, x='day_name', y='id', order=days)\n",
    "gd.set_ylabel('Frecuency')\n",
    "gd.figure.savefig('../img/delivery_day_name.png')\n",
    "set_labels(None, 'Day of the week', 'Frecuency')\n",
    "\n",
    "plt.figure(figsize=(10,4))\n",
    "plt.tight_layout()\n",
    "gdl = sns.barplot(data=day_name_g, x='day_name', y='id',hue='is_late', order=days, palette=PALETTE_ALT)\n",
    "gdl.set_ylabel('Frecuency')\n",
    "gdl.figure.savefig('../img/delivery_day_name_late.png')\n",
    "set_labels(None, 'Day of the week', 'Frecuency', legend={'object': gdl.get_legend(), 'title': 'Delivery time', 'texts': ['Not Late', 'Late']})\n",
    "diffs = with_hue(gdl, days, 7, 2, values=1)\n",
    "\n",
    "plt.figure(figsize=(10,4))\n",
    "plt.tight_layout()\n",
    "sns.lineplot(data=diffs, color=PALETTE_ALT[1])\n",
    "set_labels('Percentage of deliveries with delta on week', 'Day', 'Percentaje')\n",
    "\n",
    "day_name_g_delta = remove_outlayers(df_, 'delta', True).groupby('day_name')['delta'].mean().reset_index()\n",
    "day_name_g_delta['day_number'] = day_name_g_delta.day_name.apply(lambda x: days.index(x))\n",
    "day_name_g_delta.delta = day_name_g_delta.delta * -1\n",
    "plt.figure(figsize=(10,4))\n",
    "plt.tight_layout()\n",
    "\n",
    "set_labels(None, 'Day of the week', 'delta of deliveries')\n",
    "\n",
    "day_name_g_task = remove_outlayers(df_, 'task_around', True).groupby('day_name')['task_around'].mean().reset_index()\n",
    "day_name_g_task['day_number'] = day_name_g_task.day_name.apply(lambda x: days.index(x))\n",
    "plt.figure(figsize=(10,4))\n",
    "plt.tight_layout()\n",
    "day_name_g_task['day_number'] = day_name_g_task.day_name.apply(lambda x: days.index(x))\n",
    "d_ = day_name_g_delta.copy()\n",
    "d_.delta = min_max_scaler(day_name_g_delta.delta)\n",
    "t_ = day_name_g_task.copy()\n",
    "t_.task_around = min_max_scaler(day_name_g_task.task_around)\n",
    "sns.lineplot(data=d_, x='day_number', y='delta', color=PALETTE_ALT[1], label='delta')\n",
    "sns.lineplot(data=t_, x='day_number', y='task_around', color=PALETTE_ALT[0], label='Task around')\n",
    "plt.savefig('../img/day_name_lineplot_scaled.png')\n"
   ],
   "outputs": [],
   "metadata": {}
  },
  {
   "cell_type": "markdown",
   "source": [
    "Como se puede observar en las graficas, desde el lunes hasta el sabado se presenta una gran cantidad de entregas con delta, siendo los Lunes, Viernes y Sabados los dias con mayor porcentaje de entregas con delta. Adicionalmente, de Lunes a Sabados el delta de los deliveries es basntante similar, siendo el Sabado el dia que se registra un aumento en los retrasos y el Domingo el dia que se registran menos retrasos."
   ],
   "metadata": {}
  },
  {
   "cell_type": "code",
   "execution_count": null,
   "source": [
    "df_['day_of_year'] = df_.delivery_dt.dt.dayofyear\n",
    "df_ = df_[ df_.week < 36 ]\n",
    "g_corr = remove_outlayers(df_, 'delta', True).groupby('week')['delta'].mean().reset_index()\n",
    "g_corr['task_around'] = remove_outlayers(df_, 'task_around', True).groupby('week')['task_around'].mean().reset_index()['task_around']\n",
    "g_corr[['delta', 'task_around']].corr(method='spearman')"
   ],
   "outputs": [],
   "metadata": {}
  },
  {
   "cell_type": "code",
   "execution_count": null,
   "source": [
    "sns.kdeplot(data=remove_outlayers(df_, 'delta', True, 3), x='delta')"
   ],
   "outputs": [],
   "metadata": {}
  },
  {
   "cell_type": "code",
   "execution_count": null,
   "source": [
    "sns.kdeplot(data=remove_outlayers(df_, 'task_around', True, 3), x='task_around')"
   ],
   "outputs": [],
   "metadata": {}
  },
  {
   "cell_type": "code",
   "execution_count": null,
   "source": [
    "plt.figure(figsize=(10,10))\n",
    "plt.tight_layout()\n",
    "sns.regplot(data=g_corr, x='task_around', y='delta').figure.savefig('../img/task_around_delta_regplot.png')"
   ],
   "outputs": [],
   "metadata": {}
  },
  {
   "cell_type": "code",
   "execution_count": null,
   "source": [
    "import numpy as np\n",
    "data = df_.sample(5000)\n",
    "#data['class_delta'] = data.delta.apply(lambda x: 1 if x > 0 else 0)\n",
    "data['class_delta'] = pd.cut(data.delta, bins=[-np.inf, 0, np.inf]).astype(str)\n",
    "# interval selection in the scatter plot\n",
    "pts = alt.selection(type=\"interval\", encodings=[\"x\"])\n",
    "columns_loc = ['lat', 'long', 'week', 'delivery_dt', 'delta', 'class_delta']\n",
    "color_scale = alt.Scale(domain=list(data.class_delta.unique()), type='ordinal')\n",
    "\n",
    "# left panel: scatter plot\n",
    "points = alt.Chart().mark_point(filled=True, color=PALETTE_ALT[1],).encode(\n",
    "  x=LAT_AXIS,y=LONG_AXIS,\n",
    "  color=alt.Color('class_delta:N', legend=alt.Legend(title='Delta of delivery'))\n",
    ").transform_filter(pts).properties(width=600, height=300)\n",
    "# right panel: histogram\n",
    "DEN_AXIS = alt.Y('density', type='quantitative', title='Density')\n",
    "mag = alt.Chart(data=data[columns_loc]).mark_bar().encode(\n",
    "  x=alt.X('delivery_dt', type='temporal', title='Delivery date'), y='count():Q'\n",
    "  #color=alt.Color('total_size:N', legend=alt.Legend(title='Total size'), scale=color_scale),\n",
    ").add_selection(pts)\n",
    "\n",
    "alt.hconcat(points, mag, data=data[columns_loc]).properties(title='Location of delivery by Date')"
   ],
   "outputs": [],
   "metadata": {}
  },
  {
   "cell_type": "code",
   "execution_count": null,
   "source": [
    "# Analysis on Monday, Friday, Saturday and Sunday of Total task and task around variables\n",
    "df_days = df_[ df_.day_name.isin(['Monday', 'Friday', 'Saturday', 'Sunday']) ]\n",
    "focus_days = [ 'Monday', 'Friday', 'Saturday', 'Sunday']\n",
    "plt.figure(figsize=(12,8))\n",
    "plt.tight_layout()\n",
    "sns.boxplot(data=remove_outlayers(df_, 'task_around', True), x='day_name', y='task_around', order=days)\n",
    "set_labels(None, 'Day of the week', 'Task around')"
   ],
   "outputs": [],
   "metadata": {}
  },
  {
   "cell_type": "markdown",
   "source": [
    "### Moran index (Pysal) geostatistical analysis\n",
    "### Grid of bounded box with delta as metric"
   ],
   "metadata": {}
  },
  {
   "cell_type": "markdown",
   "source": [
    "## Question: Is the total size of packages a factor affecting the timeliness of deliveries?"
   ],
   "metadata": {}
  },
  {
   "cell_type": "code",
   "execution_count": null,
   "source": [
    "gsl = df[['id', 'total_size', 'is_late']].groupby(['total_size', 'is_late'])['id'].count().reset_index()\n",
    "plt.figure(figsize=(12,7))\n",
    "plt.tight_layout()\n",
    "f = sns.barplot(data=gsl, x='total_size', y='id', hue='is_late', order=size_dict.values(), palette=PALETTE_ALT)\n",
    "\n",
    "set_labels(\n",
    "  'Amount of tasks per type of size', 'Type of size', 'Amount of tasks', \n",
    "  legend={'object': f.get_legend(), 'title': 'Delivery time', 'texts': ['Not Late', 'Late']\n",
    "})\n",
    "diff_size = with_hue(f, list(size_dict.values()), 5, 2, diff=True)"
   ],
   "outputs": [],
   "metadata": {}
  },
  {
   "cell_type": "markdown",
   "source": [
    "In the graph we can see that there are more deliveries with size X Small and Medium than the others. However, what is important here is to analyze the percentage of tasks delivered on time and those that are not. There are no significant differences between Small and Small X-size tasks. In contrast, Medium, Large and X Large tasks have a significant difference in the percentage of on-time deliveries. This indicates that the size of deliverables affects on-time delivery when their size is equal to or larger than Medium."
   ],
   "metadata": {}
  },
  {
   "cell_type": "code",
   "execution_count": null,
   "source": [
    "plt.figure(figsize=(12,8))\n",
    "plt.tight_layout()\n",
    "sns.barplot(data=diff_size, x='class', y='value')\n",
    "set_labels(\n",
    "  title='Difference between the percentage of deliveries late minus not late deliveries\\nclassified by total size of delivery',\n",
    "  x_label='Class of size of deliveries', y_label='Amount of deliveries'\n",
    ")"
   ],
   "outputs": [],
   "metadata": {}
  },
  {
   "cell_type": "markdown",
   "source": [
    "## Question 2: Are tasks with fewer neighboring deliveries* taking longer to reach their delivery point?\n",
    "\\* We define neighboring deliveries as all those deliveries that are less than or equal to X KM away from the same and their delivery date is within T hours of the same."
   ],
   "metadata": {}
  },
  {
   "cell_type": "code",
   "execution_count": null,
   "source": [
    "# We will group deliveries by route ID, to get the average distance and time from the first delivery to the last delivery. \n",
    "# With these values we will obtain distance and time ranges to find the route density.\n",
    "def haversine_distance(x, y):\n",
    "  lon1, lat1, lon2, lat2 = map(math.radians, [x[0], x[1], y[0], y[1]])\n",
    "  dlon = lon2 - lon1\n",
    "  dlat = lat2 - lat1\n",
    "  a = sin(dlat / 2) ** 2 + cos(lat1) * cos(lat2) * sin(dlon / 2) ** 2\n",
    "  c = 2 * math.asin(sqrt(a))\n",
    "  return R * c\n",
    "\n",
    "def generate_combinations(points):\n",
    "  combinations = []\n",
    "  for i in range(len(points)):\n",
    "    for j in range(i+1, len(points)):\n",
    "      combinations.append([points[i], points[j]])\n",
    "  return combinations\n",
    "\n",
    "def calculate_time(group):\n",
    "  min_dt = group['delivery_dt'].min()\n",
    "  max_dt = group['delivery_dt'].max()\n",
    "  return (max_dt - min_dt).total_seconds() / 3600\n",
    "\n",
    "def calculate_distance(group):\n",
    "  group = group.set_index('delivery_dt')\n",
    "  group = group.sort_values('delivery_dt')\n",
    "  center = (group['long'].mean(), group['lat'].mean())\n",
    "  return np.array(group.apply(lambda r: haversine_distance((r.long, r.lat), center), axis=1)).mean()\n",
    "\n",
    "gr_hours = df.groupby('route_id').apply(calculate_time)\n",
    "gr_distance = df.groupby('route_id').apply(calculate_distance)"
   ],
   "outputs": [],
   "metadata": {}
  },
  {
   "cell_type": "code",
   "execution_count": null,
   "source": [
    "fig, ax =plt.subplots(1,2, figsize=(20,4))\n",
    "fig.tight_layout()\n",
    "\n",
    "ax[0].set_title('Distribution of time from first to last delivery')\n",
    "ax[0].set_xlabel('Time (hour)')\n",
    "sns.kdeplot(data=gr_distance, ax=ax[0], color=PALETTE[1])\n",
    "\n",
    "ax[1].set_title('Box plot of time from first to last delivery')\n",
    "ax[1].set_xlabel('Time (hour)')\n",
    "sns.boxenplot(data=gr_distance, ax=ax[1], color=PALETTE[1])\n",
    "\n",
    "print('Mean time from first delivery to the last delivery: {0:.2f} hours'.format(gr_hours.mean()))"
   ],
   "outputs": [],
   "metadata": {}
  },
  {
   "cell_type": "code",
   "execution_count": null,
   "source": [
    "fig, ax =plt.subplots(1,2, figsize=(20,4))\n",
    "fig.tight_layout()\n",
    "\n",
    "ax[0].set_title('Distribution of distance from first to last delivery')\n",
    "ax[0].set_xlabel('Distnace (km)')\n",
    "sns.kdeplot(data=gr_hours, ax=ax[0], color=PALETTE[1])\n",
    "\n",
    "ax[1].set_title('Box plot of distance from first to last delivery')\n",
    "ax[1].set_xlabel('Distnace (km)')\n",
    "sns.boxenplot(data=gr_hours, ax=ax[1], color=PALETTE[1])\n",
    "print('Mean distance first delivery to the last delivery: {0:.2f} km'.format(gr_distance.mean()))"
   ],
   "outputs": [],
   "metadata": {}
  },
  {
   "cell_type": "markdown",
   "source": [
    "As we can see the scheduled time from the first delivery to the last delivery, on average, is 3.12 hours and the distance, on average, is 3.20 km. These values will be our time window and radius to use to determine the number of deliveries that exist around one"
   ],
   "metadata": {}
  },
  {
   "cell_type": "code",
   "execution_count": null,
   "source": [
    "# Remoiving outlayers using the z-score\n",
    "task_around_filtered = remove_outlayers(df, 'task_around')\n",
    "\n",
    "fig, ax =plt.subplots(1,2, figsize=(20,4))\n",
    "fig.tight_layout()\n",
    "\n",
    "ax[0].set_title('Distribution of neighboring deliveries')\n",
    "ax[0].set_xlabel('Neighboring deliveries')\n",
    "sns.kdeplot(data=task_around_filtered, ax=ax[0], color=PALETTE[1])\n",
    "\n",
    "ax[1].set_title('Box plot of neighboring deliveries')\n",
    "ax[1].set_xlabel('Neighboring deliveries')\n",
    "sns.boxenplot(data=task_around_filtered, ax=ax[1], color=PALETTE[1])\n",
    "\n",
    "print('Mean neighboring deliveries: {0:.2f} deliveries'.format(task_around_filtered.mean()))\n",
    "print('STD neighboring deliveries: {0:.2f}'.format(task_around_filtered.std()))"
   ],
   "outputs": [],
   "metadata": {}
  },
  {
   "cell_type": "code",
   "execution_count": null,
   "source": [
    "df['class_neighboring'] = pd.cut(\n",
    "  df['task_around'], \n",
    "  include_lowest=True,\n",
    "  bins=[x for x in range(0, 900, 100)]\n",
    ")\n",
    "\n",
    "gnl = df[['id', 'class_neighboring', 'is_late']].groupby(['class_neighboring', 'is_late'])['id'].count().reset_index()\n",
    "plt.figure(figsize=(12,7))\n",
    "plt.tight_layout()\n",
    "f = sns.barplot(data=gnl, x='class_neighboring', y='id', hue='is_late', palette=PALETTE_ALT)\n",
    "\n",
    "set_labels(\n",
    "  'Amount of tasks per class of neighboring deliverie', 'Bind of neighboring deliveries', 'Amount of deliveries', \n",
    "  legend={'object': f.get_legend(), 'title': 'Delivery time', 'texts': ['Not Late', 'Late']\n",
    "})\n",
    "classes_list = list(map(lambda item: str(item), df['class_neighboring'].sort_values().unique()))\n",
    "diff_list = with_hue(f, classes_list, 8, 2, diff=True)"
   ],
   "outputs": [],
   "metadata": {}
  },
  {
   "cell_type": "markdown",
   "source": [
    "In the plot we can see that as the number of neighboring deliveries increases, the percentage of late deliveries also increases. This tells us that the higher the concentration or density of deliveries around you, the more likely it is that you will be late in reaching the final customer"
   ],
   "metadata": {}
  },
  {
   "cell_type": "code",
   "execution_count": null,
   "source": [
    "plt.figure(figsize=(12,8))\n",
    "plt.tight_layout()\n",
    "sns.barplot(data=diff_list, x='class', y='value')\n",
    "set_labels(\n",
    "  title='Difference between the percentage of deliveries late minus not late deliveries\\nclassified by number of neighboring deliveries',\n",
    "  x_label='Class of amount of neighboring deliveries', y_label='Amount of deliveries'\n",
    ")"
   ],
   "outputs": [],
   "metadata": {}
  },
  {
   "cell_type": "code",
   "execution_count": null,
   "source": [
    "plt.figure(figsize=(10,15))\n",
    "plt.tight_layout()\n",
    "\n",
    "data = df[['total_size', 'delivery_type', 'task_around', 'lat', 'long', 'delta']]\n",
    "data = data.sample(frac=0.05, random_state=RANDOM_SEED).sort_values(by='task_around', ascending=True)\n",
    "\n",
    "norm = plt.Normalize(data.delta.min(), data.delta.max())\n",
    "sm = plt.cm.ScalarMappable(cmap=\"flare\", norm=norm)\n",
    "sm.set_array([])\n",
    "\n",
    "g = sns.FacetGrid(data=data, row='total_size', col_order=hue_order, height=6, aspect=2.2)\n",
    "plt.colorbar(sm)\n",
    "plt.ylabel('Delta of delivery')\n",
    "g.map_dataframe(sns.scatterplot, x='lat', y='long', hue='delta', \n",
    "  palette='flare', size='task_around', size_order=hue_order, sizes=(20, 250)\n",
    ")\n",
    "\"\"\" g = sns.scatterplot(data=df.sample(frac=0.3, random_state=RANDOM_SEED).sort_values(by='task_around', ascending=True),\n",
    "  x='lat', y='long', hue='task_around', palette='flare', size='delay', size_order=hue_order, sizes=(50, 250)\n",
    ") \"\"\"\n",
    "g.set(xlim=(-33.70, -33.1), ylim=(-70.4, -71))\n",
    "g.savefig('../img/delivery_map.png', dpi=300)\n",
    "#g.figure.savefig('../img/location_nd.png')\n"
   ],
   "outputs": [],
   "metadata": {}
  },
  {
   "cell_type": "markdown",
   "source": [
    "Small tiene pocas pero muy atrasadas, X small mas espasidad y menos atrasadas, Medium tiene muchas mas tareas y en general el retraso de sus tareas es muy poco pero igual siguen siendo atrasadas. Larga tiene pocas tareas y muy atrasadas. Ademas podemos ver que en exista un cierta region donde los puntos son mas grandes para todos los plots, esta region correpsonde a una zona residencian de Stg de Chile, ahi se ecnuentra siemrpe una alta concentracion de entregas.\n"
   ],
   "metadata": {}
  },
  {
   "cell_type": "code",
   "execution_count": null,
   "source": [
    "plt.figure(figsize=(10,10))\n",
    "plt.tight_layout()\n",
    "g = sns.scatterplot(data=remove_outlayers(df.sample(100000), 'delta', True), x='delta', y='task_around')\n",
    "#change scale to log\n",
    "g.set(yscale='log')"
   ],
   "outputs": [],
   "metadata": {}
  },
  {
   "cell_type": "code",
   "execution_count": null,
   "source": [
    "plt.figure(figsize=(10,10))\n",
    "plt.tight_layout()\n",
    "sns.scatterplot(data=remove_outlayers(df.sample(80000), 'delta', True), x='delta', y='total_task')"
   ],
   "outputs": [],
   "metadata": {}
  },
  {
   "cell_type": "code",
   "execution_count": null,
   "source": [
    "plt.figure(figsize=(10,10))\n",
    "plt.tight_layout()\n",
    "sns.scatterplot(data=remove_outlayers(df.sample(80000), 'delta', True), x='task_around', y='total_task')"
   ],
   "outputs": [],
   "metadata": {}
  },
  {
   "cell_type": "markdown",
   "source": [
    "There is a high concentration of deliveries with a high number of neighboring deliveries at one point on the map. On the other hand, the further away from that point the number of neighboring deliveries decreases and deliveries larger than Medium are more frequent."
   ],
   "metadata": {}
  },
  {
   "cell_type": "code",
   "execution_count": null,
   "source": [
    "data = remove_outlayers(df.sample(5000)[columns], 'task_around', True)\n",
    "# interval selection in the scatter plot\n",
    "pts = alt.selection(type=\"interval\", encodings=[\"x\"])\n",
    "\n",
    "# left panel: scatter plot\n",
    "points = alt.Chart().mark_point(filled=True, color=PALETTE_ALT[1],).encode(x=LAT_AXIS,y=LONG_AXIS\n",
    ").transform_filter(pts).properties(width=600, height=300)\n",
    "\n",
    "# right panel: histogram\n",
    "mag = alt.Chart(data=data[columns]).transform_density(density=\"task_around\", as_=['task_around', 'density'],).mark_area().encode(\n",
    "  x=alt.X('task_around', type='quantitative', title='Neighboring deliveries'), y=DEN_AXIS\n",
    "  #color=alt.Color('total_size:N', legend=alt.Legend(title='Total size'), scale=color_scale),\n",
    ").add_selection(pts)\n",
    "\n",
    "alt.hconcat(points, mag, data=data[columns]).properties(title='Location of delivery by Neighborign deliveries')\n",
    "# circulos de colores"
   ],
   "outputs": [],
   "metadata": {}
  },
  {
   "cell_type": "markdown",
   "source": [
    "En la figura podemos ver que existe una alta concentracion de entregas con una alta cnantidad de entregs vecinas en un punto muy concreto del mapa y que mayormente son de un tamaño menor a Medium. Por otro lado las cantidad de entregas vecinas disminuye conforme la ubicacion de la tarea del circula de entregas con mas tareas vecinas y tambien el tamaño de dichas tareas suele ser mas grande "
   ],
   "metadata": {}
  },
  {
   "cell_type": "code",
   "execution_count": null,
   "source": [
    "data = remove_outlayers(df.sample(5000)[columns], 'distance', True)\n",
    "# interval selection in the scatter plot\n",
    "pts = alt.selection(type=\"interval\", encodings=[\"x\"])\n",
    "\n",
    "# left panel: scatter plot\n",
    "points = alt.Chart().mark_point(filled=True, color=PALETTE_ALT[1],).encode(x=LAT_AXIS,y=LONG_AXIS\n",
    ").transform_filter(pts).properties(width=600, height=300)\n",
    "\n",
    "# right panel: histogram\n",
    "mag = alt.Chart(data=data).transform_density(density=\"distance\", as_=['distance', 'density']).mark_area().encode(\n",
    "  x=alt.X('distance', type='quantitative', title='Distnace'), \n",
    "  y=DEN_AXIS\n",
    "  #color=alt.Color('total_size:N', legend=alt.Legend(title='Total size'), scale=color_scale),\n",
    ").add_selection(pts)\n",
    "\n",
    "alt.hconcat(points, mag, data=data[columns]).properties(title='Location of delivery by distance value')"
   ],
   "outputs": [],
   "metadata": {}
  },
  {
   "cell_type": "code",
   "execution_count": null,
   "source": [
    "data = remove_outlayers(df.sample(5000)[columns], 'delta', True)\n",
    "# interval selection in the scatter plot\n",
    "pts = alt.selection(type=\"interval\", encodings=[\"x\"])\n",
    "\n",
    "# left panel: scatter plot\n",
    "points = alt.Chart().mark_point(filled=True, color=PALETTE_ALT[1]).encode(x=LAT_AXIS,y=LONG_AXIS\n",
    ").transform_filter(pts).properties(width=600, height=300)\n",
    "\n",
    "# right panel: histogram\n",
    "mag = alt.Chart(data=data[columns]).transform_density(density=\"delta\", as_=['delta', 'density']).mark_area().encode(\n",
    "  x=alt.X('delta', type='quantitative', title='delta delivery'), y=DEN_AXIS,\n",
    "  #color=alt.Color('total_size:N', legend=alt.Legend(title='Total size'), scale=color_scale),\n",
    ").add_selection(pts)\n",
    "\n",
    "alt.hconcat(points, mag, data=data[columns]).properties(title='Location of delivery by distance value')"
   ],
   "outputs": [],
   "metadata": {}
  },
  {
   "cell_type": "code",
   "execution_count": null,
   "source": [
    "data = remove_outlayers(df.sample(5000)[columns], 'cost', True)\n",
    "# interval selection in the scatter plot\n",
    "pts = alt.selection(type=\"interval\", encodings=[\"x\"])\n",
    "\n",
    "# left panel: scatter plot\n",
    "points = alt.Chart().mark_point(filled=True, color=PALETTE_ALT[1]).encode(x=LAT_AXIS,y=LONG_AXIS\n",
    ").transform_filter(pts).properties(width=600, height=300)\n",
    "\n",
    "# right panel: histogram\n",
    "mag = alt.Chart(data=data[columns]).transform_density(density=\"cost\",as_=['cost', 'density']).mark_area().encode(\n",
    "  x=alt.X('cost', type='quantitative',title='Cost'), y=DEN_AXIS,\n",
    ").add_selection(pts)\n",
    "\n",
    "alt.hconcat(points, mag, data=data[columns])"
   ],
   "outputs": [],
   "metadata": {}
  },
  {
   "cell_type": "markdown",
   "source": [
    "## Ploting location of task with low and hight neighboring deliveries "
   ],
   "metadata": {}
  },
  {
   "cell_type": "code",
   "execution_count": null,
   "source": [
    "diff = df['delivery'] - df['delivery_effective']\n",
    "df['delta_delivery'] = diff.apply(lambda x: abs(int(x.total_seconds()))) / 3600"
   ],
   "outputs": [],
   "metadata": {}
  },
  {
   "cell_type": "code",
   "execution_count": null,
   "source": [
    "def get_color(tasks):\n",
    "  \"\"\"Get color for task\"\"\"\n",
    "  if tasks == 0:\n",
    "    return 'black'\n",
    "  elif 0 <= tasks < 300:\n",
    "    return 'blue'\n",
    "  elif 300 <= tasks < 1000:\n",
    "    return 'red'\n",
    "\n",
    "def add_marker(row, map_stg):\n",
    "  folium.Marker(\n",
    "    location=[row['lat'], row['long']],\n",
    "    popup=row['id'],\n",
    "    icon=folium.Icon(color=get_color(row['task_around']))\n",
    "  ).add_to(map_stg)\n",
    "\n",
    "stg_map = folium.Map(location=[-33.469477, -70.643929], zoom_start=12)\n",
    "a = df \\\n",
    "[['lat', 'long', 'id', 'class_neighboring', 'task_around']].sample(100).apply(\n",
    "  lambda r: add_marker(r, stg_map), axis=1\n",
    ")\n",
    "show_map = None\n",
    "if False:\n",
    "  show_map = stg_map\n",
    "show_map"
   ],
   "outputs": [],
   "metadata": {}
  },
  {
   "cell_type": "markdown",
   "source": [
    "## Question 3: What are the common characteristics of the tasks with delta on delivery time?\n",
    "### Clustering (KMeans)"
   ],
   "metadata": {}
  },
  {
   "cell_type": "markdown",
   "source": [
    "### Data normaliation\n",
    "- Power law distribution: apply log transform scale [0,1]\n",
    "- A normal (gaussian) distribution: apply normalization [0,1] (z-score, min-max, divide by max)\n",
    "- Any diferent distribution (like bimodal or possion): apply quantiles [0,1] (bins)"
   ],
   "metadata": {}
  },
  {
   "cell_type": "code",
   "execution_count": null,
   "source": [
    "features = [\n",
    "  'distance', 'cost', 'delta', 'lat', 'long', 'task_around', #numerical variables\n",
    "  'delivery_type', 'total_size', # categorical variables\n",
    "]\n",
    "stad_dt = ['delivery_dt', 'pickup_effective_dt']"
   ],
   "outputs": [],
   "metadata": {}
  },
  {
   "cell_type": "code",
   "execution_count": null,
   "source": [
    "original_cols = df.columns\n",
    "\n",
    "dff = df.copy()\n",
    "dff.total_size = dff.total_size.astype('category').cat.codes\n",
    "dff.delivery_type = dff.delivery_type.astype('category').cat.codes\n",
    "dff.total_size = dff.total_size.astype('category').cat.codes\n",
    "dff.delivery_type = dff.delivery_type.astype('category').cat.codes\n",
    "#dff[features]"
   ],
   "outputs": [],
   "metadata": {}
  },
  {
   "cell_type": "markdown",
   "source": [
    "The `total_size` is a categorical variable, so we will use the raw value for clustering and max-min normalization."
   ],
   "metadata": {}
  },
  {
   "cell_type": "code",
   "execution_count": null,
   "source": [
    "feature_clean = remove_outlayers(dff, 'distance')\n",
    "plt.figure(figsize=(8,4))\n",
    "plt.tight_layout()\n",
    "sns.kdeplot(data=feature_clean, ax=plt.gca(), palette=PALETTE_ALT[1], fill=True).figure.savefig('../img/distance_dist.pdf')"
   ],
   "outputs": [],
   "metadata": {}
  },
  {
   "cell_type": "markdown",
   "source": [
    "The `distance` variable don't have a clear distribution, so we will use quantiles and max-min normalization"
   ],
   "metadata": {}
  },
  {
   "cell_type": "code",
   "execution_count": null,
   "source": [
    "feature_clean = remove_outlayers(dff, 'lat')\n",
    "plt.figure(figsize=(8,4))\n",
    "plt.tight_layout()\n",
    "sns.kdeplot(data=feature_clean, ax=plt.gca(), palette=PALETTE_ALT[1], fill=True).figure.savefig('../img/lat_dist.pdf')"
   ],
   "outputs": [],
   "metadata": {}
  },
  {
   "cell_type": "markdown",
   "source": [
    "The `lat` variable don't have a clear distribution, so we will use max-min normalization"
   ],
   "metadata": {}
  },
  {
   "cell_type": "code",
   "execution_count": null,
   "source": [
    "feature_clean = remove_outlayers(dff, 'long')\n",
    "plt.figure(figsize=(8,4))\n",
    "plt.tight_layout()\n",
    "sns.kdeplot(data=feature_clean, ax=plt.gca(), palette=PALETTE_ALT[1], fill=True).figure.savefig('../img/long_dist.pdf')"
   ],
   "outputs": [],
   "metadata": {}
  },
  {
   "cell_type": "markdown",
   "source": [
    "The `long` variable don't have a clear distribution, so we will use the max-min normalization"
   ],
   "metadata": {}
  },
  {
   "cell_type": "code",
   "execution_count": null,
   "source": [
    "feature_clean = remove_outlayers(dff, 'task_around')\n",
    "plt.figure(figsize=(8,4))\n",
    "plt.tight_layout()\n",
    "sns.kdeplot(data=feature_clean, ax=plt.gca(), palette=PALETTE_ALT[1], fill=True).figure.savefig('../img/task_a_dist.pdf')"
   ],
   "outputs": [],
   "metadata": {}
  },
  {
   "cell_type": "markdown",
   "source": [
    "The `task_around` variable doesn't follow a known distribution. In this case we will use max-min normalization."
   ],
   "metadata": {}
  },
  {
   "cell_type": "code",
   "execution_count": null,
   "source": [
    "feature_clean = remove_outlayers(dff, 'cost')\n",
    "plt.figure(figsize=(8,4))\n",
    "plt.tight_layout()\n",
    "sns.kdeplot(data=feature_clean, ax=plt.gca(), palette=PALETTE_ALT[1], fill=True).figure.savefig('../img/cost_dist.pdf')"
   ],
   "outputs": [],
   "metadata": {}
  },
  {
   "cell_type": "markdown",
   "source": [
    "The `cost` variable doesn't follow a known distribution. In this case we will use max-min normalization in this variable for clustering"
   ],
   "metadata": {}
  },
  {
   "cell_type": "code",
   "execution_count": null,
   "source": [
    "feature_clean = remove_outlayers(dff, 'delta')\n",
    "plt.figure(figsize=(8,4))\n",
    "plt.tight_layout()\n",
    "sns.kdeplot(data=feature_clean, ax=plt.gca(), palette=PALETTE_ALT[1], fill=True).figure.savefig('../img/deslta_dist.pdf')"
   ],
   "outputs": [],
   "metadata": {}
  },
  {
   "cell_type": "markdown",
   "source": [
    "The `delta` variable doesn't follow a known distribution. In this case we will use max-min normalization in this variable for clustering"
   ],
   "metadata": {}
  },
  {
   "cell_type": "markdown",
   "source": [
    "### Similarity metrics\n",
    "We choose the cosine distance has a similarity metric."
   ],
   "metadata": {}
  },
  {
   "cell_type": "code",
   "execution_count": null,
   "source": [
    "# Task random A\n",
    "task_random_a = dff.sample(1)[features]\n",
    "# Task random B\n",
    "task_random_b = dff.sample(1)[features]\n",
    "# Similarity\n",
    "similarity = cosine_similarity(task_random_a, task_random_b)\n",
    "print(f'Similarity: {similarity}')\n",
    "display('task_random_a', 'task_random_b')"
   ],
   "outputs": [],
   "metadata": {}
  },
  {
   "cell_type": "markdown",
   "source": [
    "### Apply max-min normalization for clustering"
   ],
   "metadata": {}
  },
  {
   "cell_type": "code",
   "execution_count": null,
   "source": [
    "\"\"\" dff.distance = create_quantiles(dff.distance, 10) # 30\n",
    "dff.cost = create_quantiles(dff.cost, 7)\n",
    "dff.delta = create_quantiles(dff.delta, 10)\n",
    "dff.lat = create_quantiles(dff.lat, 10)\n",
    "dff.long = create_quantiles(dff.long, 10)\n",
    "dff.task_around = create_quantiles(dff.task_around, 5) \"\"\"\n",
    "\n",
    "\"\"\" dff.distance = create_quantiles(dff.distance, 10) # 30\n",
    "dff.cost = create_quantiles(dff.cost, 3)\n",
    "dff.delta = create_quantiles(dff.delta, 10)\n",
    "dff.lat = create_quantiles(dff.lat, 10)\n",
    "dff.long = create_quantiles(dff.long, 10)\n",
    "dff.task_around = create_quantiles(dff.task_around, 4) \"\"\"\n",
    "\n",
    "\"\"\" dff.distance = create_quantiles(dff.distance, 10) # 30\n",
    "dff.cost = create_quantiles(dff.cost, 3)\n",
    "dff.delta = create_quantiles(dff.delta, 3)\n",
    "dff.lat = create_quantiles(dff.lat, 10)\n",
    "dff.long = create_quantiles(dff.long, 10)\n",
    "dff.task_around = create_quantiles(dff.task_around, 4) \"\"\"\n",
    "\n",
    "dff.distance = create_quantiles(dff.distance, 10) # 30\n",
    "dff.cost = create_quantiles(dff.cost, 3)\n",
    "dff.delta = create_quantiles(dff.delta, 3)\n",
    "dff.lat = create_quantiles(dff.lat, 10)\n",
    "dff.long = create_quantiles(dff.long, 10)\n",
    "dff.task_around = create_quantiles(dff.task_around, 4)\n",
    "\n",
    "scaler = MinMaxScaler(feature_range=(0,100))\n",
    "dff[features] = scaler.fit_transform(dff[features])"
   ],
   "outputs": [],
   "metadata": {}
  },
  {
   "cell_type": "code",
   "execution_count": null,
   "source": [
    "dff[features]"
   ],
   "outputs": [],
   "metadata": {}
  },
  {
   "cell_type": "code",
   "execution_count": null,
   "source": [
    "RAMDOM_SEED = 2048\n",
    "dff_features = dff[features]\n",
    "model = KMeans(init='k-means++', random_state=RAMDOM_SEED)\n",
    "try:\n",
    "  visualizer = KElbowVisualizer(model, k=(2,9), timings=True)\n",
    "  visualizer.fit(dff_features)\n",
    "  visualizer.figure.savefig('../img/elbow.pdf')\n",
    "except:\n",
    "  pass"
   ],
   "outputs": [],
   "metadata": {}
  },
  {
   "cell_type": "code",
   "execution_count": null,
   "source": [
    "model = KMeans(n_clusters=visualizer.elbow_value_, init='k-means++', random_state=RAMDOM_SEED)\n",
    "model.fit(dff_features)\n",
    "df['cluster']= model.predict(dff_features)\n",
    "\n",
    "plt.figure(figsize=(10,8))\n",
    "interDistance = InterclusterDistance(model, random_state=RAMDOM_SEED)\n",
    "interDistance.fit(dff_features)\n",
    "interDistance.show()\n",
    "print(interDistance.scores_)"
   ],
   "outputs": [],
   "metadata": {}
  },
  {
   "cell_type": "markdown",
   "source": [
    "El efecto de estadarizar los features o no si cambia el comportamiento de los clusters, sin estandarizacion el grafico de distancia inter-cluster muestra un aparente overlaping estre casi todos los clusters. Si bien, este overlaping en dos dimenciones no es indicador de overlaping en las dimenciones reales, es un indicador de que la calidad de los clusters no es la mejor y que estan bastante cerca entre ellos.\n",
    "\n",
    "Con la estadrizacion de las variables la cantidad de cluster recoemndada por Elbow method tambien cambio de 5 clusters a solo 3. Ahora, el graifco de inter-cluster distance muestra una mejora en la distribucion de los clusters los cuales estan mucho mas separados entre ellos."
   ],
   "metadata": {}
  },
  {
   "cell_type": "code",
   "execution_count": null,
   "source": [
    "plt.figure(figsize=(10,5))\n",
    "plt.tight_layout()\n",
    "sns.scatterplot(data=df, x='lat', y='long', hue='cluster').set(xlim=(-33.70, -33.1), ylim=(-70.4, -71))"
   ],
   "outputs": [],
   "metadata": {}
  },
  {
   "cell_type": "code",
   "execution_count": null,
   "source": [
    "for cluster in range(visualizer.elbow_value_):\n",
    "  print('Cluster {} size: {}'.format(cluster, len(df[ df['cluster'] == cluster ][features])))\n",
    "print(f'Feature used: {\", \".join(features)}')"
   ],
   "outputs": [],
   "metadata": {}
  },
  {
   "cell_type": "code",
   "execution_count": null,
   "source": [
    "columns = ['total_size', 'distance', 'task_around']\n",
    "df_ = remove_outlayers(df, 'task_around', True)\n",
    "\n",
    "plt.figure(figsize=(15,5))\n",
    "plt.tight_layout()\n",
    "gtg = sns.boxplot(data=df_, x='cluster', y='task_around', color=PALETTE_ALT[0])\n",
    "gtg.set_title('Boxplot of neighbording deliveries')\n",
    "gtg.set_ylabel('neighbording deliveries')\n",
    "gtg.figure.savefig('../img/ng_s.pdf')\n",
    "plt.figure(figsize=(15,5))\n",
    "plt.tight_layout()\n",
    "gts = sns.kdeplot(data=df_, x='task_around', hue='cluster', palette='muted')\n",
    "gts.set_title('Density of neighbording deliveries')\n",
    "gts.set_xlabel('neighbording deliveries')"
   ],
   "outputs": [],
   "metadata": {}
  },
  {
   "cell_type": "markdown",
   "source": [
    "In this graph is show a `boxenplot`. It is similar to a box plot in plotting a nonparametric representation of a distribution in which all features correspond to actual observations. By plotting more quantiles, it provides more information about the shape of the distribution, particularly in the tails.\n",
    "\n",
    "En los boxplot podemos obsrevar que los clusters 0 y 2 mantienen una mediana muy similar, siendo la mas baja de los 2 clusters, con la diferencia de que en el cluster 0 contiene densidad de valores mas alta que el clsuters 0 en valores cercanos a 600 entregas vecinas. El clsuter 1 es quien tiene una mediana mas alta de los 3 clusters, con un rango tambien el mas amplio de los 3.\n",
    "\n",
    "En el kdeplot podemos observar que la forma de las distribuciones es banstante similar entre los clusters, sin embargo, el cluster 1 es el que tiene un densidad mas alta de entregas vecinas que el reststo. El cluster 2 es el que menos densidad de tareas vecinas presenta."
   ],
   "metadata": {}
  },
  {
   "cell_type": "code",
   "execution_count": null,
   "source": [
    "df_ = remove_outlayers(df, 'cost', True)\n",
    "\n",
    "plt.figure(figsize=(15,5))\n",
    "plt.tight_layout()\n",
    "gtg = sns.boxplot(data=df_, x='cluster', y='cost', color=PALETTE_ALT[0])\n",
    "gtg.set_title('Boxplot of cost')\n",
    "gtg.figure.savefig('../img/cost_s.pdf')\n",
    "plt.figure(figsize=(15,5))\n",
    "plt.tight_layout()\n",
    "gts = sns.kdeplot(data=df_, x='cost', hue='cluster', palette='muted')\n",
    "gts.set_title('Density of Neighbod deliveries')"
   ],
   "outputs": [],
   "metadata": {}
  },
  {
   "cell_type": "markdown",
   "source": [
    "En el boxplot podemos observar como entre el cluster 0 y 2 la mediana del costo para las entregas es similar entre ellos, siendo las mas alta de los 3 clusters. Sin embargo, el clsuter 2 tiene un rango de valores mucho mas amplio, llegando hasta los 4000 pesos chilenos con mas densidad de valores, el cluster 0 tiene un rango mas pequeño, entre 1200 y 2300 pesos chilenos. El cluster 1 es quien tiene la mediana mas pequeña y sus valores tienen una alta concentracion entorno a esa media, que es aprox 1400 pesos chilenos.\n",
    "\n",
    "En el kdeplot podemos observar como claramente el clsuter 1 presenta una altisima densidad de tareas con un costo entre los valores de 100 y 200 dolares. El cluster 0 tiene pequeñas conncetraciones entre el rango de 100 y 2000 dolares, sin embargo, es mucho menos que el clsuter 1. Finalmente el cluster 2 es el que presenta la concentracion mas baja."
   ],
   "metadata": {}
  },
  {
   "cell_type": "code",
   "execution_count": null,
   "source": [
    "df_ = remove_outlayers(df, 'distance', True)\n",
    "\n",
    "plt.figure(figsize=(15,5))\n",
    "plt.tight_layout()\n",
    "gtg = sns.boxplot(data=df_, x='cluster', y='distance', color=PALETTE_ALT[0])\n",
    "gtg.set_title('Boxplot of distance')\n",
    "gtg.figure.savefig('../img/distance_s.pdf')\n",
    "\n",
    "plt.figure(figsize=(15,5))\n",
    "plt.tight_layout()\n",
    "gts = sns.kdeplot(data=df_, x='distance', hue='cluster', palette='muted')\n",
    "gts.set_title('Density of distance')"
   ],
   "outputs": [],
   "metadata": {}
  },
  {
   "cell_type": "markdown",
   "source": [
    "En los boxplot podemos observar que todas las medianas son diferentes, donde el cluster 2 es quien tiene la mediana mas vaja, es decir entregas con una distancia, en general, mas corta y su rango de valores es la mas estrecha de los 3 clusters. Luego le sigue el cluster 0, es quien tiene una mediana entre el cluster 1 y 2, con una distribución muy similar al cluster 1. Finalmente el cluster 1 es quien tiene la mediana mas alta, es decir, con entregas con una distancia mas larga y su distribucion tiene picos en los valores de 10, 15 y 20 km.\n",
    "\n",
    "En el kdeplot, podmeos observar como el cluster 1 es el que presenta una densidad alta de entregas con distnacias entre 10 y 30 km, el cluster 0 tiene un comportamiento similar y por ultimo el cluster 2 tiene una conentracion mas alta entre los valores de 0 y 10 km."
   ],
   "metadata": {}
  },
  {
   "cell_type": "code",
   "execution_count": null,
   "source": [
    "df_ = remove_outlayers(df, 'delta', True, limit=0.5)\n",
    "\n",
    "plt.figure(figsize=(15,5))\n",
    "plt.tight_layout()\n",
    "gtg = sns.boxplot(data=df_, x='cluster', y='delta', color=PALETTE_ALT[0])\n",
    "gtg.set_title('Boxplot of delta')\n",
    "gtg.figure.savefig('../img/delta_s.pdf')\n",
    "\n",
    "plt.figure(figsize=(15,5))\n",
    "plt.tight_layout()\n",
    "gts = sns.kdeplot(data=df_, x='delta', hue='cluster', palette='muted')\n",
    "gts.set_title('Density of delta')\n",
    "gts.set_xlim(-25, 25)"
   ],
   "outputs": [],
   "metadata": {}
  },
  {
   "cell_type": "code",
   "execution_count": null,
   "source": [
    "df_ = remove_outlayers(df, 'lat', True)\n",
    "\n",
    "plt.figure(figsize=(15,5))\n",
    "plt.tight_layout()\n",
    "gtg = sns.boxplot(data=df_, x='cluster', y='lat', color=PALETTE_ALT[0])\n",
    "gtg.set_title('Boxplot of lat')\n",
    "gtg.figure.savefig('../img/lat_s.pdf')\n",
    "\n",
    "plt.figure(figsize=(15,5))\n",
    "plt.tight_layout()\n",
    "gts = sns.kdeplot(data=df_, x='lat', hue='cluster', palette='muted')\n",
    "gts.set_title('Density of latitude')"
   ],
   "outputs": [],
   "metadata": {}
  },
  {
   "cell_type": "code",
   "execution_count": null,
   "source": [
    "df_ = remove_outlayers(df, 'long', True)\n",
    "\n",
    "plt.figure(figsize=(15,5))\n",
    "plt.tight_layout()\n",
    "gtg = sns.boxplot(data=df_, x='cluster', y='long', color=PALETTE_ALT[0])\n",
    "gtg.set_title('Boxplot of long')\n",
    "gtg.figure.savefig('../img/long_s.pdf')\n",
    "\n",
    "plt.figure(figsize=(15,5))\n",
    "plt.tight_layout()\n",
    "gts = sns.kdeplot(data=df_, x='long', hue='cluster', palette='muted')\n",
    "gts.set_title('Density of longitude')"
   ],
   "outputs": [],
   "metadata": {}
  },
  {
   "cell_type": "code",
   "execution_count": null,
   "source": [
    "sns.scatterplot(data=df[ df['cluster'] == 1 ], x='lat', y='long', hue='cluster').set(xlim=(-33.70, -33.1), ylim=(-70.4, -71))"
   ],
   "outputs": [],
   "metadata": {}
  },
  {
   "cell_type": "markdown",
   "source": [
    "En el boxplot y kdeplot podeos observar que el valor de delta es escalonado entre los clusters. El cluster 1 es quien tiene el valor de delta mas bajo, luego le sigue el clsuter 0 y por ultimo el cluster 2. Todos los clsuters tiene una distribucion bastante similar, muy estrecha entorno a la mediana."
   ],
   "metadata": {}
  },
  {
   "cell_type": "markdown",
   "source": [
    "## Cluster 0\n",
    "This cluster contains deliveries that arrive on time. The distances present in this cluster are the shortest of all clusters. The payment received by the shipper is close to but below the global average. Finally, the concentration of neighboring deliveries is the lowest along with cluster 3.\n",
    "\n",
    "## Cluster 1\n",
    "This cluster presents tasks that register a high delta at the time of their deliveries. The distances are the longest of the clusters. However, the payment received by the shipper is the lowest of all clusters. Finally, they have a high concentration of neighboring deliveries.\n",
    "\n",
    "## Cluster 2\n",
    "This cluster has slightly backlogged tasks. The distances are the second highest of all clusters. In this occasion shippers are paid very close to the global average. Finally, the number of neighboring deliveries is the lowest of all clusters.\n",
    "\n",
    "## Cluster 3\n",
    "This cluster contains deliveries that arrive on time. The delivery distances are the second shortest, only behind Cluster 0, and the payment received by the shipper is also low. Finally, the concentration of neighboring deliveries is the lowest along with cluster 0 deliveries.\n",
    "\n",
    "## Summary\n",
    "Clusters 1 and 2 are the ones with late deliveries. Conditions such as a very low payment to shippers and a longer delivery distance and high number of neighbors are conditions that cause deliveries to suffer a high delta at the time of delivery."
   ],
   "metadata": {}
  },
  {
   "cell_type": "markdown",
   "source": [
    "## Josue Cobos"
   ],
   "metadata": {}
  },
  {
   "cell_type": "code",
   "execution_count": null,
   "source": [
    "g = sns.countplot(data=df_t, x='hight_neight', color=PALETTE_ALT[1])\n",
    "g.set_xticks([0,1])"
   ],
   "outputs": [],
   "metadata": {}
  },
  {
   "cell_type": "code",
   "execution_count": null,
   "source": [
    "#Question: Are those deliveries that are further from the economic center of Belo Horizonte those with the longest delivery delta?"
   ],
   "outputs": [],
   "metadata": {}
  },
  {
   "cell_type": "code",
   "execution_count": null,
   "source": [
    "#calculate distance between 2 lat long points\n",
    "def calculateDistance(point, anotherPoint):\n",
    "    lat1, lon1 = point\n",
    "    lat2, lon2 = anotherPoint \n",
    "    R = 6373.0\n",
    "    lat1 = math.radians(lat1)\n",
    "    lon1 = math.radians(lon1)\n",
    "    lat2 = math.radians(lat2)\n",
    "    lon2 = math.radians(lon2)\n",
    "\n",
    "    dlon = lon2 - lon1\n",
    "    dlat = lat2 - lat1\n",
    "\n",
    "    a = math.sin(dlat / 2)**2 + math.cos(lat1) * math.cos(lat2) * math.sin(dlon / 2)**2\n",
    "    c = 2 * math.atan2(math.sqrt(a), math.sqrt(1 - a))\n",
    "    distance = R * c\n",
    "    return distance #kilometers"
   ],
   "outputs": [],
   "metadata": {}
  },
  {
   "cell_type": "code",
   "execution_count": null,
   "source": [
    "#For this question we will assume Barreiro in the most important regional administration of Belo Horizonte\n",
    "BARREIROPOINT = (-19.977, -44.0145)\n",
    "def getDistanceFromA(row):\n",
    "  #print(row)\n",
    "  return calculateDistance(BARREIROPOINT, (row['lat'], row['long']))\n",
    "  #return row #distance"
   ],
   "outputs": [],
   "metadata": {}
  },
  {
   "cell_type": "code",
   "execution_count": null,
   "source": [
    "df['dst_to_barreiro'] = df[['lat', 'long']].apply(getDistanceFromA, axis=1)"
   ],
   "outputs": [],
   "metadata": {}
  },
  {
   "cell_type": "code",
   "execution_count": null,
   "source": [
    "plt.figure(figsize=(15,7))\n",
    "subdf = df[['dst_to_barreiro','delta_delivery']]\n",
    "f2 = sns.scatterplot(x=subdf['dst_to_barreiro'], y=subdf['delta_delivery'])\n",
    "#with_hue(f, df.class_weight, 8, 2)"
   ],
   "outputs": [],
   "metadata": {
    "collapsed": true,
    "jupyter": {
     "outputs_hidden": true
    }
   }
  },
  {
   "cell_type": "code",
   "execution_count": null,
   "source": [
    "subdf.corr()"
   ],
   "outputs": [],
   "metadata": {}
  },
  {
   "cell_type": "code",
   "execution_count": null,
   "source": [
    "#Answer: Due to the non-existent correlation between the delta of shipments (delta_delivery) and distance to Barreiro (dst_to_barreiro), we can conclude that no matter how far your order is, it does not necessarily mean that it has a longer delta time."
   ],
   "outputs": [],
   "metadata": {}
  }
 ],
 "metadata": {
  "interpreter": {
   "hash": "010e91eeda4f87380114066045952f19d1c8b5543feee126bbd5887474cb752b"
  },
  "kernelspec": {
   "name": "python3",
   "display_name": "Python 3.8.10 64-bit ('tensor_m1': conda)"
  },
  "language_info": {
   "codemirror_mode": {
    "name": "ipython",
    "version": 3
   },
   "file_extension": ".py",
   "mimetype": "text/x-python",
   "name": "python",
   "nbconvert_exporter": "python",
   "pygments_lexer": "ipython3",
   "version": "3.8.10"
  }
 },
 "nbformat": 4,
 "nbformat_minor": 4
}