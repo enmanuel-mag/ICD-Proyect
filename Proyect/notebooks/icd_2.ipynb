{
 "cells": [
  {
   "cell_type": "markdown",
   "source": [
    "## Import libraries"
   ],
   "metadata": {}
  },
  {
   "cell_type": "code",
   "execution_count": null,
   "source": [
    "import os\n",
    "import math\n",
    "import json\n",
    "import folium\n",
    "import pickle\n",
    "import warnings\n",
    "import numpy as np\n",
    "import pandas as pd\n",
    "import altair as alt\n",
    "import seaborn as sns\n",
    "from scipy import stats\n",
    "from vega_datasets import data\n",
    "import matplotlib.pyplot as plt\n",
    "from sklearn.decomposition import PCA\n",
    "from numpy import cos, sin, arcsin, sqrt\n",
    "from sklearn.preprocessing import MinMaxScaler\n",
    "from yellowbrick.cluster import KElbowVisualizer\n",
    "from sklearn.cluster import KMeans, MiniBatchKMeans\n",
    "from yellowbrick.cluster import InterclusterDistance\n",
    "from sklearn.metrics.pairwise import cosine_similarity, cosine_distances\n",
    "warnings.simplefilter(action='ignore', category=Warning)\n",
    "warnings.simplefilter(action='ignore', category=FutureWarning)\n",
    "%matplotlib inline\n",
    "plt.figure(figsize=(20,5))\n",
    "\n",
    "PALETTE_DEG = [\"FF\"]\n",
    "PALETTE = [\"#FFC30D\", \"#EF404B\"]\n",
    "PALETTE_ALT = [\"#40EFE4\", \"#EF404B\"]\n",
    "\n",
    "R = 6371\n",
    "KMS_AROUND = 3.20\n",
    "WINDOW_TIME = 3.12"
   ],
   "outputs": [],
   "metadata": {}
  },
  {
   "cell_type": "code",
   "execution_count": null,
   "source": [
    "df = pd.read_pickle(\"../data/shippify_icd_task_new.pkl\", compression='gzip')\n",
    "df['delta'] = (df.delivery_dt - df.delivery_effective).dt.total_seconds() / 3600"
   ],
   "outputs": [],
   "metadata": {}
  },
  {
   "cell_type": "markdown",
   "source": [
    "## Utils functions"
   ],
   "metadata": {}
  },
  {
   "cell_type": "code",
   "execution_count": null,
   "source": [
    "def set_labels(title=None, x_label=None, y_label=None, fontsize=14, legend=None):\n",
    "  if title is not None:\n",
    "    plt.title(title, fontsize=fontsize)\n",
    "  if x_label is not None:\n",
    "    plt.xlabel(x_label, fontsize=fontsize)\n",
    "  if y_label is not None:\n",
    "    plt.ylabel(y_label, fontsize=fontsize)\n",
    "  if legend is not None:\n",
    "    legend['object'].set_title(legend['title'])\n",
    "    for t, l in zip(legend['object'].texts, legend['texts']): t.set_text(l)\n",
    "\n",
    "def with_hue(plot, feature, categories, hue_categories, diff=False):\n",
    "  a = [p.get_height() for p in plot.patches]\n",
    "  patch = [p for p in plot.patches]\n",
    "  differences = {'class': [], 'value': []}\n",
    "  for i in range(categories):\n",
    "    total = a[i] + a[i+categories]\n",
    "    difference = []\n",
    "    for j in range(hue_categories):\n",
    "      value = round(100 * a[(j*categories + i)]/total, 2)\n",
    "      percentage = '{:.1f}%'.format(value)\n",
    "      x = patch[(j*categories + i)].get_x() + patch[(j*categories + i)].get_width() / 2 - 0.15\n",
    "      y = patch[(j*categories + i)].get_y() + patch[(j*categories + i)].get_height() \n",
    "      plt.annotate(percentage, (x, y), size = 12)\n",
    "      if diff:\n",
    "        difference.append(value)\n",
    "    if diff:\n",
    "      diff_value = abs(round(difference[0]-difference[1], 2))\n",
    "      differences['class'].append(feature[i])\n",
    "      differences['value'].append(diff_value)\n",
    "      print('{0:16s}: |{1:>5} - {2:>5}| = {3:>5}'.format(feature[i], difference[0], difference[1], diff_value))\n",
    "    #print(f'{feature[i]}: {difference[0]} - {difference[1]} = {abs(round(difference[0]-difference[1], 2))}')\n",
    "  plt.show()\n",
    "  if diff:\n",
    "    return pd.DataFrame.from_dict(differences)\n",
    "  \n",
    "class display(object):\n",
    "  \"\"\"Display HTML representation of multiple objects\"\"\"\n",
    "  template = \"\"\"<div style=\"float: left; padding: 10px;\">\n",
    "  <p style='font-family:\"Courier New\", Courier, monospace'>{0}</p>{1}\n",
    "  </div>\"\"\"\n",
    "  def __init__(self, *args):\n",
    "    self.args = args\n",
    "\n",
    "  def _repr_html_(self):\n",
    "    return '\\n'.join(self.template.format(a, eval(a)._repr_html_()) for a in self.args)\n",
    "\n",
    "  def __repr__(self):\n",
    "    return '\\n\\n'.join(a + '\\n' + repr(eval(a)) for a in self.args)\n",
    "\n",
    "def remove_outlayers(dataframe: pd.DataFrame, feature: str):\n",
    "  z_scores = stats.zscore(dataframe[feature])\n",
    "  abs_z_scores = np.abs(z_scores)\n",
    "  filtered_entries = abs_z_scores < 3\n",
    "  return dataframe[ filtered_entries ][feature]\n"
   ],
   "outputs": [],
   "metadata": {}
  },
  {
   "cell_type": "markdown",
   "source": [
    "## Enmanuel Magallanes"
   ],
   "metadata": {}
  },
  {
   "cell_type": "markdown",
   "source": [
    "## Question: Is the total size of packages a factor affecting the timeliness of deliveries?"
   ],
   "metadata": {}
  },
  {
   "cell_type": "code",
   "execution_count": null,
   "source": [
    "#dict of size\n",
    "size_dict = { 1: 'X Small', 2: 'Small', 3: 'Medium', 4: 'Large', 5: 'X Large' }\n",
    "color_scale = alt.Scale(domain=list(size_dict.values()))"
   ],
   "outputs": [],
   "metadata": {}
  },
  {
   "cell_type": "code",
   "execution_count": null,
   "source": [
    "plt.figure(figsize=(10,5))\n",
    "sns.countplot(data=df, x='total_size', order=size_dict.values(), palette=PALETTE)\n",
    "set_labels('Frecuencia de los tipos de peso', 'Tipo de peso', 'Frecuencia')"
   ],
   "outputs": [],
   "metadata": {}
  },
  {
   "cell_type": "code",
   "execution_count": null,
   "source": [
    "brush = alt.selection(type='interval', encodings=['x'])\n",
    "\n",
    "base = alt.Chart(data).mark_bar().encode(\n",
    "  x=alt.X(alt.repeat('column'), type='quantitative', bin=alt.Bin(maxbins=40)), y='count()',\n",
    "  color=alt.Color('total_size:N', legend=alt.Legend(title='Total size'), scale=color_scale),\n",
    ").properties(width=380, height=250)\n",
    "background = base.encode(color=alt.value('#ddd')).add_selection(brush)\n",
    "\n",
    "highlight = base.transform_filter(brush)\n",
    "columns = ['total_size', 'distance', 'task_around']\n",
    "data = df.sample(5000)[columns]\n",
    "alt.layer(background, highlight, data=data).repeat(column=columns[1:])"
   ],
   "outputs": [],
   "metadata": {}
  },
  {
   "cell_type": "code",
   "execution_count": null,
   "source": [
    "gsl = df[['id', 'total_size', 'is_late']].groupby(['total_size', 'is_late'])['id'].count().reset_index()\n",
    "plt.figure(figsize=(12,7))\n",
    "plt.tight_layout()\n",
    "f = sns.barplot(data=gsl, x='total_size', y='id', hue='is_late', order=size_dict.values(), palette=PALETTE_ALT)\n",
    "\n",
    "set_labels(\n",
    "  'Amount of tasks per type of size', 'Type of size', 'Amount of tasks', \n",
    "  legend={'object': f.get_legend(), 'title': 'Delivery time', 'texts': ['Not Late', 'Late']\n",
    "})\n",
    "diff_size = with_hue(f, list(size_dict.values()), 5, 2, diff=True)"
   ],
   "outputs": [],
   "metadata": {}
  },
  {
   "cell_type": "markdown",
   "source": [
    "In the graph we can see that there are more deliveries with size X Small and Medium than the others. However, what is important here is to analyze the percentage of tasks delivered on time and those that are not. There are no significant differences between Small and Small X-size tasks. In contrast, Medium, Large and X Large tasks have a significant difference in the percentage of on-time deliveries. This indicates that the size of deliverables affects on-time delivery when their size is equal to or larger than Medium."
   ],
   "metadata": {}
  },
  {
   "cell_type": "code",
   "execution_count": null,
   "source": [
    "plt.figure(figsize=(12,8))\n",
    "plt.tight_layout()\n",
    "sns.barplot(data=diff_size, x='class', y='value')\n",
    "set_labels(\n",
    "  title='Difference between the percentage of deliveries late minus not late deliveries\\nclassified by total size of delivery',\n",
    "  x_label='Class of size of deliveries', y_label='Amount of deliveries'\n",
    ")"
   ],
   "outputs": [],
   "metadata": {}
  },
  {
   "cell_type": "markdown",
   "source": [
    "## Question 2: Are tasks with fewer neighboring deliveries* taking longer to reach their delivery point?\n",
    "\\* We define neighboring deliveries as all those deliveries that are less than or equal to X KM away from the same and their delivery date is within T hours of the same."
   ],
   "metadata": {}
  },
  {
   "cell_type": "code",
   "execution_count": null,
   "source": [
    "# We will group deliveries by route ID, to get the average distance and time from the first delivery to the last delivery. \n",
    "# With these values we will obtain distance and time ranges to find the route density.\n",
    "def haversine_distance(x, y):\n",
    "  lon1, lat1, lon2, lat2 = map(math.radians, [x[0], x[1], y[0], y[1]])\n",
    "  dlon = lon2 - lon1\n",
    "  dlat = lat2 - lat1\n",
    "  a = sin(dlat / 2) ** 2 + cos(lat1) * cos(lat2) * sin(dlon / 2) ** 2\n",
    "  c = 2 * math.asin(sqrt(a))\n",
    "  return R * c\n",
    "\n",
    "def generate_combinations(points):\n",
    "  combinations = []\n",
    "  for i in range(len(points)):\n",
    "    for j in range(i+1, len(points)):\n",
    "      combinations.append([points[i], points[j]])\n",
    "  return combinations\n",
    "\n",
    "def calculate_time(group):\n",
    "  min_dt = group['delivery_dt'].min()\n",
    "  max_dt = group['delivery_dt'].max()\n",
    "  return (max_dt - min_dt).total_seconds() / 3600\n",
    "\n",
    "def calculate_distance(group):\n",
    "  group = group.set_index('delivery_dt')\n",
    "  group = group.sort_values('delivery_dt')\n",
    "  center = (group['long'].mean(), group['lat'].mean())\n",
    "  return np.array(group.apply(lambda r: haversine_distance((r.long, r.lat), center), axis=1)).mean()\n",
    "\n",
    "gr_hours = df.groupby('route_id').apply(calculate_time)\n",
    "gr_distance = df.groupby('route_id').apply(calculate_distance)"
   ],
   "outputs": [],
   "metadata": {}
  },
  {
   "cell_type": "code",
   "execution_count": null,
   "source": [
    "fig, ax =plt.subplots(1,2, figsize=(20,4))\n",
    "fig.tight_layout()\n",
    "\n",
    "ax[0].set_title('Distribution of time from first to last delivery')\n",
    "ax[0].set_xlabel('Time (hour)')\n",
    "sns.kdeplot(data=gr_distance, ax=ax[0], color=PALETTE[1])\n",
    "\n",
    "ax[1].set_title('Box plot of time from first to last delivery')\n",
    "ax[1].set_xlabel('Time (hour)')\n",
    "sns.boxenplot(data=gr_distance, ax=ax[1], color=PALETTE[1])\n",
    "\n",
    "print('Mean time from first delivery to the last delivery: {0:.2f} hours'.format(gr_hours.mean()))"
   ],
   "outputs": [],
   "metadata": {}
  },
  {
   "cell_type": "code",
   "execution_count": null,
   "source": [
    "fig, ax =plt.subplots(1,2, figsize=(20,4))\n",
    "fig.tight_layout()\n",
    "\n",
    "ax[0].set_title('Distribution of distance from first to last delivery')\n",
    "ax[0].set_xlabel('Distnace (km)')\n",
    "sns.kdeplot(data=gr_hours, ax=ax[0], color=PALETTE[1])\n",
    "\n",
    "ax[1].set_title('Box plot of distance from first to last delivery')\n",
    "ax[1].set_xlabel('Distnace (km)')\n",
    "sns.boxenplot(data=gr_hours, ax=ax[1], color=PALETTE[1])\n",
    "print('Mean distance first delivery to the last delivery: {0:.2f} km'.format(gr_distance.mean()))"
   ],
   "outputs": [],
   "metadata": {}
  },
  {
   "cell_type": "markdown",
   "source": [
    "As we can see the scheduled time from the first delivery to the last delivery, on average, is 3.12 hours and the distance, on average, is 3.20 km. These values will be our time window and radius to use to determine the number of deliveries that exist around one"
   ],
   "metadata": {}
  },
  {
   "cell_type": "code",
   "execution_count": null,
   "source": [
    "df['class_neighboring'] = pd.cut(\n",
    "  df['task_around'], \n",
    "  include_lowest=True,\n",
    "  bins=[x for x in range(0, 800, 100)]\n",
    ")\n",
    "#df_filtered['class_neighboring'] = df_filtered['class_neighboring'].astype('str')"
   ],
   "outputs": [],
   "metadata": {}
  },
  {
   "cell_type": "code",
   "execution_count": null,
   "source": [
    "# Remoiving outlayers using the z-score\n",
    "z_scores = stats.zscore(df['task_around'])\n",
    "abs_z_scores = np.abs(z_scores)\n",
    "filtered_entries = abs_z_scores < 3\n",
    "df_filtered = df[ filtered_entries ]\n",
    "task_around_filtered = df[ filtered_entries ]['task_around']"
   ],
   "outputs": [],
   "metadata": {}
  },
  {
   "cell_type": "code",
   "execution_count": null,
   "source": [
    "fig, ax =plt.subplots(1,2, figsize=(20,4))\n",
    "fig.tight_layout()\n",
    "\n",
    "ax[0].set_title('Distribution of neighboring deliveries')\n",
    "ax[0].set_xlabel('Neighboring deliveries')\n",
    "sns.kdeplot(data=df_filtered['task_around'], ax=ax[0], color=PALETTE[1])\n",
    "\n",
    "ax[1].set_title('Box plot of neighboring deliveries')\n",
    "ax[1].set_xlabel('Neighboring deliveries')\n",
    "sns.boxenplot(data=task_around_filtered, ax=ax[1], color=PALETTE[1])\n",
    "\n",
    "print('Mean neighboring deliveries: {0:.2f} deliveries'.format(task_around_filtered.mean()))\n",
    "print('STD neighboring deliveries: {0:.2f}'.format(task_around_filtered.std()))"
   ],
   "outputs": [],
   "metadata": {}
  },
  {
   "cell_type": "code",
   "execution_count": null,
   "source": [
    "gnl = df_filtered[['id', 'class_neighboring', 'is_late']].groupby(['class_neighboring', 'is_late'])['id'].count().reset_index()\n",
    "plt.figure(figsize=(12,7))\n",
    "plt.tight_layout()\n",
    "f = sns.barplot(data=gnl, x='class_neighboring', y='id', hue='is_late', palette=PALETTE_ALT)\n",
    "\n",
    "set_labels(\n",
    "  'Amount of tasks per class of neighboring deliverie', 'Bind of neighboring deliveries', 'Amount of deliveries', \n",
    "  legend={'object': f.get_legend(), 'title': 'Delivery time', 'texts': ['Not Late', 'Late']\n",
    "})\n",
    "classes_list = list(map(lambda item: str(item), df_filtered['class_neighboring'].sort_values().unique()))\n",
    "diff_list = with_hue(f, classes_list, 7, 2, diff=True)"
   ],
   "outputs": [],
   "metadata": {}
  },
  {
   "cell_type": "markdown",
   "source": [
    "In the plot we can see that as the number of neighboring deliveries increases, the percentage of late deliveries also increases. This tells us that the higher the concentration or density of deliveries around you, the more likely it is that you will be late in reaching the final customer"
   ],
   "metadata": {}
  },
  {
   "cell_type": "code",
   "execution_count": null,
   "source": [
    "columns = ['total_size', 'distance', 'task_around', 'lat', 'long', 'delta', 'cost']\n",
    "data = df.sample(5000)[columns]\n",
    "# interval selection in the scatter plot\n",
    "pts = alt.selection(type=\"interval\", encodings=[\"x\"])\n",
    "\n",
    "# left panel: scatter plot\n",
    "points = alt.Chart().mark_point(\n",
    "  filled=True, color=PALETTE_ALT[1],\n",
    ").encode(\n",
    "  #x='lat:Q', y='long:Q'\n",
    "  x=alt.X('lat', type='quantitative', scale=alt.Scale(domain=(-33.70, -33.15))),\n",
    "  y=alt.Y('long',type='quantitative', scale=alt.Scale(domain=(-70.4, -70.9))),\n",
    ").transform_filter(pts).properties(width=600, height=300)\n",
    "\n",
    "# right panel: histogram\n",
    "mag = alt.Chart().mark_bar().encode(\n",
    "  x='task_around:N', y='count()',\n",
    "  #color=alt.condition(pts, alt.value(PALETTE_ALT[1]), alt.value(\"lightgray\"))\n",
    "  color=alt.Color('total_size:N', legend=alt.Legend(title='Total size'), scale=color_scale),\n",
    ").properties(width=300, height=300).add_selection(pts)\n",
    "\n",
    "alt.hconcat(points, mag, data=data[columns]).transform_bin(\n",
    "    \"task_around\",\n",
    "    field=\"task_around\",\n",
    "    bin=alt.Bin(maxbins=40)\n",
    ")"
   ],
   "outputs": [],
   "metadata": {}
  },
  {
   "cell_type": "code",
   "execution_count": null,
   "source": [
    "data = df.sample(5000)[columns]\n",
    "# interval selection in the scatter plot\n",
    "pts = alt.selection(type=\"interval\", encodings=[\"x\"])\n",
    "\n",
    "# left panel: scatter plot\n",
    "points = alt.Chart().mark_point(\n",
    "  filled=True, color=PALETTE_ALT[1],\n",
    ").encode(\n",
    "  #x='lat:Q', y='long:Q'\n",
    "  x=alt.X('lat', type='quantitative', scale=alt.Scale(domain=(-33.70, -33.15))),\n",
    "  y=alt.Y('long',type='quantitative', scale=alt.Scale(domain=(-70.4, -70.9))),\n",
    ").transform_filter(pts).properties(width=600, height=300)\n",
    "\n",
    "# right panel: histogram\n",
    "mag = alt.Chart().mark_bar().encode(\n",
    "  x='distance:N', y='count()',\n",
    "  #color=alt.condition(pts, alt.value(PALETTE_ALT[1]), alt.value(\"lightgray\"))\n",
    "  color=alt.Color('total_size:N', legend=alt.Legend(title='Total size'), scale=color_scale),\n",
    ").properties(width=300, height=300).add_selection(pts)\n",
    "\n",
    "alt.hconcat(points, mag, data=data[columns]).transform_bin(\n",
    "    \"distance\",\n",
    "    field=\"distance\",\n",
    "    bin=alt.Bin(maxbins=40)\n",
    ")"
   ],
   "outputs": [],
   "metadata": {}
  },
  {
   "cell_type": "code",
   "execution_count": null,
   "source": [
    "data = df.sample(5000)[columns]\n",
    "# interval selection in the scatter plot\n",
    "pts = alt.selection(type=\"interval\", encodings=[\"x\"])\n",
    "\n",
    "# left panel: scatter plot\n",
    "points = alt.Chart().mark_point(\n",
    "  filled=True, color=PALETTE_ALT[1],\n",
    ").encode(\n",
    "  #x='lat:Q', y='long:Q'\n",
    "  x=alt.X('lat', type='quantitative', scale=alt.Scale(domain=(-33.70, -33.15))),\n",
    "  y=alt.Y('long',type='quantitative', scale=alt.Scale(domain=(-70.4, -70.9))),\n",
    ").transform_filter(pts).properties(width=600, height=300)\n",
    "\n",
    "# right panel: histogram\n",
    "mag = alt.Chart().mark_bar().encode(\n",
    "  x='delta:N', y='count()',\n",
    "  #color=alt.condition(pts, alt.value(PALETTE_ALT[1]), alt.value(\"lightgray\"))\n",
    "  color=alt.Color('total_size:N', legend=alt.Legend(title='Total size'), scale=color_scale),\n",
    ").properties(width=300, height=300).add_selection(pts)\n",
    "\n",
    "alt.hconcat(points, mag, data=data[columns]).transform_bin(\n",
    "    \"delta\",\n",
    "    field=\"delta\",\n",
    "    bin=alt.Bin(maxbins=50)\n",
    ")"
   ],
   "outputs": [],
   "metadata": {}
  },
  {
   "cell_type": "code",
   "execution_count": null,
   "source": [
    "data = df.sample(5000)[columns]\n",
    "# interval selection in the scatter plot\n",
    "pts = alt.selection(type=\"interval\", encodings=[\"x\"])\n",
    "\n",
    "# left panel: scatter plot\n",
    "points = alt.Chart().mark_point(\n",
    "  filled=True, color=PALETTE_ALT[1],\n",
    ").encode(\n",
    "  #x='lat:Q', y='long:Q'\n",
    "  x=alt.X('lat', type='quantitative', scale=alt.Scale(domain=(-33.70, -33.15))),\n",
    "  y=alt.Y('long',type='quantitative', scale=alt.Scale(domain=(-70.4, -70.9))),\n",
    ").transform_filter(pts).properties(width=600, height=300)\n",
    "\n",
    "# right panel: histogram\n",
    "mag = alt.Chart().mark_bar().encode(\n",
    "  x='cost:N', y='count()',\n",
    "  #color=alt.condition(pts, alt.value(PALETTE_ALT[1]), alt.value(\"lightgray\"))\n",
    "  color=alt.Color('total_size:N', legend=alt.Legend(title='Total size'), scale=color_scale),\n",
    ").properties(width=300, height=300).add_selection(pts)\n",
    "\n",
    "alt.hconcat(points, mag, data=data[columns]).transform_bin(\n",
    "    \"cost\",\n",
    "    field=\"cost\",\n",
    "    bin=alt.Bin(maxbins=40)\n",
    ")"
   ],
   "outputs": [],
   "metadata": {}
  },
  {
   "cell_type": "code",
   "execution_count": null,
   "source": [
    "plt.figure(figsize=(12,8))\n",
    "plt.tight_layout()\n",
    "sns.barplot(data=diff_list, x='class', y='value')\n",
    "set_labels(\n",
    "  title='Difference between the percentage of deliveries late minus not late deliveries\\nclassified by number of neighboring deliveries',\n",
    "  x_label='Class of amount of neighboring deliveries', y_label='Amount of deliveries'\n",
    ")"
   ],
   "outputs": [],
   "metadata": {}
  },
  {
   "cell_type": "markdown",
   "source": [
    "## Ploting location of task with low and hight neighboring deliveries "
   ],
   "metadata": {}
  },
  {
   "cell_type": "code",
   "execution_count": null,
   "source": [
    "diff = df['delivery'] - df['delivery_effective']\n",
    "df['delay_delivery'] = diff.apply(lambda x: abs(int(x.total_seconds()))) / 3600"
   ],
   "outputs": [],
   "metadata": {}
  },
  {
   "cell_type": "code",
   "execution_count": null,
   "source": [
    "def get_color(tasks):\n",
    "  \"\"\"Get color for task\"\"\"\n",
    "  if tasks == 0:\n",
    "    return 'black'\n",
    "  elif 0 <= tasks < 300:\n",
    "    return 'blue'\n",
    "  elif 300 <= tasks < 1000:\n",
    "    return 'red'\n",
    "\n",
    "def add_marker(row, map_stg):\n",
    "  folium.Marker(\n",
    "    location=[row['lat'], row['long']],\n",
    "    popup=row['id'],\n",
    "    icon=folium.Icon(color=get_color(row['task_around']))\n",
    "  ).add_to(map_stg)\n",
    "\n",
    "stg_map = folium.Map(location=[-33.469477, -70.643929], zoom_start=12)\n",
    "a = df \\\n",
    "[['lat', 'long', 'id', 'class_neighboring', 'task_around']].sample(100).apply(\n",
    "  lambda r: add_marker(r, stg_map), axis=1\n",
    ")\n",
    "#[ (df['task_around']>=400) & (df['task_around']<800) ] \\\n",
    "#stg_map"
   ],
   "outputs": [],
   "metadata": {}
  },
  {
   "cell_type": "markdown",
   "source": [
    "## Clustering (KMeans)"
   ],
   "metadata": {}
  },
  {
   "cell_type": "code",
   "execution_count": null,
   "source": [
    "def create_quantiles(dfColumn, numQuantiles):\n",
    "  return pd.qcut(dfColumn, numQuantiles, labels=False, duplicates='drop')\n",
    "\n",
    "def min_max_scaler(numArr):\n",
    "  minx = np.min(numArr)\n",
    "  maxx = np.max(numArr)\n",
    "  numArr = (numArr - minx) / (maxx - minx)\n",
    "  return numArr\n",
    "\n",
    "def get_similarity(obj1, obj2):\n",
    "  len1 = len(obj1.columns)\n",
    "  len2 = len(obj2.columns)\n",
    "  if not (len1 == len2):\n",
    "    print(\"Error: Compared objects must have same number of features\")\n",
    "    return 0\n",
    "  else:\n",
    "    similarity = obj1 - obj2\n",
    "    similarity = np.sum((similarity**2.0) / len1)\n",
    "    similarity = 1 - math.sqrt(similarity)\n",
    "    return similarity"
   ],
   "outputs": [],
   "metadata": {}
  },
  {
   "cell_type": "markdown",
   "source": [
    "### Data normaliation\n",
    "- Power law distribution: apply log transform scale [0,1]\n",
    "- A normal (gaussian) distribution: apply normalization [0,1] (z-score, min-max, divide by max)\n",
    "- Any diferent distribution (like bimodal or possion): apply quantiles [0,1] (bins)"
   ],
   "metadata": {}
  },
  {
   "cell_type": "code",
   "execution_count": 139,
   "source": [
    "# pair plot entre size, task_around, cost, delta, distance\n",
    "features = [\n",
    "  'total_size', 'distance', 'delivery_type',\n",
    "  'lat', 'long', 'task_around',\n",
    "  'cost', 'delta'\n",
    "  #'pickup_effective_dt', 'delivery_dt', 'city'\n",
    "]\n",
    "stad_dist = [ 'lat', 'long' ]\n",
    "stad_cols = [\n",
    "  'total_size',  'distance', 'delivery_type', \n",
    "  'task_around', 'cost',     'delta'\n",
    "]\n",
    "stad_dt = ['delivery_dt', 'pickup_effective_dt']"
   ],
   "outputs": [],
   "metadata": {}
  },
  {
   "cell_type": "code",
   "execution_count": null,
   "source": [
    "original_cols = df.columns\n",
    "\n",
    "dff = df.copy()\n",
    "dff['delta'] = (dff.delivery_dt - dff.delivery_effective).dt.total_seconds() / 3600\n",
    "dff.delivery_dt = dff.delivery_dt.view('i8')\n",
    "dff.delivery_effective = dff.delivery_effective.view('i8')\n",
    "dff.pickup_effective_dt = dff.pickup_effective_dt.view('i8')\n",
    "\n",
    "dff.total_size = dff.total_size.astype('category').cat.codes\n",
    "dff.delivery_type = dff.delivery_type.astype('category').cat.codes\n",
    "dff.total_size = dff.total_size.astype('category').cat.codes\n",
    "dff.delivery_type = dff.delivery_type.astype('category').cat.codes"
   ],
   "outputs": [],
   "metadata": {}
  },
  {
   "cell_type": "code",
   "execution_count": null,
   "source": [
    "# THIS IS CATEGORICAL!!\n",
    "feature_clean = remove_outlayers(dff, features[0])\n",
    "plt.figure(figsize=(12,4))\n",
    "plt.tight_layout()\n",
    "sns.kdeplot(data=feature_clean, ax=plt.gca(), palette=PALETTE_ALT[1], fill=True)"
   ],
   "outputs": [],
   "metadata": {}
  },
  {
   "cell_type": "markdown",
   "source": [
    "The `total_size` is a categorical variable, so we will use the raw value for clustering and max-min normalization."
   ],
   "metadata": {}
  },
  {
   "cell_type": "code",
   "execution_count": null,
   "source": [
    "feature_clean = remove_outlayers(dff, features[1])\n",
    "plt.figure(figsize=(12,4))\n",
    "plt.tight_layout()\n",
    "sns.kdeplot(data=feature_clean, ax=plt.gca(), palette=PALETTE_ALT[1], fill=True)"
   ],
   "outputs": [],
   "metadata": {}
  },
  {
   "cell_type": "markdown",
   "source": [
    "The `distance` variable don't have a clear distribution, so we will use quantiles and max-min normalization"
   ],
   "metadata": {}
  },
  {
   "cell_type": "code",
   "execution_count": null,
   "source": [
    "# THIS IS CATEGORICAL!!\n",
    "feature_clean = remove_outlayers(dff, features[2])\n",
    "plt.figure(figsize=(12,4))\n",
    "plt.tight_layout()\n",
    "sns.kdeplot(data=feature_clean, ax=plt.gca(), palette=PALETTE_ALT[1], fill=True)"
   ],
   "outputs": [],
   "metadata": {}
  },
  {
   "cell_type": "markdown",
   "source": [
    "The `delivery_type` is a categorical variable, so we will use quantiles and max-min normalization"
   ],
   "metadata": {}
  },
  {
   "cell_type": "code",
   "execution_count": null,
   "source": [
    "feature_clean = remove_outlayers(dff, features[3])\n",
    "plt.figure(figsize=(12,4))\n",
    "plt.tight_layout()\n",
    "sns.kdeplot(data=feature_clean, ax=plt.gca(), palette=PALETTE_ALT[1], fill=True)"
   ],
   "outputs": [],
   "metadata": {}
  },
  {
   "cell_type": "markdown",
   "source": [
    "The `lat` variable don't have a clear distribution, so we will use max-min normalization"
   ],
   "metadata": {}
  },
  {
   "cell_type": "code",
   "execution_count": null,
   "source": [
    "feature_clean = remove_outlayers(dff, features[4])\n",
    "plt.figure(figsize=(12,4))\n",
    "plt.tight_layout()\n",
    "sns.kdeplot(data=feature_clean, ax=plt.gca(), palette=PALETTE_ALT[1], fill=True)"
   ],
   "outputs": [],
   "metadata": {}
  },
  {
   "cell_type": "markdown",
   "source": [
    "The `long` variable don't have a clear distribution, so we will use the max-min normalization"
   ],
   "metadata": {}
  },
  {
   "cell_type": "code",
   "execution_count": null,
   "source": [
    "feature_clean = remove_outlayers(dff, features[5])\n",
    "plt.figure(figsize=(12,4))\n",
    "plt.tight_layout()\n",
    "sns.kdeplot(data=feature_clean, ax=plt.gca(), palette=PALETTE_ALT[1], fill=True)"
   ],
   "outputs": [],
   "metadata": {}
  },
  {
   "cell_type": "markdown",
   "source": [
    "The `task_around` variable doesn't follow a known distribution. In this case we will use max-min normalization."
   ],
   "metadata": {}
  },
  {
   "cell_type": "code",
   "execution_count": null,
   "source": [
    "feature_clean = remove_outlayers(dff, features[6])\n",
    "plt.figure(figsize=(12,4))\n",
    "plt.tight_layout()\n",
    "sns.kdeplot(data=feature_clean, ax=plt.gca(), palette=PALETTE_ALT[1], fill=True)"
   ],
   "outputs": [],
   "metadata": {}
  },
  {
   "cell_type": "markdown",
   "source": [
    "The `cost` variable doesn't follow a known distribution. In this case we will use max-min normalization in this variable for clustering"
   ],
   "metadata": {}
  },
  {
   "cell_type": "code",
   "execution_count": null,
   "source": [
    "feature_clean = remove_outlayers(dff, features[7])\n",
    "plt.figure(figsize=(12,4))\n",
    "plt.tight_layout()\n",
    "sns.kdeplot(data=feature_clean, ax=plt.gca(), palette=PALETTE_ALT[1], fill=True)"
   ],
   "outputs": [],
   "metadata": {}
  },
  {
   "cell_type": "markdown",
   "source": [
    "The `delta` variable doesn't follow a known distribution. In this case we will use max-min normalization in this variable for clustering"
   ],
   "metadata": {}
  },
  {
   "cell_type": "code",
   "execution_count": null,
   "source": [
    "feature_clean = remove_outlayers(dff, features[8])\n",
    "plt.figure(figsize=(12,4))\n",
    "plt.tight_layout()\n",
    "sns.kdeplot(data=feature_clean, ax=plt.gca(), palette=PALETTE_ALT[1], fill=True)"
   ],
   "outputs": [],
   "metadata": {}
  },
  {
   "cell_type": "code",
   "execution_count": null,
   "source": [
    "scaler = MinMaxScaler(feature_range=(0,1))\n",
    "dff[features] = scaler.fit_transform(dff[features])"
   ],
   "outputs": [],
   "metadata": {}
  },
  {
   "cell_type": "markdown",
   "source": [
    "### Similarity metrics\n",
    "We choose the cosine distance has a similarity metric."
   ],
   "metadata": {}
  },
  {
   "cell_type": "code",
   "execution_count": null,
   "source": [
    "# Task random A\n",
    "task_random_a = dff.sample(1)[features]\n",
    "# Task random B\n",
    "task_random_b = dff.sample(1)[features]\n",
    "# Similarity\n",
    "similarity = cosine_similarity(task_random_a, task_random_b)\n",
    "print(f'Similarity: {similarity}')"
   ],
   "outputs": [],
   "metadata": {}
  },
  {
   "cell_type": "code",
   "execution_count": null,
   "source": [
    "task_random_a"
   ],
   "outputs": [],
   "metadata": {}
  },
  {
   "cell_type": "code",
   "execution_count": null,
   "source": [
    "task_random_b"
   ],
   "outputs": [],
   "metadata": {}
  },
  {
   "cell_type": "markdown",
   "source": [
    "### Preguntas\n",
    "- En regresion lineal la estandarizacion de los datos es necesaria?\n",
    "- En el momento de explicar el efecto de std, se refiere a ver como cambia elbow value y la distnacia de los clusters?\n",
    "- En la metrica de similidaridad es escoger que metrica usar? Mi grupo determino que usarmeos el coseno.\n",
    "- En descripciond e dataset, analisis univariado (histogramas, boxplots?) y multivariado (scatterplots)?\n",
    "- En vez de 6 preguntas serian 3?"
   ],
   "metadata": {}
  },
  {
   "cell_type": "code",
   "execution_count": null,
   "source": [
    "RAMDOM_SEED = 2048\n",
    "dff_features = dff[features]\n",
    "model = MiniBatchKMeans(init='k-means++', random_state=RAMDOM_SEED)\n",
    "try:\n",
    "  visualizer = KElbowVisualizer(model, k=(2,10), timings=False)\n",
    "  visualizer.fit(dff_features)\n",
    "  visualizer\n",
    "except:\n",
    "  pass"
   ],
   "outputs": [],
   "metadata": {}
  },
  {
   "cell_type": "code",
   "execution_count": null,
   "source": [
    "model = KMeans(n_clusters=visualizer.elbow_value_, init='k-means++', random_state=RAMDOM_SEED)\n",
    "model.fit(dff_features)\n",
    "y_means = model.predict(dff_features)\n",
    "\n",
    "interDistance = InterclusterDistance(model, random_state=RAMDOM_SEED)\n",
    "interDistance.fit(dff_features)\n",
    "interDistance.show()\n",
    "print(interDistance.scores_)"
   ],
   "outputs": [],
   "metadata": {}
  },
  {
   "cell_type": "markdown",
   "source": [
    "El efecto de estadarizar los features o no si cambia el comportamiento de los clusters, sin estandarizacion el grafico de distancia inter-cluster muestra un aparente overlaping estre casi todos los clusters. Si bien, este overlaping en dos dimenciones no es indicador de overlaping en las dimenciones reales, es un indicador de que la calidad de los clusters no es la mejor y que estan bastante cerca entre ellos.\n",
    "\n",
    "Con la estadrizacion de las variables la cantidad de cluster recoemndada por Elbow method tambien cambio de 5 clusters a solo 3. Ahora, el graifco de inter-cluster distance muestra una mejora en la distribucion de los clusters los cuales estan mucho mas separados entre ellos."
   ],
   "metadata": {}
  },
  {
   "cell_type": "code",
   "execution_count": null,
   "source": [
    "df['cluster'] = model.labels_"
   ],
   "outputs": [],
   "metadata": {}
  },
  {
   "cell_type": "code",
   "execution_count": null,
   "source": [
    "plt.figure(figsize=(10,5))\n",
    "plt.tight_layout()\n",
    "sns.scatterplot(data=df, x='lat', y='long', hue='cluster').set(xlim=(-33.70, -33.1), ylim=(-70.4, -71))"
   ],
   "outputs": [],
   "metadata": {}
  },
  {
   "cell_type": "code",
   "execution_count": null,
   "source": [
    "for cluster in range(visualizer.elbow_value_):\n",
    "  print('Cluster {} size: {}'.format(cluster, len(df[ df['cluster'] == cluster ][features])))\n",
    "print(features)"
   ],
   "outputs": [],
   "metadata": {}
  },
  {
   "cell_type": "code",
   "execution_count": null,
   "source": [
    "columns = ['total_size', 'distance', 'task_around']\n",
    "cluster_0 = df[ df['cluster'] == 0 ]\n",
    "z_scores = stats.zscore(df['task_around'])\n",
    "abs_z_scores = np.abs(z_scores)\n",
    "filtered_entries = abs_z_scores < 3\n",
    "df_ = df[ filtered_entries ]\n",
    "\n",
    "plt.figure(figsize=(15,5))\n",
    "plt.tight_layout()\n",
    "gtg = sns.boxenplot(data=df_, x='cluster', y='task_around', color=PALETTE_ALT[0])\n",
    "gtg.set_title('Boxplot of neighbording deliveries')\n",
    "#gtg.legend_._set_loc(2)\n",
    "#gtg.legend_.set_bbox_to_anchor((0.1, 1))\n",
    "#gtg.legend_.set_title('Delivery late')\n",
    "gtg.set_ylabel('neighbording deliveries')\n",
    "\n",
    "plt.figure(figsize=(15,5))\n",
    "plt.tight_layout()\n",
    "gts = sns.kdeplot(data=df_, x='task_around', hue='cluster', palette='muted')\n",
    "gts.set_title('Density of neighbording deliveries')\n",
    "gts.set_xlabel('neighbording deliveries')"
   ],
   "outputs": [],
   "metadata": {}
  },
  {
   "cell_type": "markdown",
   "source": [
    "In this graph is show a `boxenplot`. It is similar to a box plot in plotting a nonparametric representation of a distribution in which all features correspond to actual observations. By plotting more quantiles, it provides more information about the shape of the distribution, particularly in the tails.\n",
    "\n",
    "En los boxplot podemos obsrevar que los clusters 0 y 2 mantienen una mediana muy similar, siendo la mas baja de los 2 clusters, con la diferencia de que en el cluster 0 contiene densidad de valores mas alta que el clsuters 0 en valores cercanos a 600 entregas vecinas. El clsuter 1 es quien tiene una mediana mas alta de los 3 clusters, con un rango tambien el mas amplio de los 3.\n",
    "\n",
    "En el kdeplot podemos observar que la forma de las distribuciones es banstante similar entre los clusters, sin embargo, el cluster 1 es el que tiene un densidad mas alta de entregas vecinas que el reststo. El cluster 2 es el que menos densidad de tareas vecinas presenta."
   ],
   "metadata": {}
  },
  {
   "cell_type": "code",
   "execution_count": null,
   "source": [
    "z_scores = stats.zscore(df['cost'])\n",
    "abs_z_scores = np.abs(z_scores)\n",
    "filtered_entries = abs_z_scores < 3\n",
    "df_ = df[ filtered_entries ]\n",
    "\n",
    "plt.figure(figsize=(15,5))\n",
    "plt.tight_layout()\n",
    "gtg = sns.boxenplot(data=df_, x='cluster', y='cost', color=PALETTE_ALT[0])\n",
    "gtg.set_title('Boxplot of cost')\n",
    "#gtg.legend_._set_loc(2)\n",
    "#gtg.legend_.set_bbox_to_anchor((0.1, 1))\n",
    "#gtg.legend_.set_title('Delivery late')\n",
    "\n",
    "plt.figure(figsize=(15,5))\n",
    "plt.tight_layout()\n",
    "gts = sns.kdeplot(data=df_, x='cost', hue='cluster', palette='muted')\n",
    "gts.set_title('Density of Neighbod deliveries')"
   ],
   "outputs": [],
   "metadata": {}
  },
  {
   "cell_type": "markdown",
   "source": [
    "En el boxplot podemos observar como entre el cluster 0 y 2 la mediana del costo para las entregas es similar entre ellos, siendo las mas alta de los 3 clusters. Sin embargo, el clsuter 2 tiene un rango de valores mucho mas amplio, llegando hasta los 4000 pesos chilenos con mas densidad de valores, el cluster 0 tiene un rango mas pequeño, entre 1200 y 2300 pesos chilenos. El cluster 1 es quien tiene la mediana mas pequeña y sus valores tienen una alta concentracion entorno a esa media, que es aprox 1400 pesos chilenos.\n",
    "\n",
    "En el kdeplot podemos observar como claramente el clsuter 1 presenta una altisima densidad de tareas con un costo entre los valores de 100 y 200 dolares. El cluster 0 tiene pequeñas conncetraciones entre el rango de 100 y 2000 dolares, sin embargo, es mucho menos que el clsuter 1. Finalmente el cluster 2 es el que presenta la concentracion mas baja."
   ],
   "metadata": {}
  },
  {
   "cell_type": "code",
   "execution_count": null,
   "source": [
    "z_scores = stats.zscore(df['distance'])\n",
    "abs_z_scores = np.abs(z_scores)\n",
    "filtered_entries = abs_z_scores < 3\n",
    "df_ = df[ filtered_entries ]\n",
    "\n",
    "plt.figure(figsize=(15,5))\n",
    "plt.tight_layout()\n",
    "gtg = sns.boxenplot(data=df_, x='cluster', y='distance', color=PALETTE_ALT[0])\n",
    "gtg.set_title('Boxplot of distance')\n",
    "#gtg.legend_._set_loc(2)\n",
    "#gtg.legend_.set_bbox_to_anchor((0.1, 1))\n",
    "#gtg.legend_.set_title('Delivery late')\n",
    "\n",
    "plt.figure(figsize=(15,5))\n",
    "plt.tight_layout()\n",
    "gts = sns.kdeplot(data=df_, x='distance', hue='cluster', palette='muted')\n",
    "gts.set_title('Density of distance')"
   ],
   "outputs": [],
   "metadata": {}
  },
  {
   "cell_type": "markdown",
   "source": [
    "En los boxplot podemos observar que todas las medianas son diferentes, donde el cluster 2 es quien tiene la mediana mas vaja, es decir entregas con una distancia, en general, mas corta y su rango de valores es la mas estrecha de los 3 clusters. Luego le sigue el cluster 0, es quien tiene una mediana entre el cluster 1 y 2, con una distribución muy similar al cluster 1. Finalmente el cluster 1 es quien tiene la mediana mas alta, es decir, con entregas con una distancia mas larga y su distribucion tiene picos en los valores de 10, 15 y 20 km.\n",
    "\n",
    "En el kdeplot, podmeos observar como el cluster 1 es el que presenta una densidad alta de entregas con distnacias entre 10 y 30 km, el cluster 0 tiene un comportamiento similar y por ultimo el cluster 2 tiene una conentracion mas alta entre los valores de 0 y 10 km."
   ],
   "metadata": {}
  },
  {
   "cell_type": "code",
   "execution_count": null,
   "source": [
    "z_scores = stats.zscore(df['delta'])\n",
    "abs_z_scores = np.abs(z_scores)\n",
    "filtered_entries = abs_z_scores < 3\n",
    "df_ = df[ filtered_entries ]\n",
    "\n",
    "plt.figure(figsize=(15,5))\n",
    "plt.tight_layout()\n",
    "gtg = sns.boxenplot(data=df_, x='cluster', y='delta', color=PALETTE_ALT[0])\n",
    "gtg.set_title('Boxplot of delta')\n",
    "#gtg.legend_._set_loc(2)\n",
    "#gtg.legend_.set_bbox_to_anchor((0.1, 1))\n",
    "#gtg.legend_.set_title('Delivery late')\n",
    "\n",
    "plt.figure(figsize=(15,5))\n",
    "plt.tight_layout()\n",
    "gts = sns.kdeplot(data=df_, x='delta', hue='cluster', palette='muted')\n",
    "gts.set_title('Density of delta')"
   ],
   "outputs": [],
   "metadata": {}
  },
  {
   "cell_type": "markdown",
   "source": [
    "En el boxplot y kdeplot podeos observar que el valor de delta es escalonado entre los clusters. El cluster 1 es quien tiene el valor de delta mas bajo, luego le sigue el clsuter 0 y por ultimo el cluster 2. Todos los clsuters tiene una distribucion bastante similar, muy estrecha entorno a la mediana."
   ],
   "metadata": {}
  },
  {
   "cell_type": "markdown",
   "source": [
    "## Cluster 0\n",
    "- Tiene la mediana mas baja de entregas vecinas, junto con el clsuter 2.\n",
    "- Tiene una media del costo mas alta junto con el cluster 2 pero con una distribucion mas estrecha entorno a ese valor de media.\n",
    "- La distancia de sus entregas esta entre los valores de los cluster 1 y 2. Con un valor de 18 km.\n",
    "- Tiene la mediana entre los valores de los cluster 1 y 2. Con un valor cercano a 0 horas.\n",
    "## Cluster 1\n",
    "- Mayor mediana de entregas vecinas de todos los clsuters.\n",
    "- Menor costo en las entregas y su rango es muy renducido, entre 1200 y 1500 pesos chilenos.\n",
    "- Mayor mediana de distancia de kms para sus entregas.\n",
    "- La mediana de delta es la mas baja de los cluster, cercana a -5 horas, esto se interpreta como entregas que si llegaron antes de su hora teorica de entrega.\n",
    "## Cluster 2\n",
    "- Tiene la mediana mas baja de entregas vecinas, junto con el cluster 0.\n",
    "- Tiene una mediana de costo mas alta junto con el cluster 0 pero con una distribucion mas amplia, llegando hasta valores de 4000 pesos chilenos.\n",
    "- Tiene la media de distnacia mas baja de todos los clusters, con una alta concnetracion entorno a su media, aproximadamente a 50 pesos chilenos.\n",
    "- Tiene la mediana de delta mas alta de los clusters, cercnaa a 5 horas, es decir contiene tareas atrasadas, pero con un atraso mucho mayor que el cluster 0.\n",
    "\n",
    "## Resumen\n",
    "El cluster 2 se pueden encontrar tareas con un delay con un delay de entrega mas alto de los clusters, una cantidad de entregas vecinas mas baja, costos altos y distancias cortas.\n",
    "\n",
    "El cluster 1 se pueden encontrar tareas con un delay negativo es decir continee entregas que si llegan, generalmente, antes de su hora de entrega teorico, con una densidad de entregas vecinas mas alta, entregas mucho mas baratas  y una distancia mucho mas larga.\n",
    "Tienen alta concentracion de vecinas, son mas distantes y en gneeral llegan atrasadas\n",
    "\n",
    "\n",
    "El cluster 0 se pueden encontrar tareas con un delay cercana a 0, es decir contiene tanto tareas a tiempo como atrasadas, pero muy cercanas a 0 horas. Con tareas con pocas tareas vecinas, un costo mucho mas alto y una distancia entre los valores de los clusters 1 y 2."
   ],
   "metadata": {}
  },
  {
   "cell_type": "code",
   "execution_count": null,
   "source": [
    "cluster_3 = df[ df['cluster'] == 3 ]\n",
    "cluster_3[features].describe()"
   ],
   "outputs": [],
   "metadata": {}
  },
  {
   "cell_type": "code",
   "execution_count": null,
   "source": [
    "cluster_1 = df[ df['cluster'] == 1 ]\n",
    "cluster_2 = df[ df['cluster'] == 2 ]\n",
    "cluster_3 = df[ df['cluster'] == 3 ]"
   ],
   "outputs": [],
   "metadata": {}
  },
  {
   "cell_type": "markdown",
   "source": [
    "## Josue Cobos"
   ],
   "metadata": {}
  },
  {
   "cell_type": "code",
   "execution_count": null,
   "source": [
    "g = sns.countplot(data=df_t, x='hight_neight', color=PALETTE_ALT[1])\n",
    "g.set_xticks([0,1])"
   ],
   "outputs": [],
   "metadata": {}
  },
  {
   "cell_type": "code",
   "execution_count": null,
   "source": [
    "#Question: Are those deliveries that are further from the economic center of Belo Horizonte those with the longest delivery delay?"
   ],
   "outputs": [],
   "metadata": {}
  },
  {
   "cell_type": "code",
   "execution_count": null,
   "source": [
    "#calculate distance between 2 lat long points\n",
    "def calculateDistance(point, anotherPoint):\n",
    "    lat1, lon1 = point\n",
    "    lat2, lon2 = anotherPoint \n",
    "    R = 6373.0\n",
    "    lat1 = math.radians(lat1)\n",
    "    lon1 = math.radians(lon1)\n",
    "    lat2 = math.radians(lat2)\n",
    "    lon2 = math.radians(lon2)\n",
    "\n",
    "    dlon = lon2 - lon1\n",
    "    dlat = lat2 - lat1\n",
    "\n",
    "    a = math.sin(dlat / 2)**2 + math.cos(lat1) * math.cos(lat2) * math.sin(dlon / 2)**2\n",
    "    c = 2 * math.atan2(math.sqrt(a), math.sqrt(1 - a))\n",
    "    distance = R * c\n",
    "    return distance #kilometers"
   ],
   "outputs": [],
   "metadata": {}
  },
  {
   "cell_type": "code",
   "execution_count": null,
   "source": [
    "#For this question we will assume Barreiro in the most important regional administration of Belo Horizonte\n",
    "BARREIROPOINT = (-19.977, -44.0145)\n",
    "def getDistanceFromA(row):\n",
    "  #print(row)\n",
    "  return calculateDistance(BARREIROPOINT, (row['lat'], row['long']))\n",
    "  #return row #distance"
   ],
   "outputs": [],
   "metadata": {}
  },
  {
   "cell_type": "code",
   "execution_count": null,
   "source": [
    "df['dst_to_barreiro'] = df[['lat', 'long']].apply(getDistanceFromA, axis=1)"
   ],
   "outputs": [],
   "metadata": {
    "scrolled": false
   }
  },
  {
   "cell_type": "code",
   "execution_count": null,
   "source": [
    "plt.figure(figsize=(15,7))\n",
    "subdf = df[['dst_to_barreiro','delay_delivery']]\n",
    "f2 = sns.scatterplot(x=subdf['dst_to_barreiro'], y=subdf['delay_delivery'])\n",
    "#with_hue(f, df.class_weight, 8, 2)"
   ],
   "outputs": [],
   "metadata": {
    "collapsed": true
   }
  },
  {
   "cell_type": "code",
   "execution_count": null,
   "source": [
    "subdf.corr()"
   ],
   "outputs": [],
   "metadata": {}
  },
  {
   "cell_type": "code",
   "execution_count": null,
   "source": [
    "#Answer: Due to the non-existent correlation between the delay of shipments (delay_delivery) and distance to Barreiro (dst_to_barreiro), we can conclude that no matter how far your order is, it does not necessarily mean that it has a longer delay time."
   ],
   "outputs": [],
   "metadata": {}
  }
 ],
 "metadata": {
  "kernelspec": {
   "name": "python3",
   "display_name": "Python 3.8.10 64-bit ('tensor_m1': conda)"
  },
  "language_info": {
   "codemirror_mode": {
    "name": "ipython",
    "version": 3
   },
   "file_extension": ".py",
   "mimetype": "text/x-python",
   "name": "python",
   "nbconvert_exporter": "python",
   "pygments_lexer": "ipython3",
   "version": "3.8.10"
  },
  "interpreter": {
   "hash": "010e91eeda4f87380114066045952f19d1c8b5543feee126bbd5887474cb752b"
  }
 },
 "nbformat": 4,
 "nbformat_minor": 2
}