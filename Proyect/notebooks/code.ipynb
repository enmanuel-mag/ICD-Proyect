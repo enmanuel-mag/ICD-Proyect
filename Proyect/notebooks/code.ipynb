{
 "cells": [
  {
   "cell_type": "code",
   "execution_count": null,
   "id": "d0afc656",
   "metadata": {},
   "outputs": [],
   "source": [
    "import math\n",
    "import time\n",
    "import json\n",
    "import scipy\n",
    "import folium\n",
    "import pickle\n",
    "import numpy as np\n",
    "import pandas as pd\n",
    "import seaborn as sns\n",
    "from scipy import stats\n",
    "\n",
    "import matplotlib.pyplot as plt\n",
    "from numpy import cos, sin, arcsin, sqrt\n",
    "%matplotlib inline\n",
    "plt.figure(figsize=(20,5))\n",
    "PALETTE = [\"#FFC30D\", \"#EF404B\"]\n",
    "PALETTE_ALT = [\"#40EFE4\", \"#EF404B\"]\n",
    "PALETTE_DEG = [\"FF\"]"
   ]
  },
  {
   "cell_type": "code",
   "execution_count": null,
   "id": "12febaa3",
   "metadata": {},
   "outputs": [],
   "source": [
    "df = pd.read_pickle('../data/shippify_icd_new.pkl', compression='gzip')\n",
    "df = df.dropna(subset=['pickup_effective_dt', 'delivery_effective'])\n",
    "#df.info()"
   ]
  },
  {
   "cell_type": "markdown",
   "id": "216d8b4d",
   "metadata": {},
   "source": [
    "## Enmanuel Magallanes"
   ]
  },
  {
   "cell_type": "code",
   "execution_count": null,
   "id": "a746f3a4",
   "metadata": {},
   "outputs": [],
   "source": [
    "def set_labels(title=None, x_label=None, y_label=None, fontsize=14, legend=None):\n",
    "  if title is not None:\n",
    "    plt.title(title, fontsize=fontsize)\n",
    "  if x_label is not None:\n",
    "    plt.xlabel(x_label, fontsize=fontsize)\n",
    "  if y_label is not None:\n",
    "    plt.ylabel(y_label, fontsize=fontsize)\n",
    "  if legend is not None:\n",
    "    legend['object'].set_title(legend['title'])\n",
    "    for t, l in zip(legend['object'].texts, legend['texts']): t.set_text(l)\n",
    "\n",
    "def with_hue(plot, feature, categories, hue_categories, diff=False):\n",
    "  a = [p.get_height() for p in plot.patches]\n",
    "  patch = [p for p in plot.patches]\n",
    "  differences = {'class': [], 'value': []}\n",
    "  for i in range(categories):\n",
    "    total = a[i] + a[i+categories]\n",
    "    difference = []\n",
    "    for j in range(hue_categories):\n",
    "      value = round(100 * a[(j*categories + i)]/total, 2)\n",
    "      percentage = '{:.1f}%'.format(value)\n",
    "      x = patch[(j*categories + i)].get_x() + patch[(j*categories + i)].get_width() / 2 - 0.15\n",
    "      y = patch[(j*categories + i)].get_y() + patch[(j*categories + i)].get_height() \n",
    "      plt.annotate(percentage, (x, y), size = 12)\n",
    "      if diff:\n",
    "        difference.append(value)\n",
    "    if diff:\n",
    "      diff_value = abs(round(difference[0]-difference[1], 2))\n",
    "      differences['class'].append(feature[i])\n",
    "      differences['value'].append(diff_value)\n",
    "      print('{0:16s}: |{1:>5} - {2:>5}| = {3:>5}'.format(feature[i], difference[0], difference[1], diff_value))\n",
    "    #print(f'{feature[i]}: {difference[0]} - {difference[1]} = {abs(round(difference[0]-difference[1], 2))}')\n",
    "  plt.show()\n",
    "  if diff:\n",
    "    return pd.DataFrame.from_dict(differences)\n",
    "  \n",
    "class display(object):\n",
    "  \"\"\"Display HTML representation of multiple objects\"\"\"\n",
    "  template = \"\"\"<div style=\"float: left; padding: 10px;\">\n",
    "  <p style='font-family:\"Courier New\", Courier, monospace'>{0}</p>{1}\n",
    "  </div>\"\"\"\n",
    "  def __init__(self, *args):\n",
    "    self.args = args\n",
    "\n",
    "  def _repr_html_(self):\n",
    "    return '\\n'.join(self.template.format(a, eval(a)._repr_html_()) for a in self.args)\n",
    "\n",
    "  def __repr__(self):\n",
    "    return '\\n\\n'.join(a + '\\n' + repr(eval(a)) for a in self.args)"
   ]
  },
  {
   "cell_type": "markdown",
   "id": "1b3fba77",
   "metadata": {},
   "source": [
    "## Question: Is the total weight of packages a factor affecting the timeliness of deliveries?"
   ]
  },
  {
   "cell_type": "code",
   "execution_count": null,
   "id": "7081d6fa",
   "metadata": {},
   "outputs": [],
   "source": [
    "def sum_total_weight(row):\n",
    "  items = json.loads(row)\n",
    "  total_weight = 0\n",
    "  for item in items:\n",
    "    try:\n",
    "      weigth = item['weight']\n",
    "      if weigth == 'NaN':\n",
    "        total_weight += 0\n",
    "      else:\n",
    "        total_weight += float(weigth)\n",
    "    except:\n",
    "      total_weight += 0\n",
    "  return total_weight\n",
    "df['total_weight'] = df['items'].apply(sum_total_weight)\n",
    "\n",
    "# Remove outlayers using the z-score\n",
    "z_scores = stats.zscore(df['total_weigth'])\n",
    "abs_z_scores = np.abs(z_scores)\n",
    "filtered_entries = abs_z_scores < 3\n",
    "df = df[ filtered_entries ]\n",
    "\n",
    "labels = ['[0,0.5) kg', '[0.5,1) kg', '[1,1.5) kg', '[1.5,2) kg', '[2,2.5) kg', '[2.5,3) kg', '[3,3.5) kg', '[3.5 kg,inf) kg']\n",
    "#df['class_weight'] = pd.cut(df['total_weight'], bins=[0, 0.5, 1, 1.5, 2, 2.5, 3, 3.5, np.inf], labels=labels, include_lowest=True)"
   ]
  },
  {
   "cell_type": "code",
   "execution_count": null,
   "id": "328aefda",
   "metadata": {},
   "outputs": [],
   "source": [
    "#Rename type of size packages to be more readable\n",
    "size_dict = { 1: 'X Small', 2: 'Small', 3: 'Medium', 4: 'Large', 5: 'X Large' }\n",
    "df['total_size'] = df['total_size'].apply(lambda size: size_dict.get(size, 3))\n",
    "\n",
    "#Add column with total of task in this city\n",
    "df['total_task'] = len(df)\n",
    "\n",
    "# Add column to mark task that was deliveried with delay\n",
    "df['is_late'] = df['delivery_dt'] < df['delivery_effective']"
   ]
  },
  {
   "cell_type": "code",
   "execution_count": null,
   "id": "fa5d66b6",
   "metadata": {},
   "outputs": [],
   "source": [
    "plt.figure(figsize=(10,5))\n",
    "sns.countplot(data=df, x='total_size', order=size_dict.values(), palette=PALETTE)\n",
    "set_labels('Frecuencia de los tipos de peso', 'Tipo de peso', 'Frecuencia')"
   ]
  },
  {
   "cell_type": "code",
   "execution_count": null,
   "id": "64094d5e",
   "metadata": {},
   "outputs": [],
   "source": [
    "gsl = df[['id', 'total_size', 'is_late']].groupby(['total_size', 'is_late'])['id'].count().reset_index()\n",
    "plt.figure(figsize=(12,7))\n",
    "plt.tight_layout()\n",
    "f = sns.barplot(data=gsl, x='total_size', y='id', hue='is_late', order=size_dict.values(), palette=PALETTE_ALT)\n",
    "\n",
    "set_labels(\n",
    "  'Amount of tasks per type of size', 'Type of size', 'Amount of tasks', \n",
    "  legend={'object': f.get_legend(), 'title': 'Delivery time', 'texts': ['Not Late', 'Late']\n",
    "})\n",
    "diff_size = with_hue(f, list(size_dict.values()), 5, 2, diff=True)"
   ]
  },
  {
   "cell_type": "markdown",
   "id": "2c072177",
   "metadata": {},
   "source": [
    "#### In the graph we can see that there are more deliveries with size X Small and Medium than the others. However, what is important here is to analyze the percentage of tasks delivered on time and those that are not. There are no significant differences between Small and Small X-size tasks. In contrast, Medium, Large and X Large tasks have a significant difference in the percentage of on-time deliveries. This indicates that the size of deliverables affects on-time delivery when their size is equal to or larger than Medium."
   ]
  },
  {
   "cell_type": "code",
   "execution_count": null,
   "id": "2789dfc5",
   "metadata": {},
   "outputs": [],
   "source": [
    "plt.figure(figsize=(12,8))\n",
    "plt.tight_layout()\n",
    "sns.barplot(data=diff_size, x='class', y='value')\n",
    "set_labels(\n",
    "  title='Difference between the percentage of deliveries late minus not late deliveries\\nclassified by total size of delivery',\n",
    "  x_label='Class of size of deliveries', y_label='Amount of deliveries'\n",
    ")"
   ]
  },
  {
   "cell_type": "markdown",
   "id": "504394fb",
   "metadata": {},
   "source": [
    "### Question 3: Are tasks with fewer neighboring deliveries* taking longer to reach their delivery point?\n",
    "* We define neighboring deliveries as all those deliveries that are less than or equal to X KM away from the same and their delivery date is within T hours of the same."
   ]
  },
  {
   "cell_type": "code",
   "execution_count": null,
   "id": "44328411",
   "metadata": {},
   "outputs": [],
   "source": [
    "# We will group deliveries by route ID, to get the average distance and time from the first delivery to the last delivery. \n",
    "# With these values we will obtain distance and time ranges to find the route density.\n",
    "def haversine_distance(x, y):\n",
    "  lon1, lat1, lon2, lat2 = map(math.radians, [x[0], x[1], y[0], y[1]])\n",
    "  dlon = lon2 - lon1\n",
    "  dlat = lat2 - lat1\n",
    "  a = sin(dlat / 2) ** 2 + cos(lat1) * cos(lat2) * sin(dlon / 2) ** 2\n",
    "  c = 2 * math.asin(sqrt(a))\n",
    "  return R * c\n",
    "\n",
    "def generate_combinations(points):\n",
    "  combinations = []\n",
    "  for i in range(len(points)):\n",
    "    for j in range(i+1, len(points)):\n",
    "      combinations.append([points[i], points[j]])\n",
    "  return combinations\n",
    "\n",
    "def calculate_time(group):\n",
    "  min_dt = group['delivery_dt'].min()\n",
    "  max_dt = group['delivery_dt'].max()\n",
    "  return (max_dt - min_dt).total_seconds() / 3600\n",
    "\n",
    "def calculate_distance(group):\n",
    "  group = group.set_index('delivery_dt')\n",
    "  group = group.sort_values('delivery_dt')\n",
    "  center = (group['long'].mean(), group['lat'].mean())\n",
    "  return np.array(group.apply(lambda r: haversine_distance((r.long, r.lat), center), axis=1)).mean()\n",
    "\n",
    "gr_hours = df.groupby('route_id').apply(calculate_time)\n",
    "gr_distance = df.groupby('route_id').apply(calculate_distance)"
   ]
  },
  {
   "cell_type": "code",
   "execution_count": null,
   "id": "2ed84d13",
   "metadata": {},
   "outputs": [],
   "source": [
    "fig, ax =plt.subplots(1,2, figsize=(20,4))\n",
    "fig.tight_layout()\n",
    "\n",
    "ax[0].set_title('Distribution of time from first to last delivery')\n",
    "ax[0].set_xlabel('Time (hour)')\n",
    "sns.kdeplot(data=gr_distance, ax=ax[0], color=PALETTE[1])\n",
    "\n",
    "ax[1].set_title('Box plot of time from first to last delivery')\n",
    "ax[1].set_xlabel('Time (hour)')\n",
    "sns.boxenplot(data=gr_distance, ax=ax[1], color=PALETTE[1])\n",
    "\n",
    "print('Mean time from first delivery to the last delivery: {0:.2f} hours'.format(gr_hours.mean()))"
   ]
  },
  {
   "cell_type": "code",
   "execution_count": null,
   "id": "2a8dd854",
   "metadata": {},
   "outputs": [],
   "source": [
    "fig, ax =plt.subplots(1,2, figsize=(20,4))\n",
    "fig.tight_layout()\n",
    "\n",
    "ax[0].set_title('Distribution of distance from first to last delivery')\n",
    "ax[0].set_xlabel('Distnace (km)')\n",
    "sns.kdeplot(data=gr_hours, ax=ax[0], color=PALETTE[1])\n",
    "\n",
    "ax[1].set_title('Box plot of distance from first to last delivery')\n",
    "ax[1].set_xlabel('Distnace (km)')\n",
    "sns.boxenplot(data=gr_hours, ax=ax[1], color=PALETTE[1])\n",
    "print('Mean distance first delivery to the last delivery: {0:.2f} km'.format(gr_distance.mean()))"
   ]
  },
  {
   "cell_type": "markdown",
   "id": "fa2dd8c2",
   "metadata": {},
   "source": [
    "#### As we can see the scheduled time from the first delivery to the last delivery, on average, is 3.12 hours and the distance, on average, is 3.20 km. These values will be our time window and radius to use to determine the number of deliveries that exist around one"
   ]
  },
  {
   "cell_type": "code",
   "execution_count": null,
   "id": "3212ed86",
   "metadata": {},
   "outputs": [],
   "source": [
    "def task_around(row, inner):\n",
    "  diffs = (row['delivery_dt'] - inner['delivery_dt'])\n",
    "  diffs = np.abs(diffs.dt.total_seconds()) / 3600\n",
    "  inner = inner[ diffs <= WINDOW_TIME ]\n",
    "  distances = inner.apply(\n",
    "    lambda pt: haversine_distance((pt['long'], pt['lat']), (row['long'], row['lat'])),\n",
    "    axis=1\n",
    "  )\n",
    "  return len(inner[ distances <= KMS_AROUND ])\n",
    "\n",
    "R = 6371\n",
    "KMS_AROUND = 3.20\n",
    "WINDOW_TIME = 3.12\n",
    "task_around = df.apply(lambda r: task_around(r, df.copy()), axis=1)"
   ]
  },
  {
   "cell_type": "code",
   "execution_count": null,
   "id": "f0dc2deb",
   "metadata": {},
   "outputs": [],
   "source": [
    "df['task_around'] = task_around"
   ]
  },
  {
   "cell_type": "code",
   "execution_count": null,
   "id": "aa29e080",
   "metadata": {},
   "outputs": [],
   "source": [
    "df['class_neighboring'] = pd.cut(\n",
    "  df['task_around'], \n",
    "  include_lowest=True,\n",
    "  bins=[x for x in range(0, 800, 100)]\n",
    ")\n",
    "#df_filtered['class_neighboring'] = df_filtered['class_neighboring'].astype('str')"
   ]
  },
  {
   "cell_type": "code",
   "execution_count": null,
   "id": "4d8c3e94",
   "metadata": {},
   "outputs": [],
   "source": [
    "# Remoiving outlayers using the z-score\n",
    "z_scores = stats.zscore(df['task_around'])\n",
    "abs_z_scores = np.abs(z_scores)\n",
    "filtered_entries = abs_z_scores < 3\n",
    "df_filtered = df[ filtered_entries ]"
   ]
  },
  {
   "cell_type": "code",
   "execution_count": null,
   "id": "7cd65faa",
   "metadata": {},
   "outputs": [],
   "source": [
    "fig, ax =plt.subplots(1,2, figsize=(20,4))\n",
    "fig.tight_layout()\n",
    "\n",
    "ax[0].set_title('Distribution of neighboring deliveries')\n",
    "ax[0].set_xlabel('Neighboring deliveries')\n",
    "sns.kdeplot(data=task_around_filtered, ax=ax[0], color=PALETTE[1])\n",
    "\n",
    "ax[1].set_title('Box plot of neighboring deliveries')\n",
    "ax[1].set_xlabel('Neighboring deliveries')\n",
    "sns.boxenplot(data=task_around_filtered, ax=ax[1], color=PALETTE[1])\n",
    "\n",
    "print('Mean neighboring deliveries: {0:.2f} deliveries'.format(task_around_filtered.mean()))\n",
    "print('STD neighboring deliveries: {0:.2f}'.format(task_around_filtered.std()))"
   ]
  },
  {
   "cell_type": "code",
   "execution_count": null,
   "id": "1565e99e",
   "metadata": {},
   "outputs": [],
   "source": [
    "gnl = df_filtered[['id', 'class_neighboring', 'is_late']].groupby(['class_neighboring', 'is_late'])['id'].count().reset_index()\n",
    "plt.figure(figsize=(12,7))\n",
    "plt.tight_layout()\n",
    "f = sns.barplot(data=gnl, x='class_neighboring', y='id', hue='is_late', palette=PALETTE_ALT)\n",
    "\n",
    "set_labels(\n",
    "  'Amount of tasks per class of neighboring deliverie', 'Bind of neighboring deliveries', 'Amount of deliveries', \n",
    "  legend={'object': f.get_legend(), 'title': 'Delivery time', 'texts': ['Not Late', 'Late']\n",
    "})\n",
    "classes_list = df_filtered['class_neighboring'].sort_values().unique()\n",
    "diff_list = with_hue(f, classes_list, 7, 2, diff=True)"
   ]
  },
  {
   "cell_type": "markdown",
   "id": "9072fa7d",
   "metadata": {},
   "source": [
    "#### In the plot we can see that as the number of neighboring deliveries increases, the percentage of late deliveries also increases. This tells us that the higher the concentration or density of deliveries around you, the more likely it is that you will be late in reaching the final customer"
   ]
  },
  {
   "cell_type": "code",
   "execution_count": null,
   "id": "30a6a45c",
   "metadata": {},
   "outputs": [],
   "source": [
    "plt.figure(figsize=(12,8))\n",
    "plt.tight_layout()\n",
    "sns.barplot(data=diff_list, x='class', y='value')\n",
    "set_labels(\n",
    "  title='Difference between the percentage of deliveries late minus not late deliveries\\nclassified by number of neighboring deliveries',\n",
    "  x_label='Class of amount of neighboring deliveries', y_label='Amount of deliveries'\n",
    ")"
   ]
  },
  {
   "cell_type": "markdown",
   "id": "82913887",
   "metadata": {},
   "source": [
    "### Hour late vs Total weight"
   ]
  },
  {
   "cell_type": "code",
   "execution_count": null,
   "id": "dec40d4d",
   "metadata": {},
   "outputs": [],
   "source": [
    "diff = df['delivery'] - df['delivery_effective']\n",
    "df['delay_delivery'] = diff.apply(lambda x: abs(int(x.total_seconds()))) / 3600"
   ]
  },
  {
   "cell_type": "code",
   "execution_count": null,
   "id": "9b56c07a",
   "metadata": {},
   "outputs": [],
   "source": [
    "df = pd.read_pickle(\"../data/shippify_icd_task_new.pkl\", compression='gzip')"
   ]
  },
  {
   "cell_type": "code",
   "execution_count": null,
   "id": "256ff189",
   "metadata": {},
   "outputs": [],
   "source": [
    "def get_color(tasks):\n",
    "  \"\"\"Get color for task\"\"\"\n",
    "  if tasks == 0:\n",
    "    return 'black'\n",
    "  elif 0 <= tasks < 300:\n",
    "    return 'blue'\n",
    "  elif 300 <= tasks < 1000:\n",
    "    return 'red'\n",
    "\n",
    "def add_marker(row, map_stg):\n",
    "  folium.Marker(\n",
    "    location=[row['lat'], row['long']],\n",
    "    popup=row['id'],\n",
    "    icon=folium.Icon(color=get_color(row['task_around']))\n",
    "  ).add_to(map_stg)"
   ]
  },
  {
   "cell_type": "code",
   "execution_count": null,
   "id": "1d8edf85",
   "metadata": {},
   "outputs": [],
   "source": [
    "stg_map = folium.Map(location=[-33.469477, -70.643929], zoom_start=12)\n",
    "a = df \\\n",
    "[['lat', 'long', 'id', 'class_neighboring', 'task_around']].sample(200).apply(\n",
    "  lambda r: add_marker(r, stg_map), axis=1\n",
    ")\n",
    "#[ (df['task_around']>=400) & (df['task_around']<800) ] \\"
   ]
  },
  {
   "cell_type": "code",
   "execution_count": null,
   "id": "334ff650",
   "metadata": {},
   "outputs": [],
   "source": [
    "df_t = df.copy()"
   ]
  },
  {
   "cell_type": "code",
   "execution_count": null,
   "id": "559da98f",
   "metadata": {},
   "outputs": [],
   "source": [
    "df_t['hight_neight'] = np.where((df['task_around'] >= 300) & (df['task_around'] <= 1000), 1, 0)"
   ]
  },
  {
   "cell_type": "code",
   "execution_count": null,
   "id": "0261cd42",
   "metadata": {},
   "outputs": [],
   "source": [
    "plt.figure(figsize=(12,10))\n",
    "plt.tight_layout()\n",
    "sns.scatterplot(data=df_t[['hight_neight', 'lat', 'long']], x='lat', y='long', hue='hight_neight').set(xlim=(-33.7,-33.2), ylim=(-70.4,-70.95))"
   ]
  },
  {
   "cell_type": "markdown",
   "id": "cc8ff9bf",
   "metadata": {},
   "source": [
    "### Josue Cobos"
   ]
  },
  {
   "cell_type": "markdown",
   "id": "5533101e",
   "metadata": {},
   "source": [
    "### Question 4: Are those deliveries that are further from the economic center of Santiago de Chile those with the longest delivery delay?"
   ]
  },
  {
   "cell_type": "markdown",
   "id": "15c2f19d",
   "metadata": {},
   "source": [
    "*For response we will assume that \"Comuna Santiago\" is the economic center of Santiago"
   ]
  },
  {
   "cell_type": "code",
   "execution_count": null,
   "id": "54c6a3c6",
   "metadata": {},
   "outputs": [],
   "source": [
    "COMUNASANTIAGO = (-33.452618, -70.666634)\n",
    "def getDistanceFromCenter(row):\n",
    "  return haversine_distance(COMUNASANTIAGO, (row['lat'], row['long']))"
   ]
  },
  {
   "cell_type": "code",
   "execution_count": null,
   "id": "51312854",
   "metadata": {},
   "outputs": [],
   "source": [
    "df['dst_to_ec_center'] = df[['lat', 'long']].apply(getDistanceFromCenter, axis=1)"
   ]
  },
  {
   "cell_type": "code",
   "execution_count": null,
   "id": "7dc61cfc",
   "metadata": {},
   "outputs": [],
   "source": [
    "z_scores = stats.zscore(df['dst_to_ec_center'])\n",
    "abs_z_scores = np.abs(z_scores)\n",
    "filtered_entries = abs_z_scores < 3\n",
    "df_filtered = df[ filtered_entries ]"
   ]
  },
  {
   "cell_type": "code",
   "execution_count": null,
   "id": "a98e4f04",
   "metadata": {},
   "outputs": [],
   "source": [
    "plt.figure(figsize=(15,7))\n",
    "subdf = df_filtered[['dst_to_ec_center','delay_delivery']]\n",
    "f2 = sns.scatterplot(x=subdf['dst_to_ec_center'], y=subdf['delay_delivery'], color=PALETTE[1])\n",
    "set_labels(\n",
    "  title='Distance to economic center vs Delivery delay',\n",
    "  x_label='Distance to economic center (Km)', y_label='Delivery delay (s)'\n",
    ")"
   ]
  },
  {
   "cell_type": "code",
   "execution_count": null,
   "id": "721ef9f1",
   "metadata": {},
   "outputs": [],
   "source": [
    "# Correlation between 2 metrics\n",
    "subdf.corr()"
   ]
  },
  {
   "cell_type": "markdown",
   "id": "3d40b455",
   "metadata": {},
   "source": [
    "### Answer: Due to the non-existent correlation between the delay of shipments (delay_delivery) and distance to economic center (dst_to_ec_center), we can conclude that no matter how far your order is, it does not necessarily mean that it has a longer delay time."
   ]
  },
  {
   "cell_type": "code",
   "execution_count": null,
   "id": "68f3d11a",
   "metadata": {},
   "outputs": [],
   "source": []
  }
 ],
 "metadata": {
  "kernelspec": {
   "display_name": "Python 3",
   "language": "python",
   "name": "python3"
  },
  "language_info": {
   "codemirror_mode": {
    "name": "ipython",
    "version": 3
   },
   "file_extension": ".py",
   "mimetype": "text/x-python",
   "name": "python",
   "nbconvert_exporter": "python",
   "pygments_lexer": "ipython3",
   "version": "3.8.6"
  }
 },
 "nbformat": 4,
 "nbformat_minor": 5
}
