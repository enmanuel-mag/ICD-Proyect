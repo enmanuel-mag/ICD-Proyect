{
  "nbformat": 4,
  "nbformat_minor": 0,
  "metadata": {
    "colab": {
      "name": "ICDCollab.ipynb",
      "provenance": [],
      "collapsed_sections": []
    },
    "kernelspec": {
      "name": "python3",
      "display_name": "Python 3"
    },
    "language_info": {
      "name": "python"
    }
  },
  "cells": [
    {
      "cell_type": "code",
      "metadata": {
        "id": "S9dkUJuPBgn7"
      },
      "source": [
        "import json\n",
        "import pandas as pd\n",
        "import os"
      ],
      "execution_count": 15,
      "outputs": []
    },
    {
      "cell_type": "code",
      "metadata": {
        "colab": {
          "base_uri": "https://localhost:8080/",
          "height": 34
        },
        "id": "lZRi2sR9mhXY",
        "outputId": "c80e0432-4785-44de-cd89-07701960a4a2"
      },
      "source": [
        "import math\n",
        "import time\n",
        "import json\n",
        "import scipy\n",
        "import folium\n",
        "import pickle\n",
        "import numpy as np\n",
        "import pandas as pd\n",
        "import seaborn as sns\n",
        "from scipy import stats\n",
        "from datetime import datetime, time\n",
        "import matplotlib.pyplot as plt\n",
        "from numpy import cos, sin, arcsin, sqrt\n",
        "%matplotlib inline\n",
        "plt.figure(figsize=(20,5))\n",
        "PALETTE = [\"#FFC30D\", \"#EF404B\"]\n",
        "PALETTE_ALT = [\"#40EFE4\", \"#EF404B\"]\n",
        "PALETTE_DEG = [\"FF\"]"
      ],
      "execution_count": 186,
      "outputs": [
        {
          "output_type": "display_data",
          "data": {
            "text/plain": [
              "<Figure size 1440x360 with 0 Axes>"
            ]
          },
          "metadata": {
            "tags": []
          }
        }
      ]
    },
    {
      "cell_type": "code",
      "metadata": {
        "colab": {
          "base_uri": "https://localhost:8080/"
        },
        "id": "PWe33PeZkvZZ",
        "outputId": "185d1d28-0b5d-4866-bba5-bda99928c695"
      },
      "source": [
        "from google.colab import drive\n",
        "drive.mount('/content/drive')"
      ],
      "execution_count": 6,
      "outputs": [
        {
          "output_type": "stream",
          "text": [
            "Drive already mounted at /content/drive; to attempt to forcibly remount, call drive.mount(\"/content/drive\", force_remount=True).\n"
          ],
          "name": "stdout"
        }
      ]
    },
    {
      "cell_type": "code",
      "metadata": {
        "id": "eGjYwQTdzLeB"
      },
      "source": [
        "def set_labels(title=None, x_label=None, y_label=None, fontsize=14, legend=None):\n",
        "  if title is not None:\n",
        "    plt.title(title, fontsize=fontsize)\n",
        "  if x_label is not None:\n",
        "    plt.xlabel(x_label, fontsize=fontsize)\n",
        "  if y_label is not None:\n",
        "    plt.ylabel(y_label, fontsize=fontsize)\n",
        "  if legend is not None:\n",
        "    legend['object'].set_title(legend['title'])\n",
        "    for t, l in zip(legend['object'].texts, legend['texts']): t.set_text(l)"
      ],
      "execution_count": 182,
      "outputs": []
    },
    {
      "cell_type": "markdown",
      "metadata": {
        "id": "US_tXT7qtSgx"
      },
      "source": [
        "### Question 2: Does the traffic intensity at the destination point of a delivery influence the delivery time?"
      ]
    },
    {
      "cell_type": "code",
      "metadata": {
        "id": "LavRgwYcQXRL"
      },
      "source": [
        "coodinates = json.load(open('drive/MyDrive/ICD-Proyect/Proyect/Traffict/jobs_2345752_results_ICD_STG.json'))"
      ],
      "execution_count": 19,
      "outputs": []
    },
    {
      "cell_type": "code",
      "metadata": {
        "id": "bq3hYfVUVQDT"
      },
      "source": [
        "data = coodinates['network']['segmentResults']\n",
        "tDf = pd.DataFrame(data)"
      ],
      "execution_count": 20,
      "outputs": []
    },
    {
      "cell_type": "code",
      "metadata": {
        "colab": {
          "base_uri": "https://localhost:8080/",
          "height": 289
        },
        "id": "bYPeer81Vcl9",
        "outputId": "959a4c76-7b8c-4d20-f523-31988583404e"
      },
      "source": [
        "tDf.head()"
      ],
      "execution_count": 21,
      "outputs": [
        {
          "output_type": "execute_result",
          "data": {
            "text/html": [
              "<div>\n",
              "<style scoped>\n",
              "    .dataframe tbody tr th:only-of-type {\n",
              "        vertical-align: middle;\n",
              "    }\n",
              "\n",
              "    .dataframe tbody tr th {\n",
              "        vertical-align: top;\n",
              "    }\n",
              "\n",
              "    .dataframe thead th {\n",
              "        text-align: right;\n",
              "    }\n",
              "</style>\n",
              "<table border=\"1\" class=\"dataframe\">\n",
              "  <thead>\n",
              "    <tr style=\"text-align: right;\">\n",
              "      <th></th>\n",
              "      <th>segmentId</th>\n",
              "      <th>newSegmentId</th>\n",
              "      <th>speedLimit</th>\n",
              "      <th>frc</th>\n",
              "      <th>streetName</th>\n",
              "      <th>distance</th>\n",
              "      <th>shape</th>\n",
              "      <th>segmentProbeCounts</th>\n",
              "    </tr>\n",
              "  </thead>\n",
              "  <tbody>\n",
              "    <tr>\n",
              "      <th>0</th>\n",
              "      <td>-11520003519799</td>\n",
              "      <td>-0000434c-3100-0400-0000-000000000003</td>\n",
              "      <td>20</td>\n",
              "      <td>7</td>\n",
              "      <td>Calle Condominio Puerta Del Sol</td>\n",
              "      <td>55.66</td>\n",
              "      <td>[{'latitude': -33.52428, 'longitude': -70.5663...</td>\n",
              "      <td>[{'timeSet': 2, 'dateRange': 1, 'probeCount': ...</td>\n",
              "    </tr>\n",
              "    <tr>\n",
              "      <th>1</th>\n",
              "      <td>-11520002385576</td>\n",
              "      <td>-0000434c-3100-0400-0000-000000000004</td>\n",
              "      <td>35</td>\n",
              "      <td>6</td>\n",
              "      <td>Calle Cancha de Carrera</td>\n",
              "      <td>58.35</td>\n",
              "      <td>[{'latitude': -33.74733, 'longitude': -70.8667...</td>\n",
              "      <td>[{'timeSet': 2, 'dateRange': 1, 'probeCount': ...</td>\n",
              "    </tr>\n",
              "    <tr>\n",
              "      <th>2</th>\n",
              "      <td>-11520002879620</td>\n",
              "      <td>-0000434c-3100-0400-0000-000000000005</td>\n",
              "      <td>20</td>\n",
              "      <td>7</td>\n",
              "      <td>Calle Jardín Los Trapenses Dos</td>\n",
              "      <td>38.11</td>\n",
              "      <td>[{'latitude': -33.33121, 'longitude': -70.5428...</td>\n",
              "      <td>[{'timeSet': 2, 'dateRange': 1, 'probeCount': ...</td>\n",
              "    </tr>\n",
              "    <tr>\n",
              "      <th>3</th>\n",
              "      <td>-11520002876227</td>\n",
              "      <td>-0000434c-3100-0400-0000-000000000009</td>\n",
              "      <td>35</td>\n",
              "      <td>6</td>\n",
              "      <td>Calle Los Mostos</td>\n",
              "      <td>52.02</td>\n",
              "      <td>[{'latitude': -33.48595, 'longitude': -70.5566...</td>\n",
              "      <td>[{'timeSet': 2, 'dateRange': 1, 'probeCount': ...</td>\n",
              "    </tr>\n",
              "    <tr>\n",
              "      <th>4</th>\n",
              "      <td>-11520001662072</td>\n",
              "      <td>-0000434c-3100-0400-0000-00000000000a</td>\n",
              "      <td>35</td>\n",
              "      <td>7</td>\n",
              "      <td>NaN</td>\n",
              "      <td>89.93</td>\n",
              "      <td>[{'latitude': -33.71472, 'longitude': -70.7173...</td>\n",
              "      <td>[{'timeSet': 2, 'dateRange': 1, 'probeCount': ...</td>\n",
              "    </tr>\n",
              "  </tbody>\n",
              "</table>\n",
              "</div>"
            ],
            "text/plain": [
              "        segmentId  ...                                 segmentProbeCounts\n",
              "0 -11520003519799  ...  [{'timeSet': 2, 'dateRange': 1, 'probeCount': ...\n",
              "1 -11520002385576  ...  [{'timeSet': 2, 'dateRange': 1, 'probeCount': ...\n",
              "2 -11520002879620  ...  [{'timeSet': 2, 'dateRange': 1, 'probeCount': ...\n",
              "3 -11520002876227  ...  [{'timeSet': 2, 'dateRange': 1, 'probeCount': ...\n",
              "4 -11520001662072  ...  [{'timeSet': 2, 'dateRange': 1, 'probeCount': ...\n",
              "\n",
              "[5 rows x 8 columns]"
            ]
          },
          "metadata": {
            "tags": []
          },
          "execution_count": 21
        }
      ]
    },
    {
      "cell_type": "code",
      "metadata": {
        "id": "Fx0Ssa33_3cU"
      },
      "source": [
        "def reduceShape(latLonT, keyLat, keyLon):\n",
        "  if type(latLonT) == list:\n",
        "    newList = []\n",
        "    for latLon in latLonT:\n",
        "      lat = float('{0:.5g}'.format(latLon[keyLat]))\n",
        "      lon = float('{0:.5g}'.format(latLon[keyLon]))\n",
        "      newList.append({keyLat: lat , keyLon: lon})\n",
        "    return newList\n",
        "  else:\n",
        "    latLonT = json.loads(latLonT)\n",
        "    lat = float('{0:.5g}'.format(latLonT[keyLat]))\n",
        "    lon = float('{0:.5g}'.format(latLonT[keyLon]))\n",
        "    return {keyLat: lat , keyLon: lon}"
      ],
      "execution_count": 121,
      "outputs": []
    },
    {
      "cell_type": "code",
      "metadata": {
        "colab": {
          "base_uri": "https://localhost:8080/",
          "height": 204
        },
        "id": "PvF8_vnr_PC0",
        "outputId": "2986a49f-8272-428c-921e-170ad38df0b7"
      },
      "source": [
        "tDf['light_shape'] = tDf['shape'].apply(lambda x: reduceShape(x, 'latitude', 'longitude'))\n",
        "tDfShaped = tDf[:, ['segmentId', 'shape', 'segmentProbeCounts', 'light_shape']]\n",
        "tDf.head()"
      ],
      "execution_count": 102,
      "outputs": [
        {
          "output_type": "execute_result",
          "data": {
            "text/html": [
              "<div>\n",
              "<style scoped>\n",
              "    .dataframe tbody tr th:only-of-type {\n",
              "        vertical-align: middle;\n",
              "    }\n",
              "\n",
              "    .dataframe tbody tr th {\n",
              "        vertical-align: top;\n",
              "    }\n",
              "\n",
              "    .dataframe thead th {\n",
              "        text-align: right;\n",
              "    }\n",
              "</style>\n",
              "<table border=\"1\" class=\"dataframe\">\n",
              "  <thead>\n",
              "    <tr style=\"text-align: right;\">\n",
              "      <th></th>\n",
              "      <th>segmentId</th>\n",
              "      <th>shape</th>\n",
              "      <th>segmentProbeCounts</th>\n",
              "      <th>light_shape</th>\n",
              "    </tr>\n",
              "  </thead>\n",
              "  <tbody>\n",
              "    <tr>\n",
              "      <th>0</th>\n",
              "      <td>-11520003519799</td>\n",
              "      <td>[{'latitude': -33.52428, 'longitude': -70.5663...</td>\n",
              "      <td>[{'timeSet': 2, 'dateRange': 1, 'probeCount': ...</td>\n",
              "      <td>[{'latitude': -33.524, 'longitude': -70.566}, ...</td>\n",
              "    </tr>\n",
              "    <tr>\n",
              "      <th>1</th>\n",
              "      <td>-11520002385576</td>\n",
              "      <td>[{'latitude': -33.74733, 'longitude': -70.8667...</td>\n",
              "      <td>[{'timeSet': 2, 'dateRange': 1, 'probeCount': ...</td>\n",
              "      <td>[{'latitude': -33.747, 'longitude': -70.867}, ...</td>\n",
              "    </tr>\n",
              "    <tr>\n",
              "      <th>2</th>\n",
              "      <td>-11520002879620</td>\n",
              "      <td>[{'latitude': -33.33121, 'longitude': -70.5428...</td>\n",
              "      <td>[{'timeSet': 2, 'dateRange': 1, 'probeCount': ...</td>\n",
              "      <td>[{'latitude': -33.331, 'longitude': -70.543}, ...</td>\n",
              "    </tr>\n",
              "    <tr>\n",
              "      <th>3</th>\n",
              "      <td>-11520002876227</td>\n",
              "      <td>[{'latitude': -33.48595, 'longitude': -70.5566...</td>\n",
              "      <td>[{'timeSet': 2, 'dateRange': 1, 'probeCount': ...</td>\n",
              "      <td>[{'latitude': -33.486, 'longitude': -70.557}, ...</td>\n",
              "    </tr>\n",
              "    <tr>\n",
              "      <th>4</th>\n",
              "      <td>-11520001662072</td>\n",
              "      <td>[{'latitude': -33.71472, 'longitude': -70.7173...</td>\n",
              "      <td>[{'timeSet': 2, 'dateRange': 1, 'probeCount': ...</td>\n",
              "      <td>[{'latitude': -33.715, 'longitude': -70.717}, ...</td>\n",
              "    </tr>\n",
              "  </tbody>\n",
              "</table>\n",
              "</div>"
            ],
            "text/plain": [
              "        segmentId  ...                                        light_shape\n",
              "0 -11520003519799  ...  [{'latitude': -33.524, 'longitude': -70.566}, ...\n",
              "1 -11520002385576  ...  [{'latitude': -33.747, 'longitude': -70.867}, ...\n",
              "2 -11520002879620  ...  [{'latitude': -33.331, 'longitude': -70.543}, ...\n",
              "3 -11520002876227  ...  [{'latitude': -33.486, 'longitude': -70.557}, ...\n",
              "4 -11520001662072  ...  [{'latitude': -33.715, 'longitude': -70.717}, ...\n",
              "\n",
              "[5 rows x 4 columns]"
            ]
          },
          "metadata": {
            "tags": []
          },
          "execution_count": 102
        }
      ]
    },
    {
      "cell_type": "code",
      "metadata": {
        "id": "YWf9Zbfienl2",
        "colab": {
          "base_uri": "https://localhost:8080/"
        },
        "outputId": "8522bcb4-0b27-44f9-bccd-79fcc5fd458c"
      },
      "source": [
        "tDf.loc[356, 'segmentProbeCounts']"
      ],
      "execution_count": 34,
      "outputs": [
        {
          "output_type": "execute_result",
          "data": {
            "text/plain": [
              "[{'dateRange': 1, 'probeCount': 0, 'timeSet': 2},\n",
              " {'dateRange': 1, 'probeCount': 0, 'timeSet': 3},\n",
              " {'dateRange': 1, 'probeCount': 0, 'timeSet': 4},\n",
              " {'dateRange': 1, 'probeCount': 0, 'timeSet': 5},\n",
              " {'dateRange': 1, 'probeCount': 1, 'timeSet': 6},\n",
              " {'dateRange': 1, 'probeCount': 1, 'timeSet': 7},\n",
              " {'dateRange': 1, 'probeCount': 0, 'timeSet': 8},\n",
              " {'dateRange': 1, 'probeCount': 1, 'timeSet': 9}]"
            ]
          },
          "metadata": {
            "tags": []
          },
          "execution_count": 34
        }
      ]
    },
    {
      "cell_type": "code",
      "metadata": {
        "colab": {
          "base_uri": "https://localhost:8080/"
        },
        "id": "2QMpUdgtpkwq",
        "outputId": "af29e3ec-cd88-44c5-fa33-4b038f89baaf"
      },
      "source": [
        "coodinates.keys()"
      ],
      "execution_count": 38,
      "outputs": [
        {
          "output_type": "execute_result",
          "data": {
            "text/plain": [
              "dict_keys(['jobName', 'creationTime', 'userPreference', 'dateRanges', 'timeSets', 'network'])"
            ]
          },
          "metadata": {
            "tags": []
          },
          "execution_count": 38
        }
      ]
    },
    {
      "cell_type": "code",
      "metadata": {
        "colab": {
          "base_uri": "https://localhost:8080/"
        },
        "id": "S0c4mC5Fre0T",
        "outputId": "b1e8ba98-64fc-4e24-97c9-09d7824e9c7d"
      },
      "source": [
        "coodinates['dateRanges']"
      ],
      "execution_count": 40,
      "outputs": [
        {
          "output_type": "execute_result",
          "data": {
            "text/plain": [
              "[{'@id': 1,\n",
              "  'excludedDaysOfWeek': [],\n",
              "  'exclusions': [],\n",
              "  'from': '2020-01-01',\n",
              "  'name': 'January',\n",
              "  'to': '2020-01-31'}]"
            ]
          },
          "metadata": {
            "tags": []
          },
          "execution_count": 40
        }
      ]
    },
    {
      "cell_type": "code",
      "metadata": {
        "id": "EIXE9Ji8xxT-"
      },
      "source": [
        "def time_in_range(start, end, x):\n",
        "    \"\"\"Return true if x is in the range [start, end]\"\"\"\n",
        "    start = start.time()\n",
        "    end = end.time()\n",
        "    if start <= end:\n",
        "        return start <= x <= end\n",
        "    else:\n",
        "        return start <= x or x <= end"
      ],
      "execution_count": 46,
      "outputs": []
    },
    {
      "cell_type": "code",
      "metadata": {
        "id": "lcun7RlcqMDN"
      },
      "source": [
        "timeRangesList = []\n",
        "initialStrDay = coodinates['dateRanges'][0]['from']\n",
        "for timeSet in coodinates['timeSets']:\n",
        "  ranges = timeSet['dayToTimeRanges']\n",
        "  range = ranges[0]\n",
        "  fromHour, toHour = range['timeRanges'][0].split('-')\n",
        "  timeTuple = (\n",
        "      timeSet['@id'],\n",
        "      datetime.fromisoformat('{} {}'.format(initialStrDay, fromHour)),\n",
        "      datetime.fromisoformat('{} {}'.format(initialStrDay, toHour if toHour != \"24:00\" else \"23:59\"))\n",
        "  )\n",
        "  timeRangesList.append(timeTuple)\n",
        "timeRangesList[::2]"
      ],
      "execution_count": null,
      "outputs": []
    },
    {
      "cell_type": "code",
      "metadata": {
        "id": "euNjUNLkm6Ca"
      },
      "source": [
        "df = pd.read_pickle('drive/MyDrive/ICD-Proyect/Proyect/data/shippify_icd_new.pkl', compression='gzip')\n",
        "df = df.dropna(subset=['pickup_effective_dt', 'delivery_effective'])"
      ],
      "execution_count": 90,
      "outputs": []
    },
    {
      "cell_type": "code",
      "metadata": {
        "id": "se80x4m7upO9"
      },
      "source": [
        "diff = df['delivery_dt'] - df['delivery_effective']\n",
        "df['delay_delivery'] = diff.apply(lambda x: abs(int(x.total_seconds()))) / 3600"
      ],
      "execution_count": 176,
      "outputs": []
    },
    {
      "cell_type": "code",
      "metadata": {
        "colab": {
          "base_uri": "https://localhost:8080/",
          "height": 204
        },
        "id": "j3_0_LWqFBRH",
        "outputId": "283fabf5-0a09-4e42-d761-7f6376ec2a65"
      },
      "source": [
        "df['light_shape'] = df['delivery_location'].apply(lambda x: reduceShape(x, 'lat', 'lng'))\n",
        "df.head()"
      ],
      "execution_count": 122,
      "outputs": [
        {
          "output_type": "execute_result",
          "data": {
            "text/html": [
              "<div>\n",
              "<style scoped>\n",
              "    .dataframe tbody tr th:only-of-type {\n",
              "        vertical-align: middle;\n",
              "    }\n",
              "\n",
              "    .dataframe tbody tr th {\n",
              "        vertical-align: top;\n",
              "    }\n",
              "\n",
              "    .dataframe thead th {\n",
              "        text-align: right;\n",
              "    }\n",
              "</style>\n",
              "<table border=\"1\" class=\"dataframe\">\n",
              "  <thead>\n",
              "    <tr style=\"text-align: right;\">\n",
              "      <th></th>\n",
              "      <th>id</th>\n",
              "      <th>light_shape</th>\n",
              "    </tr>\n",
              "  </thead>\n",
              "  <tbody>\n",
              "    <tr>\n",
              "      <th>0</th>\n",
              "      <td>t-expspa-41</td>\n",
              "      <td>{'lat': -33.475, 'lng': -70.566}</td>\n",
              "    </tr>\n",
              "    <tr>\n",
              "      <th>1</th>\n",
              "      <td>t-expspa-25</td>\n",
              "      <td>{'lat': -33.555, 'lng': -70.606}</td>\n",
              "    </tr>\n",
              "    <tr>\n",
              "      <th>2</th>\n",
              "      <td>t-expspa-46</td>\n",
              "      <td>{'lat': -33.352, 'lng': -70.666}</td>\n",
              "    </tr>\n",
              "    <tr>\n",
              "      <th>4</th>\n",
              "      <td>t-expspa-29</td>\n",
              "      <td>{'lat': -33.45, 'lng': -70.763}</td>\n",
              "    </tr>\n",
              "    <tr>\n",
              "      <th>5</th>\n",
              "      <td>t-expspa-23</td>\n",
              "      <td>{'lat': -33.45, 'lng': -70.763}</td>\n",
              "    </tr>\n",
              "  </tbody>\n",
              "</table>\n",
              "</div>"
            ],
            "text/plain": [
              "            id                       light_shape\n",
              "0  t-expspa-41  {'lat': -33.475, 'lng': -70.566}\n",
              "1  t-expspa-25  {'lat': -33.555, 'lng': -70.606}\n",
              "2  t-expspa-46  {'lat': -33.352, 'lng': -70.666}\n",
              "4  t-expspa-29   {'lat': -33.45, 'lng': -70.763}\n",
              "5  t-expspa-23   {'lat': -33.45, 'lng': -70.763}"
            ]
          },
          "metadata": {
            "tags": []
          },
          "execution_count": 122
        }
      ]
    },
    {
      "cell_type": "code",
      "metadata": {
        "id": "93fMBr6YQNwe"
      },
      "source": [
        "def getTraffic(row, trafficDf):\n",
        "  delivery_effective = row['delivery_effective']\n",
        "  latLon = row['light_shape']\n",
        "  lat = latLon['lat']\n",
        "  lon = latLon['lng']\n",
        "  sameLatLon = False\n",
        "  timeSetNo = -1\n",
        "  traffic = -1\n",
        "  for _, geoRow  in trafficDf.iterrows():\n",
        "    trafficsLatLon = geoRow['light_shape']\n",
        "    probesCounts = geoRow['segmentProbeCounts']\n",
        "    for trafficLatLon in trafficsLatLon:\n",
        "      tLat = trafficLatLon['latitude']\n",
        "      tLon = trafficLatLon['longitude']\n",
        "      if lat == tLat and lon == tLon:\n",
        "        sameLatLon = True;\n",
        "    if sameLatLon:\n",
        "      for timeRange in timeRangesList:\n",
        "        if time_in_range(timeRange[1], timeRange[2], delivery_effective):\n",
        "          timeSetNo = timeRange[0]\n",
        "    if timeSetNo != -1:\n",
        "      for segment in probesCounts:\n",
        "        if segment['timeSet'] == timeSetNo:\n",
        "          traffic = segment['probeCount']\n",
        "    \n",
        "    return traffic"
      ],
      "execution_count": 188,
      "outputs": []
    },
    {
      "cell_type": "code",
      "metadata": {
        "colab": {
          "base_uri": "https://localhost:8080/"
        },
        "id": "BBjPWGzXjdD-",
        "outputId": "7e625950-c0a0-4363-b359-1096c5f4823d"
      },
      "source": [
        "tDfShaped.info()"
      ],
      "execution_count": 145,
      "outputs": [
        {
          "output_type": "stream",
          "text": [
            "<class 'pandas.core.frame.DataFrame'>\n",
            "RangeIndex: 568016 entries, 0 to 568015\n",
            "Data columns (total 4 columns):\n",
            " #   Column              Non-Null Count   Dtype \n",
            "---  ------              --------------   ----- \n",
            " 0   segmentId           568016 non-null  int64 \n",
            " 1   shape               568016 non-null  object\n",
            " 2   segmentProbeCounts  568016 non-null  object\n",
            " 3   light_shape         568016 non-null  object\n",
            "dtypes: int64(1), object(3)\n",
            "memory usage: 17.3+ MB\n"
          ],
          "name": "stdout"
        }
      ]
    },
    {
      "cell_type": "code",
      "metadata": {
        "colab": {
          "base_uri": "https://localhost:8080/",
          "height": 343
        },
        "id": "CvegpetzMDQR",
        "outputId": "23760981-afa9-4a01-cc68-f32e20ea978a"
      },
      "source": [
        "dfSample = df.sample(n = 1000)\n",
        "dfSample['traffic'] = dfSample[['light_shape', 'delivery_effective']].apply(lambda x: getTraffic(x, tDfShaped), axis=1)\n",
        "dfSample.head()"
      ],
      "execution_count": 189,
      "outputs": [
        {
          "output_type": "execute_result",
          "data": {
            "text/html": [
              "<div>\n",
              "<style scoped>\n",
              "    .dataframe tbody tr th:only-of-type {\n",
              "        vertical-align: middle;\n",
              "    }\n",
              "\n",
              "    .dataframe tbody tr th {\n",
              "        vertical-align: top;\n",
              "    }\n",
              "\n",
              "    .dataframe thead th {\n",
              "        text-align: right;\n",
              "    }\n",
              "</style>\n",
              "<table border=\"1\" class=\"dataframe\">\n",
              "  <thead>\n",
              "    <tr style=\"text-align: right;\">\n",
              "      <th></th>\n",
              "      <th>id</th>\n",
              "      <th>route_id</th>\n",
              "      <th>creation_date</th>\n",
              "      <th>delivery_type</th>\n",
              "      <th>city</th>\n",
              "      <th>cost</th>\n",
              "      <th>total_size</th>\n",
              "      <th>distance</th>\n",
              "      <th>company_id</th>\n",
              "      <th>company_type</th>\n",
              "      <th>network_id</th>\n",
              "      <th>pickup_dt</th>\n",
              "      <th>pickup_effective_dt</th>\n",
              "      <th>pickuplat</th>\n",
              "      <th>pickuplng</th>\n",
              "      <th>pickup_location</th>\n",
              "      <th>delivery_dt</th>\n",
              "      <th>delivery_effective</th>\n",
              "      <th>lat</th>\n",
              "      <th>long</th>\n",
              "      <th>delivery_location</th>\n",
              "      <th>items</th>\n",
              "      <th>light_shape</th>\n",
              "      <th>delay_delivery</th>\n",
              "      <th>traffic</th>\n",
              "    </tr>\n",
              "  </thead>\n",
              "  <tbody>\n",
              "    <tr>\n",
              "      <th>197719</th>\n",
              "      <td>t-faldis-280658</td>\n",
              "      <td>r-shiinc-273546</td>\n",
              "      <td>2020-06-12 02:18:30+00:00</td>\n",
              "      <td>slot</td>\n",
              "      <td>3</td>\n",
              "      <td>1500.000000</td>\n",
              "      <td>3</td>\n",
              "      <td>23.799999</td>\n",
              "      <td>982</td>\n",
              "      <td>1</td>\n",
              "      <td>286</td>\n",
              "      <td>2020-06-12 13:30:00+00:00</td>\n",
              "      <td>2020-06-12 15:45:30+00:00</td>\n",
              "      <td>-33.527901</td>\n",
              "      <td>-70.706398</td>\n",
              "      <td>{\"lat\":-33.5279,\"lng\":-70.7064,\"instructions\":...</td>\n",
              "      <td>2020-06-12 14:30:00+00:00</td>\n",
              "      <td>2020-06-12 23:47:07+00:00</td>\n",
              "      <td>-33.411499</td>\n",
              "      <td>-70.566803</td>\n",
              "      <td>{\"lat\":-33.4114577,\"lng\":-70.5667916,\"instruct...</td>\n",
              "      <td>[{\"name\":\"144057015421\",\"size\":3,\"qty\":1,\"id\":...</td>\n",
              "      <td>{'lat': -33.411, 'lng': -70.567}</td>\n",
              "      <td>9.285278</td>\n",
              "      <td>0</td>\n",
              "    </tr>\n",
              "    <tr>\n",
              "      <th>120879</th>\n",
              "      <td>t-lipisa-31951</td>\n",
              "      <td>r-shiinc-314066</td>\n",
              "      <td>2020-07-30 19:30:21+00:00</td>\n",
              "      <td>slot</td>\n",
              "      <td>3</td>\n",
              "      <td>1352.000000</td>\n",
              "      <td>1</td>\n",
              "      <td>27.700001</td>\n",
              "      <td>4418</td>\n",
              "      <td>1</td>\n",
              "      <td>301</td>\n",
              "      <td>2020-07-31 15:45:00+00:00</td>\n",
              "      <td>2020-07-31 17:23:12+00:00</td>\n",
              "      <td>-33.429001</td>\n",
              "      <td>-70.793297</td>\n",
              "      <td>{\"lat\":-33.4290305,\"lng\":-70.7933018,\"instruct...</td>\n",
              "      <td>2020-07-31 20:03:37+00:00</td>\n",
              "      <td>2020-07-31 23:14:43+00:00</td>\n",
              "      <td>-33.443802</td>\n",
              "      <td>-70.547203</td>\n",
              "      <td>{\"lat\":-33.4438213,\"lng\":-70.5471544,\"instruct...</td>\n",
              "      <td>[{\"id\":\"\",\"name\":\"\",\"size\":1,\"qty\":1,\"price\":5...</td>\n",
              "      <td>{'lat': -33.444, 'lng': -70.547}</td>\n",
              "      <td>3.185000</td>\n",
              "      <td>1</td>\n",
              "    </tr>\n",
              "    <tr>\n",
              "      <th>61433</th>\n",
              "      <td>t-ripace-25265</td>\n",
              "      <td>r-shiinc-298763</td>\n",
              "      <td>2020-07-13 12:11:09+00:00</td>\n",
              "      <td>slot</td>\n",
              "      <td>3</td>\n",
              "      <td>1800.000000</td>\n",
              "      <td>1</td>\n",
              "      <td>8.000000</td>\n",
              "      <td>1985</td>\n",
              "      <td>1</td>\n",
              "      <td>286</td>\n",
              "      <td>2020-07-13 16:00:00+00:00</td>\n",
              "      <td>2020-07-13 15:34:40+00:00</td>\n",
              "      <td>-33.477299</td>\n",
              "      <td>-70.652100</td>\n",
              "      <td>{\"lat\":-33.4773136,\"lng\":-70.6521042,\"instruct...</td>\n",
              "      <td>2020-07-13 17:34:53+00:00</td>\n",
              "      <td>2020-07-13 17:41:37+00:00</td>\n",
              "      <td>-33.494801</td>\n",
              "      <td>-70.585701</td>\n",
              "      <td>{\"lat\":-33.4947654,\"lng\":-70.5856672,\"instruct...</td>\n",
              "      <td>[{\"name\":\"83209186-C\",\"size\":1,\"qty\":1,\"id\":\"P...</td>\n",
              "      <td>{'lat': -33.495, 'lng': -70.586}</td>\n",
              "      <td>0.112222</td>\n",
              "      <td>0</td>\n",
              "    </tr>\n",
              "    <tr>\n",
              "      <th>191707</th>\n",
              "      <td>t-babuto-78252</td>\n",
              "      <td>r-shiinc-316777</td>\n",
              "      <td>2020-07-31 19:10:56+00:00</td>\n",
              "      <td>slot</td>\n",
              "      <td>3</td>\n",
              "      <td>1511.329956</td>\n",
              "      <td>1</td>\n",
              "      <td>19.600000</td>\n",
              "      <td>162</td>\n",
              "      <td>1</td>\n",
              "      <td>286</td>\n",
              "      <td>2020-08-03 19:00:00+00:00</td>\n",
              "      <td>2020-08-03 19:17:21+00:00</td>\n",
              "      <td>-33.432201</td>\n",
              "      <td>-70.796898</td>\n",
              "      <td>{\"lat\":-33.4322,\"lng\":-70.7969,\"instructions\":...</td>\n",
              "      <td>2020-08-03 20:00:32+00:00</td>\n",
              "      <td>2020-08-03 21:10:56+00:00</td>\n",
              "      <td>-33.426498</td>\n",
              "      <td>-70.616096</td>\n",
              "      <td>{\"lat\":-33.426506,\"lng\":-70.616094,\"instructio...</td>\n",
              "      <td>[{\"id\":\"533796\",\"name\":\"533796\",\"qty\":1,\"size\"...</td>\n",
              "      <td>{'lat': -33.427, 'lng': -70.616}</td>\n",
              "      <td>1.173333</td>\n",
              "      <td>0</td>\n",
              "    </tr>\n",
              "    <tr>\n",
              "      <th>102382</th>\n",
              "      <td>t-womnta-10659</td>\n",
              "      <td>r-shiinc-266753</td>\n",
              "      <td>2020-06-04 23:30:39+00:00</td>\n",
              "      <td>slot</td>\n",
              "      <td>3</td>\n",
              "      <td>2000.000000</td>\n",
              "      <td>3</td>\n",
              "      <td>28.900000</td>\n",
              "      <td>4656</td>\n",
              "      <td>1</td>\n",
              "      <td>286</td>\n",
              "      <td>2020-06-05 15:00:00+00:00</td>\n",
              "      <td>2020-06-05 17:13:22+00:00</td>\n",
              "      <td>-33.301601</td>\n",
              "      <td>-70.709801</td>\n",
              "      <td>{\"lat\":-33.3016,\"lng\":-70.7098,\"instructions\":...</td>\n",
              "      <td>2020-06-05 16:00:00+00:00</td>\n",
              "      <td>2020-06-05 18:05:31+00:00</td>\n",
              "      <td>-33.525501</td>\n",
              "      <td>-70.633904</td>\n",
              "      <td>{\"lat\":-33.5255061,\"lng\":-70.6338471,\"instruct...</td>\n",
              "      <td>[{\"name\":\"19853241\",\"size\":3,\"qty\":1,\"price\":1...</td>\n",
              "      <td>{'lat': -33.526, 'lng': -70.634}</td>\n",
              "      <td>2.091944</td>\n",
              "      <td>0</td>\n",
              "    </tr>\n",
              "  </tbody>\n",
              "</table>\n",
              "</div>"
            ],
            "text/plain": [
              "                     id         route_id  ... delay_delivery traffic\n",
              "197719  t-faldis-280658  r-shiinc-273546  ...       9.285278       0\n",
              "120879   t-lipisa-31951  r-shiinc-314066  ...       3.185000       1\n",
              "61433    t-ripace-25265  r-shiinc-298763  ...       0.112222       0\n",
              "191707   t-babuto-78252  r-shiinc-316777  ...       1.173333       0\n",
              "102382   t-womnta-10659  r-shiinc-266753  ...       2.091944       0\n",
              "\n",
              "[5 rows x 25 columns]"
            ]
          },
          "metadata": {
            "tags": []
          },
          "execution_count": 189
        }
      ]
    },
    {
      "cell_type": "code",
      "metadata": {
        "colab": {
          "base_uri": "https://localhost:8080/",
          "height": 463
        },
        "id": "R6hDkchbxjzy",
        "outputId": "be891b82-1843-4fd7-b951-cc823b162a1e"
      },
      "source": [
        "plt.figure(figsize=(15,7))\n",
        "subdf = dfSample[['traffic','delay_delivery']]\n",
        "f2 = sns.scatterplot(x=subdf['delay_delivery'], y=subdf['traffic'], color=PALETTE[1])\n",
        "set_labels(\n",
        "  title='Delivery delay vs Traffic unit ',\n",
        "  x_label='Delivery delay (h)', y_label='Traffic unit'\n",
        ")"
      ],
      "execution_count": 190,
      "outputs": [
        {
          "output_type": "display_data",
          "data": {
            "image/png": "[encoded data removed]",
            "text/plain": [
              "<Figure size 1080x504 with 1 Axes>"
            ]
          },
          "metadata": {
            "tags": [],
            "needs_background": "light"
          }
        }
      ]
    },
    {
      "cell_type": "code",
      "metadata": {
        "colab": {
          "base_uri": "https://localhost:8080/",
          "height": 111
        },
        "id": "bw-nj3AT4DkQ",
        "outputId": "b069e165-1ace-4ea7-a3eb-a06f13412ce6"
      },
      "source": [
        "subdf.corr()"
      ],
      "execution_count": 191,
      "outputs": [
        {
          "output_type": "execute_result",
          "data": {
            "text/html": [
              "<div>\n",
              "<style scoped>\n",
              "    .dataframe tbody tr th:only-of-type {\n",
              "        vertical-align: middle;\n",
              "    }\n",
              "\n",
              "    .dataframe tbody tr th {\n",
              "        vertical-align: top;\n",
              "    }\n",
              "\n",
              "    .dataframe thead th {\n",
              "        text-align: right;\n",
              "    }\n",
              "</style>\n",
              "<table border=\"1\" class=\"dataframe\">\n",
              "  <thead>\n",
              "    <tr style=\"text-align: right;\">\n",
              "      <th></th>\n",
              "      <th>traffic</th>\n",
              "      <th>delay_delivery</th>\n",
              "    </tr>\n",
              "  </thead>\n",
              "  <tbody>\n",
              "    <tr>\n",
              "      <th>traffic</th>\n",
              "      <td>1.000000</td>\n",
              "      <td>-0.036527</td>\n",
              "    </tr>\n",
              "    <tr>\n",
              "      <th>delay_delivery</th>\n",
              "      <td>-0.036527</td>\n",
              "      <td>1.000000</td>\n",
              "    </tr>\n",
              "  </tbody>\n",
              "</table>\n",
              "</div>"
            ],
            "text/plain": [
              "                 traffic  delay_delivery\n",
              "traffic         1.000000       -0.036527\n",
              "delay_delivery -0.036527        1.000000"
            ]
          },
          "metadata": {
            "tags": []
          },
          "execution_count": 191
        }
      ]
    }
  ]
}