{
 "cells": [
  {
   "cell_type": "code",
   "execution_count": 4,
   "metadata": {},
   "outputs": [],
   "source": [
    "import pandas as pd\n",
    "import json"
   ]
  },
  {
   "cell_type": "code",
   "execution_count": null,
   "metadata": {},
   "outputs": [],
   "source": [
    "df = pd.read_json('./jobs_2297876_results_First_test.json')"
   ]
  },
  {
   "cell_type": "code",
   "execution_count": 6,
   "metadata": {},
   "outputs": [],
   "source": [
    "js = json.load(open('./jobs_2297876_results_First_test.json'))"
   ]
  },
  {
   "cell_type": "code",
   "execution_count": 8,
   "metadata": {},
   "outputs": [
    {
     "data": {
      "text/plain": [
       "dict_keys(['jobName', 'creationTime', 'userPreference', 'dateRanges', 'timeSets', 'network'])"
      ]
     },
     "execution_count": 8,
     "metadata": {},
     "output_type": "execute_result"
    }
   ],
   "source": [
    "js.keys()"
   ]
  },
  {
   "cell_type": "code",
   "execution_count": 14,
   "metadata": {},
   "outputs": [],
   "source": [
    "data = js['network']['segmentResults']"
   ]
  },
  {
   "cell_type": "code",
   "execution_count": null,
   "metadata": {},
   "outputs": [],
   "source": []
  },
  {
   "cell_type": "code",
   "execution_count": 15,
   "metadata": {},
   "outputs": [],
   "source": [
    "df = pd.DataFrame(data)"
   ]
  },
  {
   "cell_type": "code",
   "execution_count": 16,
   "metadata": {},
   "outputs": [
    {
     "data": {
      "text/html": [
       "<div>\n",
       "<style scoped>\n",
       "    .dataframe tbody tr th:only-of-type {\n",
       "        vertical-align: middle;\n",
       "    }\n",
       "\n",
       "    .dataframe tbody tr th {\n",
       "        vertical-align: top;\n",
       "    }\n",
       "\n",
       "    .dataframe thead th {\n",
       "        text-align: right;\n",
       "    }\n",
       "</style>\n",
       "<table border=\"1\" class=\"dataframe\">\n",
       "  <thead>\n",
       "    <tr style=\"text-align: right;\">\n",
       "      <th></th>\n",
       "      <th>segmentId</th>\n",
       "      <th>newSegmentId</th>\n",
       "      <th>speedLimit</th>\n",
       "      <th>frc</th>\n",
       "      <th>streetName</th>\n",
       "      <th>distance</th>\n",
       "      <th>shape</th>\n",
       "      <th>segmentProbeCounts</th>\n",
       "    </tr>\n",
       "  </thead>\n",
       "  <tbody>\n",
       "    <tr>\n",
       "      <th>0</th>\n",
       "      <td>-10760060360552</td>\n",
       "      <td>-00004252-3500-0400-0000-000000b71edd</td>\n",
       "      <td>20</td>\n",
       "      <td>7</td>\n",
       "      <td>Rua Mauês</td>\n",
       "      <td>38.08</td>\n",
       "      <td>[{'latitude': -19.83015, 'longitude': -43.9816...</td>\n",
       "      <td>[{'timeSet': 2, 'dateRange': 1, 'probeCount': ...</td>\n",
       "    </tr>\n",
       "    <tr>\n",
       "      <th>1</th>\n",
       "      <td>-10760069405827</td>\n",
       "      <td>-00004252-3500-0400-0000-000000b7434b</td>\n",
       "      <td>35</td>\n",
       "      <td>6</td>\n",
       "      <td>Rua Quatorze</td>\n",
       "      <td>220.60</td>\n",
       "      <td>[{'latitude': -19.86913, 'longitude': -44.0236...</td>\n",
       "      <td>[{'timeSet': 2, 'dateRange': 1, 'probeCount': ...</td>\n",
       "    </tr>\n",
       "    <tr>\n",
       "      <th>2</th>\n",
       "      <td>-10760075654637</td>\n",
       "      <td>-00004252-3500-0400-0000-000000b7443b</td>\n",
       "      <td>35</td>\n",
       "      <td>6</td>\n",
       "      <td>Rua Heliodora</td>\n",
       "      <td>151.38</td>\n",
       "      <td>[{'latitude': -19.92694, 'longitude': -44.0250...</td>\n",
       "      <td>[{'timeSet': 2, 'dateRange': 1, 'probeCount': ...</td>\n",
       "    </tr>\n",
       "    <tr>\n",
       "      <th>3</th>\n",
       "      <td>-10760057390986</td>\n",
       "      <td>-00004252-3500-0400-0000-000000b74451</td>\n",
       "      <td>35</td>\n",
       "      <td>6</td>\n",
       "      <td>Rua Búzios</td>\n",
       "      <td>24.71</td>\n",
       "      <td>[{'latitude': -19.86708, 'longitude': -44.0258...</td>\n",
       "      <td>[{'timeSet': 2, 'dateRange': 1, 'probeCount': ...</td>\n",
       "    </tr>\n",
       "    <tr>\n",
       "      <th>4</th>\n",
       "      <td>-10760063203472</td>\n",
       "      <td>-00004252-3500-0400-0000-000000b74462</td>\n",
       "      <td>35</td>\n",
       "      <td>6</td>\n",
       "      <td>Rua U</td>\n",
       "      <td>86.83</td>\n",
       "      <td>[{'latitude': -19.86441, 'longitude': -44.0209...</td>\n",
       "      <td>[{'timeSet': 2, 'dateRange': 1, 'probeCount': ...</td>\n",
       "    </tr>\n",
       "  </tbody>\n",
       "</table>\n",
       "</div>"
      ],
      "text/plain": [
       "        segmentId                           newSegmentId  speedLimit  frc  \\\n",
       "0 -10760060360552  -00004252-3500-0400-0000-000000b71edd          20    7   \n",
       "1 -10760069405827  -00004252-3500-0400-0000-000000b7434b          35    6   \n",
       "2 -10760075654637  -00004252-3500-0400-0000-000000b7443b          35    6   \n",
       "3 -10760057390986  -00004252-3500-0400-0000-000000b74451          35    6   \n",
       "4 -10760063203472  -00004252-3500-0400-0000-000000b74462          35    6   \n",
       "\n",
       "      streetName  distance                                              shape  \\\n",
       "0      Rua Mauês     38.08  [{'latitude': -19.83015, 'longitude': -43.9816...   \n",
       "1   Rua Quatorze    220.60  [{'latitude': -19.86913, 'longitude': -44.0236...   \n",
       "2  Rua Heliodora    151.38  [{'latitude': -19.92694, 'longitude': -44.0250...   \n",
       "3     Rua Búzios     24.71  [{'latitude': -19.86708, 'longitude': -44.0258...   \n",
       "4          Rua U     86.83  [{'latitude': -19.86441, 'longitude': -44.0209...   \n",
       "\n",
       "                                  segmentProbeCounts  \n",
       "0  [{'timeSet': 2, 'dateRange': 1, 'probeCount': ...  \n",
       "1  [{'timeSet': 2, 'dateRange': 1, 'probeCount': ...  \n",
       "2  [{'timeSet': 2, 'dateRange': 1, 'probeCount': ...  \n",
       "3  [{'timeSet': 2, 'dateRange': 1, 'probeCount': ...  \n",
       "4  [{'timeSet': 2, 'dateRange': 1, 'probeCount': ...  "
      ]
     },
     "execution_count": 16,
     "metadata": {},
     "output_type": "execute_result"
    }
   ],
   "source": [
    "df.head()"
   ]
  },
  {
   "cell_type": "code",
   "execution_count": 20,
   "metadata": {},
   "outputs": [],
   "source": [
    "df.to_csv('./data_Set_traffict_BH_01_01_2020_31_01_2020.csv')"
   ]
  }
 ],
 "metadata": {
  "interpreter": {
   "hash": "b0fa6594d8f4cbf19f97940f81e996739fb7646882a419484c72d19e05852a7e"
  },
  "kernelspec": {
   "display_name": "Python 3.9.5 64-bit",
   "name": "python3"
  },
  "language_info": {
   "codemirror_mode": {
    "name": "ipython",
    "version": 3
   },
   "file_extension": ".py",
   "mimetype": "text/x-python",
   "name": "python",
   "nbconvert_exporter": "python",
   "pygments_lexer": "ipython3",
   "version": "3.9.5"
  },
  "orig_nbformat": 4
 },
 "nbformat": 4,
 "nbformat_minor": 2
}